{
    "cells": [
        {
            "cell_type": "markdown",
            "metadata": {},
            "source": [
                "# Вариант №2."
            ]
        },
        {
            "cell_type": "markdown",
            "metadata": {},
            "source": [
                "# Предисловие\n",
                "\n",
                "Ноутбук задуман так, чтобы вы ввели свой номер варианта, а затем запустили все ячейки. В результате вы получите ответы на вопросы ко всем задачам вашего варианта, останется только занести результаты в отчёт. Однако я настаиваю на том, чтобы минимально проверить входные данные.\n",
                "\n",
                "Возможные корректировки:\n",
                "- `plt.xlim` и `plt.ylim`, для корректного отображения графиков.\n",
                "- Параметр $\\pm 1000$ в [этой ячейке](#pm1000), если ваши данные очень близки к этим значениям и теоретически могут их принять.\n",
                "- В разделах [6](#6) и [7](#7) количество вариантов в данных `X` и `Y` в зависимости от варианта может быть разное. Можете посмотреть на вариант `№7`, там другие данные и показывается, как от этого меняется таблица в отчёте.\n",
                "\n",
                "Заинтересованный читатель в некоторых разделах может посмотреть пояснения к коду в необычных моментах, но в целом я старался сделать всё максимально понятным и простым.\n",
                "\n",
                "Этот ноутбук - полный копипаст варианта  `№7`, чтобы продемонстрировать, как с ним работать. Написанное здесь может отличаться только в ячейках `markdown`, но никак не в ячейках кода.\n",
                "\n",
                "Перед началом работы поменяйте путь к файлу с входными данными на свой [ячейке](#parse)."
            ]
        },
        {
            "cell_type": "markdown",
            "metadata": {},
            "source": [
                "# Оглавление\n",
                "\n",
                "- [0. Импорты и определения](#0)\n",
                "- [1. Описательные статистики](#1)\n",
                "    - [1.1. Выборочные характеристики](#11)\n",
                "    - [1.2. Группировка и гистограммы частот](#12)\n",
                "- [2. Интервальные оценки](#2)\n",
                "    - [2.1. Доверительные интервалы для математического ожидания](#21)\n",
                "    - [2.2. Доверительные интервалы для дисперсии](#22)\n",
                "    - [2.3. Доверительные интервалы для разности математических ожиданий](#23)\n",
                "    - [2.4. Доверительные интервалы для отношения дисперсий](#24)\n",
                "- [3. Проверка статистических гипотез о математических ожиданиях и дисперсиях](#3)\n",
                "    - [3.1. Проверка статистических гипотез о математических ожиданиях](#31)\n",
                "    - [3.2. Проверка статистических гипотез о дисперсиях](#32)\n",
                "    - [3.3. Проверка статистических гипотез о равенстве математических ожиданий](#33)\n",
                "    - [3.4. Проверка статистических гипотез о равенстве дисперсий](#34)\n",
                "- [4. Критерии согласия](#4)\n",
                "    - [4.1. Критерий $\\chi^2$](#41)\n",
                "    - [4.2. Критерий Харке-Бера](#42)\n",
                "- [5. Проверка однородности выборок](#5)\n",
                "    - [5.1. Критерий знаков](#51)\n",
                "    - [5.2. Критерий $\\chi^2$](#52)\n",
                "- [6. Таблицы сопряжённости](#6)\n",
                "- [7. Дисперсионный анализ](#7)\n",
                "- [8. Корреляционный анализ](#8)\n",
                "    - [8.1. Рассчёт парных коэффициентов корреляции](#81)\n",
                "    - [8.2. Рассчёт множественных коэффициентов корреляции](#82)\n",
                "- [9. Регрессионный анализ](#9)\n",
                "    - [9.1. Простейшая линейная регрессионная модель](#91)\n",
                "    - [9.2. Линейная регрессионная модель общего вида](#92)\n",
                "    - [9.3. Множественная линейная регрессионная модель](#93)\n",
                "    - [9.4. Выводы](#94)"
            ]
        },
        {
            "cell_type": "code",
            "execution_count": 1,
            "metadata": {},
            "outputs": [],
            "source": [
                "variant = 2"
            ]
        },
        {
            "cell_type": "markdown",
            "metadata": {},
            "source": [
                "<a id=\"0\"></a>"
            ]
        },
        {
            "cell_type": "markdown",
            "metadata": {},
            "source": [
                "# Импорты и определения"
            ]
        },
        {
            "cell_type": "markdown",
            "metadata": {},
            "source": [
                "### Библиотеки и их настройка"
            ]
        },
        {
            "cell_type": "code",
            "execution_count": 2,
            "metadata": {},
            "outputs": [],
            "source": [
                "import numpy as np\n",
                "import pandas as pd\n",
                "from scipy import stats\n",
                "import matplotlib.pyplot as plt\n",
                "import math as m\n",
                "import statsmodels.api as sm\n",
                "from IPython.display import display, Markdown  # для вывода формул в консоль"
            ]
        },
        {
            "cell_type": "code",
            "execution_count": 3,
            "metadata": {},
            "outputs": [],
            "source": [
                "def mprint(*strings):  # функция вывода маркдаун в консоль\n",
                "    for s in strings:\n",
                "        display(Markdown(s))\n",
                "\n",
                "\n",
                "def dataframe_to_markdown(df):\n",
                "    if df.index.name is None:\n",
                "        first_cell = \"Index\"\n",
                "    elif df.columns.name is None:\n",
                "        first_cell = df.index.name\n",
                "    else:\n",
                "        first_cell = df.index.name + \"\\\\\" + df.columns.name\n",
                "    markdown_table = \"| \" + first_cell + \" | \" + \" | \".join(df.columns) + \" |\\n\"\n",
                "    markdown_table += \"|---\" * (len(df.columns) + 1) + \"|\\n\"  # Учитываем индекс\n",
                "\n",
                "    for index, row in df.iterrows():\n",
                "        row_values = [str(round(val, 2) if type(val) != str else val) for val in row]\n",
                "        markdown_table += f\"| {index} | \" + \" | \".join(row_values) + \" |\\n\"\n",
                "\n",
                "    return markdown_table\n",
                "\n",
                "\n",
                "# можно выводить latex в надписях matplotlib\n",
                "plt.rc(\"text\", usetex=True)\n",
                "plt.rc(\n",
                "    \"text.latex\",\n",
                "    preamble=r\"\"\"\n",
                "\\usepackage[english, russian]{babel}\n",
                "\\usepackage[utf8]{inputenc}\n",
                "\"\"\",\n",
                ")\n",
                "plt.style.use(\"seaborn-v0_8\")"
            ]
        },
        {
            "cell_type": "markdown",
            "metadata": {},
            "source": [
                "### Парсинг вариантов"
            ]
        },
        {
            "cell_type": "code",
            "execution_count": 4,
            "metadata": {},
            "outputs": [
                {
                    "data": {
                        "text/plain": [
                            "'/Users/retrobanner/Projects/mephi_stats/bdz/var_2'"
                        ]
                    },
                    "execution_count": 4,
                    "metadata": {},
                    "output_type": "execute_result"
                }
            ],
            "source": [
                "%pwd"
            ]
        },
        {
            "cell_type": "markdown",
            "metadata": {},
            "source": [
                "<a id=\"parse\"></a>"
            ]
        },
        {
            "cell_type": "code",
            "execution_count": 5,
            "metadata": {},
            "outputs": [],
            "source": [
                "path_to_vars = \"../bdz_vars.xls\"\n",
                "path_to_data = \"../bdz_data.xls\""
            ]
        },
        {
            "cell_type": "code",
            "execution_count": 6,
            "metadata": {},
            "outputs": [
                {
                    "data": {
                        "text/plain": [
                            "1.1         B7 B8 B9\n",
                            "1.2               B7\n",
                            "2.1, 3.1          B7\n",
                            "2.2, 3.2          B7\n",
                            "2.3, 3.3     B11 B12\n",
                            "Name: 2, dtype: object"
                        ]
                    },
                    "execution_count": 6,
                    "metadata": {},
                    "output_type": "execute_result"
                }
            ],
            "source": [
                "# считываем столбики для варианта\n",
                "datas = pd.read_excel(path_to_vars, index_col=0).loc[variant]\n",
                "\n",
                "datas.head()"
            ]
        },
        {
            "cell_type": "code",
            "execution_count": 7,
            "metadata": {},
            "outputs": [
                {
                    "name": "stdout",
                    "output_type": "stream",
                    "text": [
                        "{'1.1': ['B7', 'B8', 'B9'], '1.2': ['B7'], '2.1': ['B7'], '3.1': ['B7'], '2.2': ['B7'], '3.2': ['B7'], '2.3': ['B11', 'B12'], '3.3': ['B11', 'B12'], '2.4': ['B11', 'B12'], '3.4': ['B11', 'B12'], '4': ['B7'], '5': ['B11', 'B12'], '6': ['B3', 'B5'], '7': ['B6', 'B1'], '8.1': ['B11', 'B12'], '8.2': ['B7', 'B8', 'B9'], '9.1': ['B1', 'B2'], '9.2': ['B1', 'B2'], '9.3': ['B1', 'B4', 'B2']}\n"
                    ]
                }
            ],
            "source": [
                "# создаём словарик: задание -> список столбцов\n",
                "variant_dict = dict()\n",
                "for tasks in datas.index:\n",
                "    for task in tasks.split(\", \"):\n",
                "        variant_dict[task] = (\n",
                "            datas[tasks]\n",
                "            .replace(\"А\", \"A\")\n",
                "            .replace(\"В\", \"B\")\n",
                "            .replace(\"С\", \"C\")\n",
                "            .split(\" \")\n",
                "        )\n",
                "\n",
                "print(variant_dict)"
            ]
        },
        {
            "cell_type": "markdown",
            "metadata": {},
            "source": [
                "### Считываем информацию из excel"
            ]
        },
        {
            "cell_type": "code",
            "execution_count": 8,
            "metadata": {},
            "outputs": [
                {
                    "data": {
                        "text/plain": [
                            "dict_keys(['description', 'A - aaup', 'B - bodyfat', 'C - plasma', 'D - homedat'])"
                        ]
                    },
                    "execution_count": 8,
                    "metadata": {},
                    "output_type": "execute_result"
                }
            ],
            "source": [
                "dfs = pd.read_excel(path_to_data, sheet_name=None)\n",
                "dfs.keys()"
            ]
        },
        {
            "cell_type": "code",
            "execution_count": 9,
            "metadata": {},
            "outputs": [
                {
                    "name": "stdout",
                    "output_type": "stream",
                    "text": [
                        "{'A': 'A - aaup', 'B': 'B - bodyfat', 'C': 'C - plasma', 'D': 'D - homedat'}\n"
                    ]
                }
            ],
            "source": [
                "# создаём словарик: буква -> название листа в excel\n",
                "sheet_dict = dict()\n",
                "for value in list(dfs.keys())[1:]:\n",
                "    key = value[0]\n",
                "    sheet_dict[key] = value\n",
                "print(sheet_dict)"
            ]
        },
        {
            "cell_type": "code",
            "execution_count": 10,
            "metadata": {},
            "outputs": [],
            "source": [
                "# функция: задание -> необходимые данные\n",
                "def data(task):\n",
                "    X = []\n",
                "    for data in variant_dict[task]:\n",
                "        sheet = data[0]\n",
                "        column = data\n",
                "        df = dfs[sheet_dict[sheet]][column]\n",
                "        X.append(df)\n",
                "    return X"
            ]
        },
        {
            "cell_type": "markdown",
            "metadata": {},
            "source": [
                "### Дополнительные функции"
            ]
        },
        {
            "cell_type": "code",
            "execution_count": 11,
            "metadata": {},
            "outputs": [],
            "source": [
                "def verdict(alpha, p_value):\n",
                "    if alpha > p_value:\n",
                "        return \"$H_0$ отклоняется\"\n",
                "    else:\n",
                "        return \"$H_0$ принимается\""
            ]
        },
        {
            "cell_type": "markdown",
            "metadata": {},
            "source": [
                "<a id=\"1\"></a>"
            ]
        },
        {
            "cell_type": "markdown",
            "metadata": {},
            "source": [
                "# Раздел 1. Описательные статистики"
            ]
        },
        {
            "cell_type": "markdown",
            "metadata": {},
            "source": [
                "<a id=\"11\"></a>"
            ]
        },
        {
            "cell_type": "markdown",
            "metadata": {},
            "source": [
                "## 1.1 Выборочные характеристики"
            ]
        },
        {
            "cell_type": "markdown",
            "metadata": {},
            "source": [
                "### Условие"
            ]
        },
        {
            "cell_type": "markdown",
            "metadata": {},
            "source": [
                "Анализируемый признак 1 – `B7` (Weight (lbs))\n",
                "\n",
                "Анализируемый признак 2 – `B8` (Height (inches))\n",
                "\n",
                "Анализируемый признак 3 – `B9` (Neck circumference (cm))"
            ]
        },
        {
            "cell_type": "markdown",
            "metadata": {},
            "source": [
                "### Определения"
            ]
        },
        {
            "cell_type": "code",
            "execution_count": 12,
            "metadata": {},
            "outputs": [
                {
                    "name": "stdout",
                    "output_type": "stream",
                    "text": [
                        "0    154.25\n",
                        "1    173.25\n",
                        "2    154.00\n",
                        "3    184.75\n",
                        "4    184.25\n",
                        "Name: B7, dtype: float64\n",
                        "0    67.75\n",
                        "1    72.25\n",
                        "2    66.25\n",
                        "3    72.25\n",
                        "4    71.25\n",
                        "Name: B8, dtype: float64\n",
                        "0    36.2\n",
                        "1    38.5\n",
                        "2    34.0\n",
                        "3    37.4\n",
                        "4    34.4\n",
                        "Name: B9, dtype: float64\n"
                    ]
                }
            ],
            "source": [
                "columns = data(\"1.1\")\n",
                "for i in columns:\n",
                "    print(i.head())"
            ]
        },
        {
            "cell_type": "markdown",
            "metadata": {},
            "source": [
                "### Привести формулы расчёта выборочных характеристик"
            ]
        },
        {
            "cell_type": "markdown",
            "metadata": {},
            "source": [
                "| Выборочная характеристика                | Формула расчёта                                                                                                                                                                                                                                 |\n",
                "| ---------------------------------------- | ----------------------------------------------------------------------------------------------------------------------------------------------------------------------------------------------------------------------------------------------- |\n",
                "| Объём выборки                            | $n$                                                                                                                                                                                                                                             |\n",
                "| Среднее                                  | $\\overline x = \\dfrac{1}{n} \\sum\\limits_{i = 1}^{n} x_i$                                                                                                                                                                                        |\n",
                "| Выборочная дисперсия                     | $D_X^* = \\dfrac{1}{n} \\sum\\limits_{i = 1}^{n} \\left(x_i - \\overline x\\right)^2$                                                                                                                                                                 |\n",
                "| Выборочное среднеквадратичное отклонение | $\\sigma_X^* = \\sqrt{D_X^*} =\\sqrt{\\dfrac{1}{n} \\sum\\limits_{i = 1}^{n} \\left(x_i - \\overline x\\right)^2}$                                                                                                                                       |\n",
                "| Выборочный коэффициент асимметрии        | $\\gamma_X^* = \\dfrac{\\mu_{3,X}^*}{\\left(\\sigma_X^*\\right)^3} = \\dfrac{\\dfrac{1}{n} \\sum\\limits_{i = 1}^{n} \\left(x_i - \\overline x\\right)^3}{\\left(\\dfrac{1}{n} \\sum\\limits_{i = 1}^{n} \\left(x_i - \\overline x\\right)^2\\right)^{\\frac{3}{2}}}$ |\n",
                "| Выборочный эксцесс                       |      $\\varepsilon_X^* = \\dfrac{\\mu_{4,X}^*}{\\left(\\sigma_X^*\\right)^4} - 3 = \\dfrac{\\dfrac{1}{n} \\sum\\limits_{i = 1}^{n} \\left(x_i - \\overline x\\right)^4}{\\left(\\dfrac{1}{n} \\sum\\limits_{i = 1}^{n} \\left(x_i - \\overline x\\right)^2\\right)^2} - 3$                                                                                                                                                                                                                                           |\n"
            ]
        },
        {
            "cell_type": "markdown",
            "metadata": {},
            "source": [
                "### Рассчитать выборочные характеристики"
            ]
        },
        {
            "cell_type": "markdown",
            "metadata": {},
            "source": [
                "`pd.skew()` возвращает несмещенный выборочный коэффициент асимметрии, поэтому лучше использовать `stats.skew(bias=True)`, чтобы его получить.\n",
                "\n",
                "То же самое касается функции `kurtosis()`."
            ]
        },
        {
            "cell_type": "code",
            "execution_count": 13,
            "metadata": {},
            "outputs": [
                {
                    "data": {
                        "text/markdown": [
                            "$\\mathbf{X_1}:$         $\\overline x_1 =$ 178.92;         $D^*_{X_1} =$ 860.30;         $\\sigma^*_{X_1} =$ 29.33;         $\\gamma^*_{X_1} =$ 1.20;         $\\varepsilon^*_{X_1} =$ 5.14         "
                        ],
                        "text/plain": [
                            "<IPython.core.display.Markdown object>"
                        ]
                    },
                    "metadata": {},
                    "output_type": "display_data"
                },
                {
                    "data": {
                        "text/markdown": [
                            "$\\mathbf{X_2}:$         $\\overline x_2 =$ 70.15;         $D^*_{X_2} =$ 13.36;         $\\sigma^*_{X_2} =$ 3.66;         $\\gamma^*_{X_2} =$ -5.35;         $\\varepsilon^*_{X_2} =$ 58.35         "
                        ],
                        "text/plain": [
                            "<IPython.core.display.Markdown object>"
                        ]
                    },
                    "metadata": {},
                    "output_type": "display_data"
                },
                {
                    "data": {
                        "text/markdown": [
                            "$\\mathbf{X_3}:$         $\\overline x_3 =$ 37.99;         $D^*_{X_3} =$ 5.89;         $\\sigma^*_{X_3} =$ 2.43;         $\\gamma^*_{X_3} =$ 0.55;         $\\varepsilon^*_{X_3} =$ 2.64         "
                        ],
                        "text/plain": [
                            "<IPython.core.display.Markdown object>"
                        ]
                    },
                    "metadata": {},
                    "output_type": "display_data"
                }
            ],
            "source": [
                "for i, X in enumerate(columns, start=1):\n",
                "    mean_ = X.mean()\n",
                "    D = X.var(ddof=0)\n",
                "    d = X.std(ddof=0)\n",
                "    g = stats.skew(X, bias=True)\n",
                "    e = stats.kurtosis(X, bias=True)\n",
                "    output = f\"$\\\\mathbf{{X_{i}}}:$ \\\n",
                "        $\\\\overline x_{i} =$ {mean_:.2f}; \\\n",
                "        $D^*_{{X_{i}}} =$ {D:.2f}; \\\n",
                "        $\\\\sigma^*_{{X_{i}}} =$ {d:.2f}; \\\n",
                "        $\\\\gamma^*_{{X_{i}}} =$ {g:.2f}; \\\n",
                "        $\\\\varepsilon^*_{{X_{i}}} =$ {e:.2f} \\\n",
                "        \"\n",
                "    mprint(output)"
            ]
        },
        {
            "cell_type": "markdown",
            "metadata": {},
            "source": [
                "| Выборочная характеристика                | Признак 1 | Признак 2 | Признак 3 |\n",
                "| ---------------------------------------- | --------- | --------- | --------- |\n",
                "| Среднее                                  | 178.92    | 70.15     | 37.99     |\n",
                "| Выборочная дисперсия                     | 860.30    | 13.36     | 5.89      |\n",
                "| Выборочное среднеквадратичное отклонение | 29.33     | 3.66      | 2.43      |\n",
                "| Выборочный коэффициент асимметрии        | 1.20      | -5.35     | 0.55      |\n",
                "| Выборочный эксцесс                       | 5.14      | 58.35     | 2.64      |\n"
            ]
        },
        {
            "cell_type": "markdown",
            "metadata": {},
            "source": [
                "<a id=\"12\"></a>"
            ]
        },
        {
            "cell_type": "markdown",
            "metadata": {},
            "source": [
                "## 1.2 Группировка и гистограммы частот"
            ]
        },
        {
            "cell_type": "markdown",
            "metadata": {},
            "source": [
                "### Условие"
            ]
        },
        {
            "cell_type": "markdown",
            "metadata": {},
            "source": [
                "Анализируемый признак – `B7` (Weight (lbs))\n",
                "\n",
                "Объём выборки – $n$ = `252`"
            ]
        },
        {
            "cell_type": "markdown",
            "metadata": {},
            "source": [
                "### Определения"
            ]
        },
        {
            "cell_type": "code",
            "execution_count": 14,
            "metadata": {},
            "outputs": [
                {
                    "data": {
                        "text/plain": [
                            "0      154.25\n",
                            "1      173.25\n",
                            "2      154.00\n",
                            "3      184.75\n",
                            "4      184.25\n",
                            "        ...  \n",
                            "247    134.25\n",
                            "248    201.00\n",
                            "249    186.75\n",
                            "250    190.75\n",
                            "251    207.50\n",
                            "Name: B7, Length: 252, dtype: float64"
                        ]
                    },
                    "execution_count": 14,
                    "metadata": {},
                    "output_type": "execute_result"
                }
            ],
            "source": [
                "X = data(\"1.2\")[0]\n",
                "X"
            ]
        },
        {
            "cell_type": "code",
            "execution_count": 15,
            "metadata": {},
            "outputs": [
                {
                    "name": "stdout",
                    "output_type": "stream",
                    "text": [
                        "252\n"
                    ]
                }
            ],
            "source": [
                "print(n := len(X))"
            ]
        },
        {
            "cell_type": "code",
            "execution_count": 16,
            "metadata": {},
            "outputs": [
                {
                    "data": {
                        "text/html": [
                            "<div>\n",
                            "<style scoped>\n",
                            "    .dataframe tbody tr th:only-of-type {\n",
                            "        vertical-align: middle;\n",
                            "    }\n",
                            "\n",
                            "    .dataframe tbody tr th {\n",
                            "        vertical-align: top;\n",
                            "    }\n",
                            "\n",
                            "    .dataframe thead th {\n",
                            "        text-align: right;\n",
                            "    }\n",
                            "</style>\n",
                            "<table border=\"1\" class=\"dataframe\">\n",
                            "  <thead>\n",
                            "    <tr style=\"text-align: right;\">\n",
                            "      <th></th>\n",
                            "      <th>value</th>\n",
                            "    </tr>\n",
                            "  </thead>\n",
                            "  <tbody>\n",
                            "    <tr>\n",
                            "      <th>0</th>\n",
                            "      <td>154.25</td>\n",
                            "    </tr>\n",
                            "    <tr>\n",
                            "      <th>1</th>\n",
                            "      <td>173.25</td>\n",
                            "    </tr>\n",
                            "    <tr>\n",
                            "      <th>2</th>\n",
                            "      <td>154.00</td>\n",
                            "    </tr>\n",
                            "    <tr>\n",
                            "      <th>3</th>\n",
                            "      <td>184.75</td>\n",
                            "    </tr>\n",
                            "    <tr>\n",
                            "      <th>4</th>\n",
                            "      <td>184.25</td>\n",
                            "    </tr>\n",
                            "  </tbody>\n",
                            "</table>\n",
                            "</div>"
                        ],
                        "text/plain": [
                            "    value\n",
                            "0  154.25\n",
                            "1  173.25\n",
                            "2  154.00\n",
                            "3  184.75\n",
                            "4  184.25"
                        ]
                    },
                    "execution_count": 16,
                    "metadata": {},
                    "output_type": "execute_result"
                }
            ],
            "source": [
                "X = pd.DataFrame(X.values, columns=[\"value\"])\n",
                "X.head()"
            ]
        },
        {
            "cell_type": "markdown",
            "metadata": {},
            "source": [
                "### Выбрать число групп"
            ]
        },
        {
            "cell_type": "code",
            "execution_count": 17,
            "metadata": {},
            "outputs": [
                {
                    "data": {
                        "text/markdown": [
                            "$\\mathbf{X}: \\max = 363.15, \\min = 118.5, n = 252, k = 8$"
                        ],
                        "text/plain": [
                            "<IPython.core.display.Markdown object>"
                        ]
                    },
                    "metadata": {},
                    "output_type": "display_data"
                }
            ],
            "source": [
                "maximum = max(X[\"value\"])\n",
                "minimum = min(X[\"value\"])\n",
                "k = round(1 + 1.3 * m.log(n))\n",
                "mprint(f\"$\\\\mathbf{{X}}: \\\\max = {maximum}, \\\\min = {minimum}, n = {n}, k = {k}$\")"
            ]
        },
        {
            "cell_type": "code",
            "execution_count": 18,
            "metadata": {},
            "outputs": [
                {
                    "data": {
                        "text/html": [
                            "<div>\n",
                            "<style scoped>\n",
                            "    .dataframe tbody tr th:only-of-type {\n",
                            "        vertical-align: middle;\n",
                            "    }\n",
                            "\n",
                            "    .dataframe tbody tr th {\n",
                            "        vertical-align: top;\n",
                            "    }\n",
                            "\n",
                            "    .dataframe thead th {\n",
                            "        text-align: right;\n",
                            "    }\n",
                            "</style>\n",
                            "<table border=\"1\" class=\"dataframe\">\n",
                            "  <thead>\n",
                            "    <tr style=\"text-align: right;\">\n",
                            "      <th></th>\n",
                            "      <th>value</th>\n",
                            "      <th>group</th>\n",
                            "    </tr>\n",
                            "  </thead>\n",
                            "  <tbody>\n",
                            "    <tr>\n",
                            "      <th>0</th>\n",
                            "      <td>154.25</td>\n",
                            "      <td>(149.081, 179.662]</td>\n",
                            "    </tr>\n",
                            "    <tr>\n",
                            "      <th>1</th>\n",
                            "      <td>173.25</td>\n",
                            "      <td>(149.081, 179.662]</td>\n",
                            "    </tr>\n",
                            "    <tr>\n",
                            "      <th>2</th>\n",
                            "      <td>154.00</td>\n",
                            "      <td>(149.081, 179.662]</td>\n",
                            "    </tr>\n",
                            "    <tr>\n",
                            "      <th>3</th>\n",
                            "      <td>184.75</td>\n",
                            "      <td>(179.662, 210.244]</td>\n",
                            "    </tr>\n",
                            "    <tr>\n",
                            "      <th>4</th>\n",
                            "      <td>184.25</td>\n",
                            "      <td>(179.662, 210.244]</td>\n",
                            "    </tr>\n",
                            "  </tbody>\n",
                            "</table>\n",
                            "</div>"
                        ],
                        "text/plain": [
                            "    value               group\n",
                            "0  154.25  (149.081, 179.662]\n",
                            "1  173.25  (149.081, 179.662]\n",
                            "2  154.00  (149.081, 179.662]\n",
                            "3  184.75  (179.662, 210.244]\n",
                            "4  184.25  (179.662, 210.244]"
                        ]
                    },
                    "execution_count": 18,
                    "metadata": {},
                    "output_type": "execute_result"
                }
            ],
            "source": [
                "X[\"group\"] = pd.cut(X[\"value\"], bins=k)\n",
                "X.head()"
            ]
        },
        {
            "cell_type": "code",
            "execution_count": 19,
            "metadata": {},
            "outputs": [
                {
                    "data": {
                        "text/markdown": [
                            "Ширина интервалов: от 30.58 до 30.83"
                        ],
                        "text/plain": [
                            "<IPython.core.display.Markdown object>"
                        ]
                    },
                    "metadata": {},
                    "output_type": "display_data"
                }
            ],
            "source": [
                "delta_min = np.min(\n",
                "    [interval.right - interval.left for interval in X[\"group\"].cat.categories]\n",
                ")\n",
                "delta_max = np.max(\n",
                "    [interval.right - interval.left for interval in X[\"group\"].cat.categories]\n",
                ")\n",
                "mprint(f\"Ширина интервалов: от {delta_min:.2f} до {delta_max:.2f}\")"
            ]
        },
        {
            "cell_type": "markdown",
            "metadata": {},
            "source": [
                "| Число групп | Обоснование выбора числа групп                 | Ширина интервалов |\n",
                "| ----------- | ---------------------------------------------- | ----------------- |\n",
                "| 8           | Формула Стерджесса: $k \\approx 1 + 1,3 \\ln{n}$ | от 30.58 до 30.83 |\n"
            ]
        },
        {
            "cell_type": "markdown",
            "metadata": {},
            "source": [
                "### Построить таблицу частот"
            ]
        },
        {
            "cell_type": "code",
            "execution_count": 20,
            "metadata": {},
            "outputs": [
                {
                    "data": {
                        "text/html": [
                            "<div>\n",
                            "<style scoped>\n",
                            "    .dataframe tbody tr th:only-of-type {\n",
                            "        vertical-align: middle;\n",
                            "    }\n",
                            "\n",
                            "    .dataframe tbody tr th {\n",
                            "        vertical-align: top;\n",
                            "    }\n",
                            "\n",
                            "    .dataframe thead th {\n",
                            "        text-align: right;\n",
                            "    }\n",
                            "</style>\n",
                            "<table border=\"1\" class=\"dataframe\">\n",
                            "  <thead>\n",
                            "    <tr style=\"text-align: right;\">\n",
                            "      <th></th>\n",
                            "      <th>low edge</th>\n",
                            "      <th>high edge</th>\n",
                            "      <th>frequency</th>\n",
                            "      <th>relative frequency</th>\n",
                            "      <th>cumulative frequency</th>\n",
                            "      <th>cumulative relative frequency</th>\n",
                            "    </tr>\n",
                            "    <tr>\n",
                            "      <th>Номер интервала</th>\n",
                            "      <th></th>\n",
                            "      <th></th>\n",
                            "      <th></th>\n",
                            "      <th></th>\n",
                            "      <th></th>\n",
                            "      <th></th>\n",
                            "    </tr>\n",
                            "  </thead>\n",
                            "  <tbody>\n",
                            "    <tr>\n",
                            "      <th>1</th>\n",
                            "      <td>118.255</td>\n",
                            "      <td>149.081</td>\n",
                            "      <td>31</td>\n",
                            "      <td>0.123016</td>\n",
                            "      <td>31</td>\n",
                            "      <td>0.123016</td>\n",
                            "    </tr>\n",
                            "    <tr>\n",
                            "      <th>2</th>\n",
                            "      <td>149.081</td>\n",
                            "      <td>179.662</td>\n",
                            "      <td>110</td>\n",
                            "      <td>0.436508</td>\n",
                            "      <td>141</td>\n",
                            "      <td>0.559524</td>\n",
                            "    </tr>\n",
                            "    <tr>\n",
                            "      <th>3</th>\n",
                            "      <td>179.662</td>\n",
                            "      <td>210.244</td>\n",
                            "      <td>76</td>\n",
                            "      <td>0.301587</td>\n",
                            "      <td>217</td>\n",
                            "      <td>0.861111</td>\n",
                            "    </tr>\n",
                            "    <tr>\n",
                            "      <th>4</th>\n",
                            "      <td>210.244</td>\n",
                            "      <td>240.825</td>\n",
                            "      <td>29</td>\n",
                            "      <td>0.115079</td>\n",
                            "      <td>246</td>\n",
                            "      <td>0.976190</td>\n",
                            "    </tr>\n",
                            "    <tr>\n",
                            "      <th>5</th>\n",
                            "      <td>240.825</td>\n",
                            "      <td>271.406</td>\n",
                            "      <td>5</td>\n",
                            "      <td>0.019841</td>\n",
                            "      <td>251</td>\n",
                            "      <td>0.996032</td>\n",
                            "    </tr>\n",
                            "    <tr>\n",
                            "      <th>6</th>\n",
                            "      <td>271.406</td>\n",
                            "      <td>301.987</td>\n",
                            "      <td>0</td>\n",
                            "      <td>0.000000</td>\n",
                            "      <td>251</td>\n",
                            "      <td>0.996032</td>\n",
                            "    </tr>\n",
                            "    <tr>\n",
                            "      <th>7</th>\n",
                            "      <td>301.987</td>\n",
                            "      <td>332.569</td>\n",
                            "      <td>0</td>\n",
                            "      <td>0.000000</td>\n",
                            "      <td>251</td>\n",
                            "      <td>0.996032</td>\n",
                            "    </tr>\n",
                            "    <tr>\n",
                            "      <th>8</th>\n",
                            "      <td>332.569</td>\n",
                            "      <td>363.150</td>\n",
                            "      <td>1</td>\n",
                            "      <td>0.003968</td>\n",
                            "      <td>252</td>\n",
                            "      <td>1.000000</td>\n",
                            "    </tr>\n",
                            "  </tbody>\n",
                            "</table>\n",
                            "</div>"
                        ],
                        "text/plain": [
                            "                 low edge  high edge  frequency  relative frequency  \\\n",
                            "Номер интервала                                                       \n",
                            "1                 118.255    149.081         31            0.123016   \n",
                            "2                 149.081    179.662        110            0.436508   \n",
                            "3                 179.662    210.244         76            0.301587   \n",
                            "4                 210.244    240.825         29            0.115079   \n",
                            "5                 240.825    271.406          5            0.019841   \n",
                            "6                 271.406    301.987          0            0.000000   \n",
                            "7                 301.987    332.569          0            0.000000   \n",
                            "8                 332.569    363.150          1            0.003968   \n",
                            "\n",
                            "                 cumulative frequency  cumulative relative frequency  \n",
                            "Номер интервала                                                       \n",
                            "1                                  31                       0.123016  \n",
                            "2                                 141                       0.559524  \n",
                            "3                                 217                       0.861111  \n",
                            "4                                 246                       0.976190  \n",
                            "5                                 251                       0.996032  \n",
                            "6                                 251                       0.996032  \n",
                            "7                                 251                       0.996032  \n",
                            "8                                 252                       1.000000  "
                        ]
                    },
                    "execution_count": 20,
                    "metadata": {},
                    "output_type": "execute_result"
                }
            ],
            "source": [
                "groups = pd.DataFrame(index=pd.Index(range(1, k + 1), name=\"Номер интервала\"))\n",
                "groups[\"low edge\"] = [interval.left for interval in X[\"group\"].cat.categories]\n",
                "groups[\"high edge\"] = [interval.right for interval in X[\"group\"].cat.categories]\n",
                "groups[\"frequency\"] = X[\"group\"].value_counts().sort_index().values\n",
                "groups[\"relative frequency\"] = groups[\"frequency\"] / n\n",
                "groups[\"cumulative frequency\"] = groups[\"frequency\"].cumsum()\n",
                "groups[\"cumulative relative frequency\"] = groups[\"cumulative frequency\"] / n\n",
                "groups"
            ]
        },
        {
            "cell_type": "code",
            "execution_count": 21,
            "metadata": {},
            "outputs": [
                {
                    "name": "stdout",
                    "output_type": "stream",
                    "text": [
                        "| Номер интервала | low edge | high edge | frequency | relative frequency | cumulative frequency | cumulative relative frequency |\n",
                        "|---|---|---|---|---|---|---|\n",
                        "| 1 | 118.25 | 149.08 | 31.0 | 0.12 | 31.0 | 0.12 |\n",
                        "| 2 | 149.08 | 179.66 | 110.0 | 0.44 | 141.0 | 0.56 |\n",
                        "| 3 | 179.66 | 210.24 | 76.0 | 0.3 | 217.0 | 0.86 |\n",
                        "| 4 | 210.24 | 240.82 | 29.0 | 0.12 | 246.0 | 0.98 |\n",
                        "| 5 | 240.82 | 271.41 | 5.0 | 0.02 | 251.0 | 1.0 |\n",
                        "| 6 | 271.41 | 301.99 | 0.0 | 0.0 | 251.0 | 1.0 |\n",
                        "| 7 | 301.99 | 332.57 | 0.0 | 0.0 | 251.0 | 1.0 |\n",
                        "| 8 | 332.57 | 363.15 | 1.0 | 0.0 | 252.0 | 1.0 |\n",
                        "\n"
                    ]
                }
            ],
            "source": [
                "# Чтобы быстрее заполнить табличку\n",
                "print(dataframe_to_markdown(groups))"
            ]
        },
        {
            "cell_type": "markdown",
            "metadata": {},
            "source": [
                "| Номер интервала | Нижняя граница | Верхняя граница | Частота | Относительная частота | Накопленная частота | Относительная накопленная частота |\n",
                "| --------------- | -------------- | --------------- | ------- | --------------------- | ------------------- | --------------------------------- |\n",
                "| 1               | 118.25         | 149.08          | 31      | 0.12                  | 31                  | 0.12                              |\n",
                "| 2               | 149.08         | 179.66          | 110     | 0.44                  | 141                 | 0.56                              |\n",
                "| 3               | 179.66         | 210.24          | 76      | 0.3                   | 217                 | 0.86                              |\n",
                "| 4               | 210.24         | 240.82          | 29      | 0.12                  | 246                 | 0.98                              |\n",
                "| 5               | 240.82         | 271.41          | 5       | 0.02                  | 251                 | 1.00                              |\n",
                "| 6               | 271.41         | 301.99          | 0       | 0.0                   | 251                 | 1.00                              |\n",
                "| 7               | 301.99         | 332.57          | 0       | 0.0                   | 251                 | 1.00                              |\n",
                "| 8               | 332.57         | 363.15          | 1       | 0.0                   | 252                 | 1.00                              |"
            ]
        },
        {
            "cell_type": "markdown",
            "metadata": {},
            "source": [
                "### Построить гистограммы частот и полигоны частот"
            ]
        },
        {
            "cell_type": "code",
            "execution_count": 22,
            "metadata": {},
            "outputs": [],
            "source": [
                "bin_centers = (groups[\"low edge\"] + groups[\"high edge\"]) / 2\n",
                "width = groups[\"high edge\"] - groups[\"low edge\"]"
            ]
        },
        {
            "cell_type": "code",
            "execution_count": 23,
            "metadata": {},
            "outputs": [
                {
                    "data": {
                        "image/png": "[encoded data removed]",
                        "text/plain": [
                            "<Figure size 1000x600 with 4 Axes>"
                        ]
                    },
                    "metadata": {},
                    "output_type": "display_data"
                }
            ],
            "source": [
                "fig, axes = plt.subplots(2, 2, figsize=(10, 6))\n",
                "\n",
                "axes[0, 0].bar(\n",
                "    bin_centers,\n",
                "    groups[\"frequency\"],\n",
                "    width=width,\n",
                "    edgecolor=\"black\",\n",
                ")\n",
                "axes[0, 0].plot(bin_centers, groups[\"frequency\"], marker=\"o\", color=\"r\")\n",
                "axes[0, 0].set_xlabel(\"Значения\")\n",
                "axes[0, 0].set_ylabel(\"Частота\")\n",
                "axes[0, 0].set_title(\"Гистограмма и полигон частот\")\n",
                "\n",
                "axes[0, 1].bar(\n",
                "    bin_centers,\n",
                "    groups[\"relative frequency\"],\n",
                "    width=width,\n",
                "    edgecolor=\"black\",\n",
                ")\n",
                "axes[0, 1].plot(bin_centers, groups[\"relative frequency\"], marker=\"o\", color=\"r\")\n",
                "axes[0, 1].set_xlabel(\"Значения\")\n",
                "axes[0, 1].set_ylabel(\"Относительная частота\")\n",
                "axes[0, 1].set_title(\"Гистограмма и полигон относительных частот\")\n",
                "\n",
                "axes[1, 0].bar(\n",
                "    bin_centers,\n",
                "    groups[\"cumulative frequency\"],\n",
                "    width=width,\n",
                "    edgecolor=\"black\",\n",
                ")\n",
                "axes[1, 0].plot(bin_centers, groups[\"cumulative frequency\"], marker=\"o\", color=\"r\")\n",
                "axes[1, 0].set_xlabel(\"Значения\")\n",
                "axes[1, 0].set_ylabel(\"Накопленная частота частота\")\n",
                "axes[1, 0].set_title(\"Гистограмма и полигон накопленных частот\")\n",
                "\n",
                "axes[1, 1].bar(\n",
                "    bin_centers,\n",
                "    groups[\"cumulative relative frequency\"],\n",
                "    width=width,\n",
                "    edgecolor=\"black\",\n",
                ")\n",
                "axes[1, 1].plot(\n",
                "    bin_centers, groups[\"cumulative relative frequency\"], marker=\"o\", color=\"r\"\n",
                ")\n",
                "axes[1, 1].set_xlabel(\"Значения\")\n",
                "axes[1, 1].set_ylabel(\"Относительная накопленная частота частота\")\n",
                "axes[1, 1].set_title(\"Гистограмма и полигон относительных накопленных частот\")\n",
                "\n",
                "plt.tight_layout()\n",
                "plt.show()"
            ]
        },
        {
            "cell_type": "markdown",
            "metadata": {},
            "source": [
                "### Построить эмпирическую фукнцию распределения"
            ]
        },
        {
            "cell_type": "code",
            "execution_count": 24,
            "metadata": {},
            "outputs": [
                {
                    "data": {
                        "image/png": "[encoded data removed]",
                        "text/plain": [
                            "<Figure size 800x550 with 1 Axes>"
                        ]
                    },
                    "metadata": {},
                    "output_type": "display_data"
                }
            ],
            "source": [
                "X_sorted = np.sort(X[\"value\"])\n",
                "X_sorted = np.concatenate(([-10000], X_sorted, [10000]))\n",
                "F = np.arange(1, n + 1) / n\n",
                "F = np.concatenate(([0], F, [1]))\n",
                "plt.step(X_sorted, F, where=\"post\", label=r\"$F_X^*(x)$\", linewidth=2)\n",
                "plt.xlim(100, 400)\n",
                "plt.xlabel(\"Значения\")\n",
                "plt.ylabel(\"$F^*_X(x)$\")\n",
                "plt.legend()\n",
                "plt.title(\"Эмпирическая функция распределения\")\n",
                "plt.show()"
            ]
        },
        {
            "cell_type": "markdown",
            "metadata": {},
            "source": [
                "<a id=\"2\"></a>"
            ]
        },
        {
            "cell_type": "markdown",
            "metadata": {},
            "source": [
                "# Раздел 2. Интервальные оценки"
            ]
        },
        {
            "cell_type": "markdown",
            "metadata": {},
            "source": [
                "<a id=\"21\"></a>"
            ]
        },
        {
            "cell_type": "markdown",
            "metadata": {},
            "source": [
                "## 2.1 Доверительные интервалы для математического ожидания"
            ]
        },
        {
            "cell_type": "markdown",
            "metadata": {},
            "source": [
                "### Условие"
            ]
        },
        {
            "cell_type": "markdown",
            "metadata": {},
            "source": [
                "Анализируемый признак – `B7` (Weight (lbs))\n",
                "\n",
                "Объём выборки – $n$ = `252`\n",
                "\n",
                "Оцениваемый параметр – `m`"
            ]
        },
        {
            "cell_type": "markdown",
            "metadata": {},
            "source": [
                "### Определения"
            ]
        },
        {
            "cell_type": "code",
            "execution_count": 25,
            "metadata": {},
            "outputs": [
                {
                    "data": {
                        "text/plain": [
                            "0    154.25\n",
                            "1    173.25\n",
                            "2    154.00\n",
                            "3    184.75\n",
                            "4    184.25\n",
                            "Name: B7, dtype: float64"
                        ]
                    },
                    "execution_count": 25,
                    "metadata": {},
                    "output_type": "execute_result"
                }
            ],
            "source": [
                "X = data(\"2.1\")[0]\n",
                "X.head()"
            ]
        },
        {
            "cell_type": "code",
            "execution_count": 26,
            "metadata": {},
            "outputs": [
                {
                    "name": "stdout",
                    "output_type": "stream",
                    "text": [
                        "252\n"
                    ]
                }
            ],
            "source": [
                "print(n := len(X))"
            ]
        },
        {
            "cell_type": "markdown",
            "metadata": {},
            "source": [
                "### Привести формулы расчёта доверительных интервалов"
            ]
        },
        {
            "cell_type": "markdown",
            "metadata": {},
            "source": [
                "Так как у нас есть только выборка, мы не можем знать параметров генеральной совокупности(в том числе $m$ и $\\sigma$), поэтому будем рассчитывать доверительные интервалы, используя данный факт. \n",
                "\n",
                "В данном случае `стьюдентизованное среднее` выступает в качестве центральной статистики:\n",
                "\n",
                "| Граница доверительного интервала | Формула расчёта                                                                               |\n",
                "| -------------------------------- | --------------------------------------------------------------------------------------------- |\n",
                "| Нижняя граница                   | $\\overline {\\mathbf{X}} - \\dfrac{S}{\\sqrt{n}} \\cdot t_{1-\\frac{\\alpha}{2}, \\left(n-1\\right)}$ |\n",
                "| Верхняя граница                  | $\\overline {\\mathbf{X}} + \\dfrac{S}{\\sqrt{n}} \\cdot t_{1-\\frac{\\alpha}{2}, \\left(n-1\\right)}$ |\n"
            ]
        },
        {
            "cell_type": "markdown",
            "metadata": {},
            "source": [
                "### Рассчитать доверительные интервалы"
            ]
        },
        {
            "cell_type": "code",
            "execution_count": 27,
            "metadata": {},
            "outputs": [
                {
                    "data": {
                        "text/html": [
                            "<div>\n",
                            "<style scoped>\n",
                            "    .dataframe tbody tr th:only-of-type {\n",
                            "        vertical-align: middle;\n",
                            "    }\n",
                            "\n",
                            "    .dataframe tbody tr th {\n",
                            "        vertical-align: top;\n",
                            "    }\n",
                            "\n",
                            "    .dataframe thead th {\n",
                            "        text-align: right;\n",
                            "    }\n",
                            "</style>\n",
                            "<table border=\"1\" class=\"dataframe\">\n",
                            "  <thead>\n",
                            "    <tr style=\"text-align: right;\">\n",
                            "      <th></th>\n",
                            "      <th>$\\alpha =$ 0.01</th>\n",
                            "      <th>$\\alpha =$ 0.05</th>\n",
                            "      <th>$\\alpha =$ 0.1</th>\n",
                            "    </tr>\n",
                            "    <tr>\n",
                            "      <th>Граница доверительного интервала</th>\n",
                            "      <th></th>\n",
                            "      <th></th>\n",
                            "      <th></th>\n",
                            "    </tr>\n",
                            "  </thead>\n",
                            "  <tbody>\n",
                            "    <tr>\n",
                            "      <th>Нижняя граница</th>\n",
                            "      <td>174.119136</td>\n",
                            "      <td>175.278258</td>\n",
                            "      <td>175.867935</td>\n",
                            "    </tr>\n",
                            "    <tr>\n",
                            "      <th>Верхняя граница</th>\n",
                            "      <td>183.729673</td>\n",
                            "      <td>182.570551</td>\n",
                            "      <td>181.980874</td>\n",
                            "    </tr>\n",
                            "  </tbody>\n",
                            "</table>\n",
                            "</div>"
                        ],
                        "text/plain": [
                            "                                  $\\alpha =$ 0.01  $\\alpha =$ 0.05  \\\n",
                            "Граница доверительного интервала                                     \n",
                            "Нижняя граница                         174.119136       175.278258   \n",
                            "Верхняя граница                        183.729673       182.570551   \n",
                            "\n",
                            "                                  $\\alpha =$ 0.1  \n",
                            "Граница доверительного интервала                  \n",
                            "Нижняя граница                        175.867935  \n",
                            "Верхняя граница                       181.980874  "
                        ]
                    },
                    "execution_count": 27,
                    "metadata": {},
                    "output_type": "execute_result"
                }
            ],
            "source": [
                "intervals = pd.DataFrame(\n",
                "    index=pd.Index(\n",
                "        [\"Нижняя граница\", \"Верхняя граница\"], name=\"Граница доверительного интервала\"\n",
                "    )\n",
                ")\n",
                "alphas = [0.01, 0.05, 0.1]\n",
                "std_err = stats.sem(X)\n",
                "for alpha in alphas:\n",
                "    intervals[f\"$\\\\alpha =$ {alpha}\"] = stats.t.interval(\n",
                "        1 - alpha, df=n - 1, loc=X.mean(), scale=std_err\n",
                "    )\n",
                "intervals"
            ]
        },
        {
            "cell_type": "code",
            "execution_count": 28,
            "metadata": {},
            "outputs": [
                {
                    "name": "stdout",
                    "output_type": "stream",
                    "text": [
                        "| Граница доверительного интервала | $\\alpha =$ 0.01 | $\\alpha =$ 0.05 | $\\alpha =$ 0.1 |\n",
                        "|---|---|---|---|\n",
                        "| Нижняя граница | 174.12 | 175.28 | 175.87 |\n",
                        "| Верхняя граница | 183.73 | 182.57 | 181.98 |\n",
                        "\n"
                    ]
                }
            ],
            "source": [
                "print(dataframe_to_markdown(intervals))"
            ]
        },
        {
            "cell_type": "markdown",
            "metadata": {},
            "source": [
                "| Граница доверительного интервала | $\\alpha =$ 0.01 | $\\alpha =$ 0.05 | $\\alpha =$ 0.1 |\n",
                "| -------------------------------- | --------------- | --------------- | -------------- |\n",
                "| Нижняя граница                   | 174.12          | 175.28          | 175.87         |\n",
                "| Верхняя граница                  | 183.73          | 182.57          | 181.98         |"
            ]
        },
        {
            "cell_type": "markdown",
            "metadata": {},
            "source": [
                "<a id=\"22\"></a>"
            ]
        },
        {
            "cell_type": "markdown",
            "metadata": {},
            "source": [
                "## 2.2 Доверительные интервалы для дисперсии"
            ]
        },
        {
            "cell_type": "markdown",
            "metadata": {},
            "source": [
                "### Условие"
            ]
        },
        {
            "cell_type": "markdown",
            "metadata": {},
            "source": [
                "Анализируемый признак  – `B7` (Weight (lbs))\n",
                "\n",
                "Объём выборки – $n$ = `252`\n",
                "\n",
                "Оцениваемый параметр – $\\sigma^2$"
            ]
        },
        {
            "cell_type": "markdown",
            "metadata": {},
            "source": [
                "### Определения"
            ]
        },
        {
            "cell_type": "code",
            "execution_count": 29,
            "metadata": {},
            "outputs": [
                {
                    "data": {
                        "text/plain": [
                            "0    154.25\n",
                            "1    173.25\n",
                            "2    154.00\n",
                            "3    184.75\n",
                            "4    184.25\n",
                            "Name: B7, dtype: float64"
                        ]
                    },
                    "execution_count": 29,
                    "metadata": {},
                    "output_type": "execute_result"
                }
            ],
            "source": [
                "X = data(\"2.2\")[0]\n",
                "X.head()"
            ]
        },
        {
            "cell_type": "code",
            "execution_count": 30,
            "metadata": {},
            "outputs": [
                {
                    "name": "stdout",
                    "output_type": "stream",
                    "text": [
                        "252\n"
                    ]
                }
            ],
            "source": [
                "print(n := len(X))"
            ]
        },
        {
            "cell_type": "markdown",
            "metadata": {},
            "source": [
                "### Привести формулы расчёта доверительных интервалов"
            ]
        },
        {
            "cell_type": "markdown",
            "metadata": {},
            "source": [
                "| Граница доверительного интервала | Формула расчёта                                                                               |\n",
                "| -------------------------------- | --------------------------------------------------------------------------------------------- |\n",
                "| Нижняя граница                   | $\\dfrac{\\left(n-1\\right) \\cdot S^2}{\\chi^2_{1-\\frac{\\alpha}{2}, \\left(n-1\\right)}}$ |\n",
                "| Верхняя граница                  | $\\dfrac{\\left(n-1\\right) \\cdot S^2}{\\chi^2_{\\frac{\\alpha}{2}, \\left(n-1\\right)}}$ |\n"
            ]
        },
        {
            "cell_type": "markdown",
            "metadata": {},
            "source": [
                "### Рассчитать доверительные интервалы"
            ]
        },
        {
            "cell_type": "code",
            "execution_count": 31,
            "metadata": {},
            "outputs": [
                {
                    "data": {
                        "text/html": [
                            "<div>\n",
                            "<style scoped>\n",
                            "    .dataframe tbody tr th:only-of-type {\n",
                            "        vertical-align: middle;\n",
                            "    }\n",
                            "\n",
                            "    .dataframe tbody tr th {\n",
                            "        vertical-align: top;\n",
                            "    }\n",
                            "\n",
                            "    .dataframe thead th {\n",
                            "        text-align: right;\n",
                            "    }\n",
                            "</style>\n",
                            "<table border=\"1\" class=\"dataframe\">\n",
                            "  <thead>\n",
                            "    <tr style=\"text-align: right;\">\n",
                            "      <th></th>\n",
                            "      <th>$\\alpha =$ 0.01</th>\n",
                            "      <th>$\\alpha =$ 0.05</th>\n",
                            "      <th>$\\alpha =$ 0.1</th>\n",
                            "    </tr>\n",
                            "    <tr>\n",
                            "      <th>Граница доверительного интервала</th>\n",
                            "      <th></th>\n",
                            "      <th></th>\n",
                            "      <th></th>\n",
                            "    </tr>\n",
                            "  </thead>\n",
                            "  <tbody>\n",
                            "    <tr>\n",
                            "      <th>Нижняя граница</th>\n",
                            "      <td>693.828100</td>\n",
                            "      <td>730.497795</td>\n",
                            "      <td>750.270312</td>\n",
                            "    </tr>\n",
                            "    <tr>\n",
                            "      <th>Верхняя граница</th>\n",
                            "      <td>1100.224941</td>\n",
                            "      <td>1037.243286</td>\n",
                            "      <td>1006.856772</td>\n",
                            "    </tr>\n",
                            "  </tbody>\n",
                            "</table>\n",
                            "</div>"
                        ],
                        "text/plain": [
                            "                                  $\\alpha =$ 0.01  $\\alpha =$ 0.05  \\\n",
                            "Граница доверительного интервала                                     \n",
                            "Нижняя граница                         693.828100       730.497795   \n",
                            "Верхняя граница                       1100.224941      1037.243286   \n",
                            "\n",
                            "                                  $\\alpha =$ 0.1  \n",
                            "Граница доверительного интервала                  \n",
                            "Нижняя граница                        750.270312  \n",
                            "Верхняя граница                      1006.856772  "
                        ]
                    },
                    "execution_count": 31,
                    "metadata": {},
                    "output_type": "execute_result"
                }
            ],
            "source": [
                "intervals = pd.DataFrame(\n",
                "    index=pd.Index(\n",
                "        [\"Нижняя граница\", \"Верхняя граница\"], name=\"Граница доверительного интервала\"\n",
                "    )\n",
                ")\n",
                "alphas = [0.01, 0.05, 0.1]\n",
                "for alpha in alphas:\n",
                "    chi2_upper, chi2_lower = stats.chi2.interval(1 - alpha, df=n - 1)\n",
                "    intervals[f\"$\\\\alpha =$ {alpha}\"] = [\n",
                "        (n - 1) * X.var(ddof=1) / chi2_lower,\n",
                "        (n - 1) * X.var(ddof=1) / chi2_upper,\n",
                "    ]\n",
                "intervals"
            ]
        },
        {
            "cell_type": "code",
            "execution_count": 32,
            "metadata": {},
            "outputs": [
                {
                    "name": "stdout",
                    "output_type": "stream",
                    "text": [
                        "| Граница доверительного интервала | $\\alpha =$ 0.01 | $\\alpha =$ 0.05 | $\\alpha =$ 0.1 |\n",
                        "|---|---|---|---|\n",
                        "| Нижняя граница | 693.83 | 730.5 | 750.27 |\n",
                        "| Верхняя граница | 1100.22 | 1037.24 | 1006.86 |\n",
                        "\n"
                    ]
                }
            ],
            "source": [
                "print(dataframe_to_markdown(intervals))"
            ]
        },
        {
            "cell_type": "markdown",
            "metadata": {},
            "source": [
                "| Граница доверительного интервала | $\\alpha =$ 0.01 | $\\alpha =$ 0.05 | $\\alpha =$ 0.1 |\n",
                "| -------------------------------- | --------------- | --------------- | -------------- |\n",
                "| Нижняя граница                   | 693.83          | 730.5           | 750.27         |\n",
                "| Верхняя граница                  | 1100.22         | 1037.24         | 1006.86        |"
            ]
        },
        {
            "cell_type": "markdown",
            "metadata": {},
            "source": [
                "<a id=\"23\"></a>"
            ]
        },
        {
            "cell_type": "markdown",
            "metadata": {},
            "source": [
                "## 2.3 Доверительные интервалы для разности мат. ожиданий"
            ]
        },
        {
            "cell_type": "markdown",
            "metadata": {},
            "source": [
                "### Условие"
            ]
        },
        {
            "cell_type": "markdown",
            "metadata": {},
            "source": [
                "Анализируемый признак 1 – `B11` (Abdomen circumference (cm))\n",
                "\n",
                "Анализируемый признак 2 – `B12` (Hip circumference (cm))\n",
                "\n",
                "Объёмы выборок – $n_1 = n_2 = 252$\n",
                "\n",
                "Оцениваемый параметр – $m_1 - m_2$"
            ]
        },
        {
            "cell_type": "markdown",
            "metadata": {},
            "source": [
                "### Определения"
            ]
        },
        {
            "cell_type": "code",
            "execution_count": 33,
            "metadata": {},
            "outputs": [
                {
                    "data": {
                        "text/plain": [
                            "(0     85.2\n",
                            " 1     83.0\n",
                            " 2     87.9\n",
                            " 3     86.4\n",
                            " 4    100.0\n",
                            " Name: B11, dtype: float64,\n",
                            " 0     94.5\n",
                            " 1     98.7\n",
                            " 2     99.2\n",
                            " 3    101.2\n",
                            " 4    101.9\n",
                            " Name: B12, dtype: float64)"
                        ]
                    },
                    "execution_count": 33,
                    "metadata": {},
                    "output_type": "execute_result"
                }
            ],
            "source": [
                "X1, X2 = data(\"2.3\")\n",
                "X1.head(), X2.head()"
            ]
        },
        {
            "cell_type": "code",
            "execution_count": 34,
            "metadata": {},
            "outputs": [
                {
                    "name": "stdout",
                    "output_type": "stream",
                    "text": [
                        "252 252\n"
                    ]
                }
            ],
            "source": [
                "print(n1 := len(X1), n2 := len(X2))"
            ]
        },
        {
            "cell_type": "markdown",
            "metadata": {},
            "source": [
                "### Привести формулы расчёта доверительных интервалов"
            ]
        },
        {
            "cell_type": "markdown",
            "metadata": {},
            "source": [
                "| Граница доверительного интервала | Формула расчёта                                                                                                                                                 |\n",
                "| -------------------------------- | --------------------------------------------------------------------------------------------------------------------------------------------------------------- |\n",
                "| Нижняя граница                   | $\\left(\\overline{\\mathbf{X_1}} - \\overline{\\mathbf{X_2}}\\right) - t_{1-\\frac{\\alpha}{2}, (n_1 + n_2 -2)} \\cdot S \\cdot \\sqrt{\\dfrac{1}{n_1} + \\dfrac{1}{n_2}} $ |\n",
                "| Верхняя граница                  | $\\left(\\overline{\\mathbf{X_1}} - \\overline{\\mathbf{X_2}}\\right) + t_{1-\\frac{\\alpha}{2}, (n_1 + n_2 -2)} \\cdot S \\cdot \\sqrt{\\dfrac{1}{n_1} + \\dfrac{1}{n_2}} $ |\n",
                "| $S$                              | $\\sqrt{\\dfrac{(n_1 - 1)S_1^2 + (n_2-1) S_2^2}{n_1 + n_2 -2}}  $                                                                                                 |\n"
            ]
        },
        {
            "cell_type": "markdown",
            "metadata": {},
            "source": [
                "### Рассчитать доверительные интервалы"
            ]
        },
        {
            "cell_type": "code",
            "execution_count": 35,
            "metadata": {},
            "outputs": [
                {
                    "data": {
                        "text/html": [
                            "<div>\n",
                            "<style scoped>\n",
                            "    .dataframe tbody tr th:only-of-type {\n",
                            "        vertical-align: middle;\n",
                            "    }\n",
                            "\n",
                            "    .dataframe tbody tr th {\n",
                            "        vertical-align: top;\n",
                            "    }\n",
                            "\n",
                            "    .dataframe thead th {\n",
                            "        text-align: right;\n",
                            "    }\n",
                            "</style>\n",
                            "<table border=\"1\" class=\"dataframe\">\n",
                            "  <thead>\n",
                            "    <tr style=\"text-align: right;\">\n",
                            "      <th></th>\n",
                            "      <th>$\\alpha =$ 0.01</th>\n",
                            "      <th>$\\alpha =$ 0.05</th>\n",
                            "      <th>$\\alpha =$ 0.1</th>\n",
                            "    </tr>\n",
                            "    <tr>\n",
                            "      <th>Граница доверительного интервала</th>\n",
                            "      <th></th>\n",
                            "      <th></th>\n",
                            "      <th></th>\n",
                            "    </tr>\n",
                            "  </thead>\n",
                            "  <tbody>\n",
                            "    <tr>\n",
                            "      <th>Нижняя граница</th>\n",
                            "      <td>-9.457466</td>\n",
                            "      <td>-8.951063</td>\n",
                            "      <td>-8.692701</td>\n",
                            "    </tr>\n",
                            "    <tr>\n",
                            "      <th>Верхняя граница</th>\n",
                            "      <td>-5.240153</td>\n",
                            "      <td>-5.746556</td>\n",
                            "      <td>-6.004918</td>\n",
                            "    </tr>\n",
                            "  </tbody>\n",
                            "</table>\n",
                            "</div>"
                        ],
                        "text/plain": [
                            "                                  $\\alpha =$ 0.01  $\\alpha =$ 0.05  \\\n",
                            "Граница доверительного интервала                                     \n",
                            "Нижняя граница                          -9.457466        -8.951063   \n",
                            "Верхняя граница                         -5.240153        -5.746556   \n",
                            "\n",
                            "                                  $\\alpha =$ 0.1  \n",
                            "Граница доверительного интервала                  \n",
                            "Нижняя граница                         -8.692701  \n",
                            "Верхняя граница                        -6.004918  "
                        ]
                    },
                    "execution_count": 35,
                    "metadata": {},
                    "output_type": "execute_result"
                }
            ],
            "source": [
                "intervals = pd.DataFrame(\n",
                "    index=pd.Index(\n",
                "        [\"Нижняя граница\", \"Верхняя граница\"], name=\"Граница доверительного интервала\"\n",
                "    )\n",
                ")\n",
                "alphas = [0.01, 0.05, 0.1]\n",
                "std_err = m.sqrt(\n",
                "    ((n1 - 1) * X1.var(ddof=1) + (n2 - 1) * X2.var(ddof=1))\n",
                "    / (n1 + n2 - 2)\n",
                "    * (1 / n1 + 1 / n2)\n",
                ")\n",
                "for alpha in alphas:\n",
                "    intervals[f\"$\\\\alpha =$ {alpha}\"] = stats.t.interval(\n",
                "        1 - alpha, df=n1 + n2 - 2, loc=X1.mean() - X2.mean(), scale=std_err\n",
                "    )\n",
                "intervals"
            ]
        },
        {
            "cell_type": "code",
            "execution_count": 36,
            "metadata": {},
            "outputs": [
                {
                    "name": "stdout",
                    "output_type": "stream",
                    "text": [
                        "| Граница доверительного интервала | $\\alpha =$ 0.01 | $\\alpha =$ 0.05 | $\\alpha =$ 0.1 |\n",
                        "|---|---|---|---|\n",
                        "| Нижняя граница | -9.46 | -8.95 | -8.69 |\n",
                        "| Верхняя граница | -5.24 | -5.75 | -6.0 |\n",
                        "\n"
                    ]
                }
            ],
            "source": [
                "print(dataframe_to_markdown(intervals))"
            ]
        },
        {
            "cell_type": "markdown",
            "metadata": {},
            "source": [
                "| Граница доверительного интервала | $\\alpha =$ 0.01 | $\\alpha =$ 0.05 | $\\alpha =$ 0.1 |\n",
                "| -------------------------------- | --------------- | --------------- | -------------- |\n",
                "| Нижняя граница                   | -9.46           | -8.95           | -8.69          |\n",
                "| Верхняя граница                  | -5.24           | -5.75           | -6.0           |"
            ]
        },
        {
            "cell_type": "markdown",
            "metadata": {},
            "source": [
                "<a id=\"24\"></a>"
            ]
        },
        {
            "cell_type": "markdown",
            "metadata": {},
            "source": [
                "## 2.4. Доверительные интервалы для отношения дисперсий"
            ]
        },
        {
            "cell_type": "markdown",
            "metadata": {},
            "source": [
                "### Условие"
            ]
        },
        {
            "cell_type": "markdown",
            "metadata": {},
            "source": [
                "Анализируемый признак 1 – `B11` (Abdomen circumference (cm))\n",
                "\n",
                "Анализируемый признак 2 – `B12` (Hip circumference (cm))\n",
                "\n",
                "Объёмы выборок – $n_1 = n_2 = 252$\n",
                "\n",
                "Оцениваемый параметр – $\\dfrac{\\sigma_1^2}{\\sigma_2^2}$\n"
            ]
        },
        {
            "cell_type": "markdown",
            "metadata": {},
            "source": [
                "### Определения"
            ]
        },
        {
            "cell_type": "code",
            "execution_count": 37,
            "metadata": {},
            "outputs": [
                {
                    "data": {
                        "text/plain": [
                            "(0     85.2\n",
                            " 1     83.0\n",
                            " 2     87.9\n",
                            " 3     86.4\n",
                            " 4    100.0\n",
                            " Name: B11, dtype: float64,\n",
                            " 0     94.5\n",
                            " 1     98.7\n",
                            " 2     99.2\n",
                            " 3    101.2\n",
                            " 4    101.9\n",
                            " Name: B12, dtype: float64)"
                        ]
                    },
                    "execution_count": 37,
                    "metadata": {},
                    "output_type": "execute_result"
                }
            ],
            "source": [
                "X1, X2 = data(\"2.4\")\n",
                "X1.head(), X2.head()"
            ]
        },
        {
            "cell_type": "code",
            "execution_count": 38,
            "metadata": {},
            "outputs": [
                {
                    "name": "stdout",
                    "output_type": "stream",
                    "text": [
                        "252 252\n"
                    ]
                }
            ],
            "source": [
                "print(n1 := len(X1), n2 := len(X2))"
            ]
        },
        {
            "cell_type": "markdown",
            "metadata": {},
            "source": [
                "### Привести формулы расчёта доверительных интервалов"
            ]
        },
        {
            "cell_type": "markdown",
            "metadata": {},
            "source": [
                "| Граница доверительного интервала | Формула расчёта                                                       |\n",
                "| -------------------------------- | --------------------------------------------------------------------- |\n",
                "| Нижняя граница                   | $\\dfrac{S_1^2}{S_2^2} \\cdot F_{\\frac{\\alpha}{2}, (n_1-1, n_2-1)}$     |\n",
                "| Верхняя граница                  | $\\dfrac{S_1^2}{S_2^2} \\cdot F_{1 - \\frac{\\alpha}{2}, (n_1-1, n_2-1)}$ |"
            ]
        },
        {
            "cell_type": "markdown",
            "metadata": {},
            "source": [
                "### Рассчитать доверительные интервалы"
            ]
        },
        {
            "cell_type": "code",
            "execution_count": 39,
            "metadata": {},
            "outputs": [
                {
                    "data": {
                        "text/html": [
                            "<div>\n",
                            "<style scoped>\n",
                            "    .dataframe tbody tr th:only-of-type {\n",
                            "        vertical-align: middle;\n",
                            "    }\n",
                            "\n",
                            "    .dataframe tbody tr th {\n",
                            "        vertical-align: top;\n",
                            "    }\n",
                            "\n",
                            "    .dataframe thead th {\n",
                            "        text-align: right;\n",
                            "    }\n",
                            "</style>\n",
                            "<table border=\"1\" class=\"dataframe\">\n",
                            "  <thead>\n",
                            "    <tr style=\"text-align: right;\">\n",
                            "      <th></th>\n",
                            "      <th>$\\alpha =$ 0.01</th>\n",
                            "      <th>$\\alpha =$ 0.05</th>\n",
                            "      <th>$\\alpha =$ 0.1</th>\n",
                            "    </tr>\n",
                            "    <tr>\n",
                            "      <th>Граница доверительного интервала</th>\n",
                            "      <th></th>\n",
                            "      <th></th>\n",
                            "      <th></th>\n",
                            "    </tr>\n",
                            "  </thead>\n",
                            "  <tbody>\n",
                            "    <tr>\n",
                            "      <th>Нижняя граница</th>\n",
                            "      <td>1.634915</td>\n",
                            "      <td>1.767942</td>\n",
                            "      <td>1.839998</td>\n",
                            "    </tr>\n",
                            "    <tr>\n",
                            "      <th>Верхняя граница</th>\n",
                            "      <td>3.139347</td>\n",
                            "      <td>2.903130</td>\n",
                            "      <td>2.789441</td>\n",
                            "    </tr>\n",
                            "  </tbody>\n",
                            "</table>\n",
                            "</div>"
                        ],
                        "text/plain": [
                            "                                  $\\alpha =$ 0.01  $\\alpha =$ 0.05  \\\n",
                            "Граница доверительного интервала                                     \n",
                            "Нижняя граница                           1.634915         1.767942   \n",
                            "Верхняя граница                          3.139347         2.903130   \n",
                            "\n",
                            "                                  $\\alpha =$ 0.1  \n",
                            "Граница доверительного интервала                  \n",
                            "Нижняя граница                          1.839998  \n",
                            "Верхняя граница                         2.789441  "
                        ]
                    },
                    "execution_count": 39,
                    "metadata": {},
                    "output_type": "execute_result"
                }
            ],
            "source": [
                "intervals = pd.DataFrame(\n",
                "    index=pd.Index(\n",
                "        [\"Нижняя граница\", \"Верхняя граница\"], name=\"Граница доверительного интервала\"\n",
                "    )\n",
                ")\n",
                "alphas = [0.01, 0.05, 0.1]\n",
                "for alpha in alphas:\n",
                "    intervals[f\"$\\\\alpha =$ {alpha}\"] = stats.f.interval(\n",
                "        1 - alpha, dfn=n1 - 1, dfd=n2 - 1, loc=0, scale=X1.var(ddof=1) / X2.var(ddof=1)\n",
                "    )\n",
                "intervals"
            ]
        },
        {
            "cell_type": "code",
            "execution_count": 40,
            "metadata": {},
            "outputs": [
                {
                    "name": "stdout",
                    "output_type": "stream",
                    "text": [
                        "| Граница доверительного интервала | $\\alpha =$ 0.01 | $\\alpha =$ 0.05 | $\\alpha =$ 0.1 |\n",
                        "|---|---|---|---|\n",
                        "| Нижняя граница | 1.63 | 1.77 | 1.84 |\n",
                        "| Верхняя граница | 3.14 | 2.9 | 2.79 |\n",
                        "\n"
                    ]
                }
            ],
            "source": [
                "print(dataframe_to_markdown(intervals))"
            ]
        },
        {
            "cell_type": "markdown",
            "metadata": {},
            "source": [
                "| Граница доверительного интервала | $\\alpha =$ 0.01 | $\\alpha =$ 0.05 | $\\alpha =$ 0.1 |\n",
                "| -------------------------------- | --------------- | --------------- | -------------- |\n",
                "| Нижняя граница                   | 1.63            | 1.77            | 1.84           |\n",
                "| Верхняя граница                  | 3.14            | 2.9             | 2.79           |"
            ]
        },
        {
            "cell_type": "markdown",
            "metadata": {},
            "source": [
                "<a id=\"3\"></a>"
            ]
        },
        {
            "cell_type": "markdown",
            "metadata": {},
            "source": [
                "# Раздел 3. Проверка статистических гипотез о математических ожиданиях и дисперсиях"
            ]
        },
        {
            "cell_type": "markdown",
            "metadata": {},
            "source": [
                "<a id=\"31\"></a>"
            ]
        },
        {
            "cell_type": "markdown",
            "metadata": {},
            "source": [
                "## 3.1 Проверка статистических гипотез о математических ожиданиях"
            ]
        },
        {
            "cell_type": "markdown",
            "metadata": {},
            "source": [
                "### Условие"
            ]
        },
        {
            "cell_type": "markdown",
            "metadata": {},
            "source": [
                "Анализируемый признак  – `B7` (Weight (lbs))\n",
                "\n",
                "Объём выборки – $n$ = `252`\n",
                "\n",
                "Статистическая гипотеза: $H_0:\\ m = m_0; \\quad H':\\ m \\neq m_0$"
            ]
        },
        {
            "cell_type": "markdown",
            "metadata": {},
            "source": [
                "### Определения"
            ]
        },
        {
            "cell_type": "code",
            "execution_count": 41,
            "metadata": {},
            "outputs": [
                {
                    "data": {
                        "text/plain": [
                            "0    154.25\n",
                            "1    173.25\n",
                            "2    154.00\n",
                            "3    184.75\n",
                            "4    184.25\n",
                            "Name: B7, dtype: float64"
                        ]
                    },
                    "execution_count": 41,
                    "metadata": {},
                    "output_type": "execute_result"
                }
            ],
            "source": [
                "X = data(\"3.1\")[0]\n",
                "X.head()"
            ]
        },
        {
            "cell_type": "code",
            "execution_count": 42,
            "metadata": {},
            "outputs": [
                {
                    "name": "stdout",
                    "output_type": "stream",
                    "text": [
                        "252\n"
                    ]
                }
            ],
            "source": [
                "print(n := len(X))"
            ]
        },
        {
            "cell_type": "markdown",
            "metadata": {},
            "source": [
                "### Указать формулы расчёта показателей, используемых при проверке статистических гипотез"
            ]
        },
        {
            "cell_type": "markdown",
            "metadata": {},
            "source": [
                "Мы не знаем параметр $\\sigma$, значит используем `t-test`."
            ]
        },
        {
            "cell_type": "markdown",
            "metadata": {},
            "source": [
                "|                                                                                  | Выражение                                                                |\n",
                "| -------------------------------------------------------------------------------- | ------------------------------------------------------------------------ |\n",
                "| Формула расчёта статистики критерия                                              | $Z = \\dfrac{\\overline X - m_0}{S/\\sqrt{n}}$                              |\n",
                "| Закон распределения статистики критерия при условии истинности основной гипотезы | $T(n - 1)$                                                               |\n",
                "| Формулы расчёта критических точек                                                | $\\pm t_{1 - \\frac{\\alpha}{2}, n - 1}$                                    |\n",
                "| Формула расчёта $p$-value                                                        | $2\\min(F_Z(z_{\\text{выб}} \\mid H_0),\\ 1 - F_Z(z_{\\text{выб}} \\mid H_0))$ |\n"
            ]
        },
        {
            "cell_type": "markdown",
            "metadata": {},
            "source": [
                "### Выбрать произвольные значения $m_0$ и проверить статистические гипотезы"
            ]
        },
        {
            "cell_type": "code",
            "execution_count": 43,
            "metadata": {},
            "outputs": [
                {
                    "data": {
                        "text/markdown": [
                            "### T-test"
                        ],
                        "text/plain": [
                            "<IPython.core.display.Markdown object>"
                        ]
                    },
                    "metadata": {},
                    "output_type": "display_data"
                },
                {
                    "data": {
                        "text/markdown": [
                            "---"
                        ],
                        "text/plain": [
                            "<IPython.core.display.Markdown object>"
                        ]
                    },
                    "metadata": {},
                    "output_type": "display_data"
                },
                {
                    "data": {
                        "text/markdown": [
                            "$H_0: m = m_0 = 120$"
                        ],
                        "text/plain": [
                            "<IPython.core.display.Markdown object>"
                        ]
                    },
                    "metadata": {},
                    "output_type": "display_data"
                },
                {
                    "data": {
                        "text/markdown": [
                            "$z_{выб} =$ 31.83"
                        ],
                        "text/plain": [
                            "<IPython.core.display.Markdown object>"
                        ]
                    },
                    "metadata": {},
                    "output_type": "display_data"
                },
                {
                    "data": {
                        "text/markdown": [
                            "$p =$ 0.00"
                        ],
                        "text/plain": [
                            "<IPython.core.display.Markdown object>"
                        ]
                    },
                    "metadata": {},
                    "output_type": "display_data"
                },
                {
                    "data": {
                        "text/markdown": [
                            "$H_0$ отклоняется"
                        ],
                        "text/plain": [
                            "<IPython.core.display.Markdown object>"
                        ]
                    },
                    "metadata": {},
                    "output_type": "display_data"
                },
                {
                    "data": {
                        "text/markdown": [
                            "---"
                        ],
                        "text/plain": [
                            "<IPython.core.display.Markdown object>"
                        ]
                    },
                    "metadata": {},
                    "output_type": "display_data"
                },
                {
                    "data": {
                        "text/markdown": [
                            "$H_0: m = m_0 = 180$"
                        ],
                        "text/plain": [
                            "<IPython.core.display.Markdown object>"
                        ]
                    },
                    "metadata": {},
                    "output_type": "display_data"
                },
                {
                    "data": {
                        "text/markdown": [
                            "$z_{выб} =$ -0.58"
                        ],
                        "text/plain": [
                            "<IPython.core.display.Markdown object>"
                        ]
                    },
                    "metadata": {},
                    "output_type": "display_data"
                },
                {
                    "data": {
                        "text/markdown": [
                            "$p =$ 0.56"
                        ],
                        "text/plain": [
                            "<IPython.core.display.Markdown object>"
                        ]
                    },
                    "metadata": {},
                    "output_type": "display_data"
                },
                {
                    "data": {
                        "text/markdown": [
                            "$H_0$ принимается"
                        ],
                        "text/plain": [
                            "<IPython.core.display.Markdown object>"
                        ]
                    },
                    "metadata": {},
                    "output_type": "display_data"
                },
                {
                    "data": {
                        "text/markdown": [
                            "---"
                        ],
                        "text/plain": [
                            "<IPython.core.display.Markdown object>"
                        ]
                    },
                    "metadata": {},
                    "output_type": "display_data"
                },
                {
                    "data": {
                        "text/markdown": [
                            "$H_0: m = m_0 = 240$"
                        ],
                        "text/plain": [
                            "<IPython.core.display.Markdown object>"
                        ]
                    },
                    "metadata": {},
                    "output_type": "display_data"
                },
                {
                    "data": {
                        "text/markdown": [
                            "$z_{выб} =$ -32.99"
                        ],
                        "text/plain": [
                            "<IPython.core.display.Markdown object>"
                        ]
                    },
                    "metadata": {},
                    "output_type": "display_data"
                },
                {
                    "data": {
                        "text/markdown": [
                            "$p =$ 0.00"
                        ],
                        "text/plain": [
                            "<IPython.core.display.Markdown object>"
                        ]
                    },
                    "metadata": {},
                    "output_type": "display_data"
                },
                {
                    "data": {
                        "text/markdown": [
                            "$H_0$ отклоняется"
                        ],
                        "text/plain": [
                            "<IPython.core.display.Markdown object>"
                        ]
                    },
                    "metadata": {},
                    "output_type": "display_data"
                }
            ],
            "source": [
                "alpha = 0.1\n",
                "m0_list = [120, 180, 240]\n",
                "\n",
                "mprint(r\"### T-test\")\n",
                "for m0 in m0_list:\n",
                "    z, p_value = stats.ttest_1samp(X, m0)\n",
                "    mprint(\n",
                "        r\"---\",\n",
                "        f\"$H_0: m = m_0 = {m0}$\",\n",
                "        f\"$z_{{выб}} =$ {z:.2f}\",\n",
                "        f\"$p =$ {p_value:.2f}\",\n",
                "        verdict(alpha, p_value),\n",
                "    )"
            ]
        },
        {
            "cell_type": "markdown",
            "metadata": {},
            "source": [
                "| $m_0$ | Уровень значимости | Выборочное значение статистического критерия | $p$-value | Статистическое решение | Вывод        |\n",
                "| ----- | ------------------ | -------------------------------------------- | --------- | ---------------------- | ------------ |\n",
                "| 120   | 0.1                | 31.83                                        | 0.00      | $H_0$ отклоняется      | $m \\neq 120$ |\n",
                "| 180   | 0.1                | -0.58                                        | 0.56      | $H_0$ принимается      | $m = 180$    |\n",
                "| 240   | 0.1                | -32.99                                       | 0.00      | $H_0$ отклоняется      | $m \\neq 240$ |\n"
            ]
        },
        {
            "cell_type": "markdown",
            "metadata": {},
            "source": [
                "<a id=\"32\"></a>"
            ]
        },
        {
            "cell_type": "markdown",
            "metadata": {},
            "source": [
                "## 3.2 Проверка статистических гипотез о дисперсиях"
            ]
        },
        {
            "cell_type": "markdown",
            "metadata": {},
            "source": [
                "### Условие"
            ]
        },
        {
            "cell_type": "markdown",
            "metadata": {},
            "source": [
                "Анализируемый признак  – `B7` (Weight (lbs))\n",
                "\n",
                "Объём выборки – $n$ = `252`\n",
                "\n",
                "Статистическая гипотеза: $H_0:\\ \\sigma = \\sigma_0; \\quad H':\\ \\sigma \\neq \\sigma_0$"
            ]
        },
        {
            "cell_type": "markdown",
            "metadata": {},
            "source": [
                "### Определения"
            ]
        },
        {
            "cell_type": "code",
            "execution_count": 44,
            "metadata": {},
            "outputs": [
                {
                    "data": {
                        "text/plain": [
                            "0    154.25\n",
                            "1    173.25\n",
                            "2    154.00\n",
                            "3    184.75\n",
                            "4    184.25\n",
                            "Name: B7, dtype: float64"
                        ]
                    },
                    "execution_count": 44,
                    "metadata": {},
                    "output_type": "execute_result"
                }
            ],
            "source": [
                "X = data(\"3.2\")[0]\n",
                "X.head()"
            ]
        },
        {
            "cell_type": "code",
            "execution_count": 45,
            "metadata": {},
            "outputs": [
                {
                    "name": "stdout",
                    "output_type": "stream",
                    "text": [
                        "252\n"
                    ]
                }
            ],
            "source": [
                "print(n := len(X))"
            ]
        },
        {
            "cell_type": "markdown",
            "metadata": {},
            "source": [
                "### Указать формулы расчёта показателей, используемых при проверке статистических гипотез"
            ]
        },
        {
            "cell_type": "markdown",
            "metadata": {},
            "source": [
                "Мы не знаем параметр $m$, значит используем $\\chi^2-test$."
            ]
        },
        {
            "cell_type": "markdown",
            "metadata": {},
            "source": [
                "|                                                                                  | Выражение                                                                 |\n",
                "| -------------------------------------------------------------------------------- | ------------------------------------------------------------------------- |\n",
                "| Формула расчёта статистики критерия                                              | $Z = \\dfrac{(n - 1)S^2}{\\sigma_0^2}$                                      |\n",
                "| Закон распределения статистики критерия при условии истинности основной гипотезы | $\\chi^2(n - 1)$                                                           |\n",
                "| Формулы расчёта критических точек                                                | $\\chi^2_{\\frac{\\alpha}{2}, n - 1},\\ \\chi^2_{1 - \\frac{\\alpha}{2}, n - 1}$ |\n",
                "| Формула расчёта $p$-value                                                        | $2\\min(F_Z(z_{\\text{выб}} \\mid H_0),\\ 1 - F_Z(z_{\\text{выб}} \\mid H_0))$  |\n"
            ]
        },
        {
            "cell_type": "markdown",
            "metadata": {},
            "source": [
                "### Выбрать произвольные значения $\\sigma_0$ и проверить статистические гипотезы"
            ]
        },
        {
            "cell_type": "code",
            "execution_count": 46,
            "metadata": {},
            "outputs": [],
            "source": [
                "def chisquare(X, value):\n",
                "    n = len(X)\n",
                "    z = (n - 1) * X.var(ddof=1) / value**2\n",
                "    cdf = stats.chi2.cdf(z, df=n - 1)\n",
                "    p_value = 2 * min(cdf, 1 - cdf)\n",
                "    return z, p_value"
            ]
        },
        {
            "cell_type": "code",
            "execution_count": 47,
            "metadata": {},
            "outputs": [
                {
                    "data": {
                        "text/markdown": [
                            "### $\\chi^2$-test"
                        ],
                        "text/plain": [
                            "<IPython.core.display.Markdown object>"
                        ]
                    },
                    "metadata": {},
                    "output_type": "display_data"
                },
                {
                    "data": {
                        "text/markdown": [
                            "---"
                        ],
                        "text/plain": [
                            "<IPython.core.display.Markdown object>"
                        ]
                    },
                    "metadata": {},
                    "output_type": "display_data"
                },
                {
                    "data": {
                        "text/markdown": [
                            "$H_0: \\sigma = \\sigma_0 = 10$"
                        ],
                        "text/plain": [
                            "<IPython.core.display.Markdown object>"
                        ]
                    },
                    "metadata": {},
                    "output_type": "display_data"
                },
                {
                    "data": {
                        "text/markdown": [
                            "$z_{выб} =$ 2167.94"
                        ],
                        "text/plain": [
                            "<IPython.core.display.Markdown object>"
                        ]
                    },
                    "metadata": {},
                    "output_type": "display_data"
                },
                {
                    "data": {
                        "text/markdown": [
                            "$p =$ 0.00"
                        ],
                        "text/plain": [
                            "<IPython.core.display.Markdown object>"
                        ]
                    },
                    "metadata": {},
                    "output_type": "display_data"
                },
                {
                    "data": {
                        "text/markdown": [
                            "$H_0$ отклоняется"
                        ],
                        "text/plain": [
                            "<IPython.core.display.Markdown object>"
                        ]
                    },
                    "metadata": {},
                    "output_type": "display_data"
                },
                {
                    "data": {
                        "text/markdown": [
                            "---"
                        ],
                        "text/plain": [
                            "<IPython.core.display.Markdown object>"
                        ]
                    },
                    "metadata": {},
                    "output_type": "display_data"
                },
                {
                    "data": {
                        "text/markdown": [
                            "$H_0: \\sigma = \\sigma_0 = 20$"
                        ],
                        "text/plain": [
                            "<IPython.core.display.Markdown object>"
                        ]
                    },
                    "metadata": {},
                    "output_type": "display_data"
                },
                {
                    "data": {
                        "text/markdown": [
                            "$z_{выб} =$ 541.99"
                        ],
                        "text/plain": [
                            "<IPython.core.display.Markdown object>"
                        ]
                    },
                    "metadata": {},
                    "output_type": "display_data"
                },
                {
                    "data": {
                        "text/markdown": [
                            "$p =$ 0.00"
                        ],
                        "text/plain": [
                            "<IPython.core.display.Markdown object>"
                        ]
                    },
                    "metadata": {},
                    "output_type": "display_data"
                },
                {
                    "data": {
                        "text/markdown": [
                            "$H_0$ отклоняется"
                        ],
                        "text/plain": [
                            "<IPython.core.display.Markdown object>"
                        ]
                    },
                    "metadata": {},
                    "output_type": "display_data"
                },
                {
                    "data": {
                        "text/markdown": [
                            "---"
                        ],
                        "text/plain": [
                            "<IPython.core.display.Markdown object>"
                        ]
                    },
                    "metadata": {},
                    "output_type": "display_data"
                },
                {
                    "data": {
                        "text/markdown": [
                            "$H_0: \\sigma = \\sigma_0 = 30$"
                        ],
                        "text/plain": [
                            "<IPython.core.display.Markdown object>"
                        ]
                    },
                    "metadata": {},
                    "output_type": "display_data"
                },
                {
                    "data": {
                        "text/markdown": [
                            "$z_{выб} =$ 240.88"
                        ],
                        "text/plain": [
                            "<IPython.core.display.Markdown object>"
                        ]
                    },
                    "metadata": {},
                    "output_type": "display_data"
                },
                {
                    "data": {
                        "text/markdown": [
                            "$p =$ 0.67"
                        ],
                        "text/plain": [
                            "<IPython.core.display.Markdown object>"
                        ]
                    },
                    "metadata": {},
                    "output_type": "display_data"
                },
                {
                    "data": {
                        "text/markdown": [
                            "$H_0$ принимается"
                        ],
                        "text/plain": [
                            "<IPython.core.display.Markdown object>"
                        ]
                    },
                    "metadata": {},
                    "output_type": "display_data"
                }
            ],
            "source": [
                "alpha = 0.1\n",
                "std0_list = [10, 20, 30]\n",
                "\n",
                "mprint(r\"### $\\chi^2$-test\")\n",
                "for std0 in std0_list:\n",
                "    z, p_value = chisquare(X, std0)\n",
                "    mprint(\n",
                "        r\"---\",\n",
                "        f\"$H_0: \\\\sigma = \\\\sigma_0 = {std0}$\",\n",
                "        f\"$z_{{выб}} =$ {z:.2f}\",\n",
                "        f\"$p =$ {p_value:.2f}\",\n",
                "        verdict(alpha, p_value),\n",
                "    )"
            ]
        },
        {
            "cell_type": "markdown",
            "metadata": {},
            "source": [
                "| $\\sigma_0$ | Уровень значимости | Выборочное значение статистического критерия | $p$-value | Статистическое решение | Вывод            |\n",
                "| ---------- | ------------------ | -------------------------------------------- | --------- | ---------------------- | ---------------- |\n",
                "| 10         | 0.1                | 2167.94                                      | 0.00      | $H_0$ отклоняется      | $\\sigma \\neq 10$ |\n",
                "| 20         | 0.1                | 541.99                                       | 0.00      | $H_0$ отклоняется      | $\\sigma \\neq 20$ |\n",
                "| 30         | 0.1                | 240.88                                       | 0.67      | $H_0$ принимается      | $\\sigma = 30$    |"
            ]
        },
        {
            "cell_type": "markdown",
            "metadata": {},
            "source": [
                "<a id=\"33\"></a>"
            ]
        },
        {
            "cell_type": "markdown",
            "metadata": {},
            "source": [
                "## 3.3 Проверка статистических гипотез о равенстве математических ожиданий"
            ]
        },
        {
            "cell_type": "markdown",
            "metadata": {},
            "source": [
                "### Условие"
            ]
        },
        {
            "cell_type": "markdown",
            "metadata": {},
            "source": [
                "Анализируемый признак 1 – `B11` (Abdomen circumference (cm))\n",
                "\n",
                "Анализируемый признак 2 – `B12` (Hip circumference (cm))\n",
                "\n",
                "Объёмы выборок – $n_1 = n_2 = 252$\n",
                "\n",
                "Статистическая гипотеза: $H_0:\\ m_1 = m_2; \\quad H':\\ m_1 \\neq m_2$"
            ]
        },
        {
            "cell_type": "markdown",
            "metadata": {},
            "source": [
                "### Определения"
            ]
        },
        {
            "cell_type": "code",
            "execution_count": 48,
            "metadata": {},
            "outputs": [
                {
                    "data": {
                        "text/plain": [
                            "(0     85.2\n",
                            " 1     83.0\n",
                            " 2     87.9\n",
                            " 3     86.4\n",
                            " 4    100.0\n",
                            " Name: B11, dtype: float64,\n",
                            " 0     94.5\n",
                            " 1     98.7\n",
                            " 2     99.2\n",
                            " 3    101.2\n",
                            " 4    101.9\n",
                            " Name: B12, dtype: float64)"
                        ]
                    },
                    "execution_count": 48,
                    "metadata": {},
                    "output_type": "execute_result"
                }
            ],
            "source": [
                "X1, X2 = data(\"3.3\")\n",
                "X1.head(), X2.head()"
            ]
        },
        {
            "cell_type": "code",
            "execution_count": 49,
            "metadata": {},
            "outputs": [
                {
                    "name": "stdout",
                    "output_type": "stream",
                    "text": [
                        "252 252\n"
                    ]
                }
            ],
            "source": [
                "print(n1 := len(X1), n2 := len(X2))"
            ]
        },
        {
            "cell_type": "markdown",
            "metadata": {},
            "source": [
                "### Указать формулы расчёта показателей, используемых при проверке статистических гипотез"
            ]
        },
        {
            "cell_type": "markdown",
            "metadata": {},
            "source": [
                "Мы не знаем параметр $\\sigma$, значит используем `t-test`."
            ]
        },
        {
            "cell_type": "markdown",
            "metadata": {},
            "source": [
                "|                                                                                  | Выражение                                                                                                                                                  |\n",
                "| -------------------------------------------------------------------------------- | ---------------------------------------------------------------------------------------------------------------------------------------------------------- |\n",
                "| Формула расчёта статистики критерия                                              | $Z = \\dfrac{\\overline{X_1} - \\overline{X_2}}{S\\sqrt{\\dfrac{1}{n_1} + \\dfrac{1}{n_2}}}$, где $S^2 = \\dfrac{(n_1 - 1)S_1^2 + (n_2 - 1)S_2^2}{n_1 + n_2 - 2}$ |\n",
                "| Закон распределения статистики критерия при условии истинности основной гипотезы | $T(n_1 + n_2 - 2)$                                                                                                                                         |\n",
                "| Формулы расчёта критических точек                                                | $\\pm t_{1 - \\frac{\\alpha}{2}, n_1 + n_2 - 2}$                                                                                                              |\n",
                "| Формула расчёта $p$-value                                                        | $2\\min(F_Z(z_{\\text{выб}} \\mid H_0),\\ 1 - F_Z(z_{\\text{выб}} \\mid H_0))$                                                                                   |\n"
            ]
        },
        {
            "cell_type": "markdown",
            "metadata": {},
            "source": [
                "### Проверить статистические гипотезы"
            ]
        },
        {
            "cell_type": "code",
            "execution_count": 50,
            "metadata": {},
            "outputs": [
                {
                    "data": {
                        "text/markdown": [
                            "### two-sample T-test"
                        ],
                        "text/plain": [
                            "<IPython.core.display.Markdown object>"
                        ]
                    },
                    "metadata": {},
                    "output_type": "display_data"
                },
                {
                    "data": {
                        "text/markdown": [
                            "$H_0: m_1 = m_2$"
                        ],
                        "text/plain": [
                            "<IPython.core.display.Markdown object>"
                        ]
                    },
                    "metadata": {},
                    "output_type": "display_data"
                },
                {
                    "data": {
                        "text/markdown": [
                            "$z_{выб} =$ -9.01"
                        ],
                        "text/plain": [
                            "<IPython.core.display.Markdown object>"
                        ]
                    },
                    "metadata": {},
                    "output_type": "display_data"
                },
                {
                    "data": {
                        "text/markdown": [
                            "$p =$ 0.00"
                        ],
                        "text/plain": [
                            "<IPython.core.display.Markdown object>"
                        ]
                    },
                    "metadata": {},
                    "output_type": "display_data"
                },
                {
                    "data": {
                        "text/markdown": [
                            "При $\\alpha = 0.01$ $H_0$ отклоняется"
                        ],
                        "text/plain": [
                            "<IPython.core.display.Markdown object>"
                        ]
                    },
                    "metadata": {},
                    "output_type": "display_data"
                },
                {
                    "data": {
                        "text/markdown": [
                            "При $\\alpha = 0.05$ $H_0$ отклоняется"
                        ],
                        "text/plain": [
                            "<IPython.core.display.Markdown object>"
                        ]
                    },
                    "metadata": {},
                    "output_type": "display_data"
                },
                {
                    "data": {
                        "text/markdown": [
                            "При $\\alpha = 0.1$ $H_0$ отклоняется"
                        ],
                        "text/plain": [
                            "<IPython.core.display.Markdown object>"
                        ]
                    },
                    "metadata": {},
                    "output_type": "display_data"
                }
            ],
            "source": [
                "alphas = [0.01, 0.05, 0.1]\n",
                "z, p_value = stats.ttest_ind(X1, X2)\n",
                "mprint(\n",
                "    r\"### two-sample T-test\",\n",
                "    f\"$H_0: m_1 = m_2$\",\n",
                "    f\"$z_{{выб}} =$ {z:.2f}\",\n",
                "    f\"$p =$ {p_value:.2f}\",\n",
                ")\n",
                "for alpha in alphas:\n",
                "    mprint(f\"При $\\\\alpha = {alpha}$ {verdict(alpha, p_value)}\")"
            ]
        },
        {
            "cell_type": "markdown",
            "metadata": {},
            "source": [
                "| Уровень значимости | Выборочное значение статистического критерия | $p$-value | Статистическое решение | Вывод        |\n",
                "| ------------------ | -------------------------------------------- | --------- | ---------------------- | ------------ |\n",
                "| 0.01               | -9.01                                        | 0.00      | $H_0$ отклоняется      | $m_1 \\neq m_2$ |\n",
                "| 0.05               | -9.01                                        | 0.00      | $H_0$ отклоняется      | $m_1 \\neq m_2$    |\n",
                "| 0.1                | -9.01                                        | 0.00      | $H_0$ отклоняется      | $m_1 \\neq m_2$ |\n"
            ]
        },
        {
            "cell_type": "markdown",
            "metadata": {},
            "source": [
                "<a id=\"34\"></a>"
            ]
        },
        {
            "cell_type": "markdown",
            "metadata": {},
            "source": [
                "## 3.4 Проверка статистических гипотез о равенстве дисперсий"
            ]
        },
        {
            "cell_type": "markdown",
            "metadata": {},
            "source": [
                "### Условие"
            ]
        },
        {
            "cell_type": "markdown",
            "metadata": {},
            "source": [
                "Анализируемый признак 1 – `B11` (Abdomen circumference (cm))\n",
                "\n",
                "Анализируемый признак 2 – `B12` (Hip circumference (cm))\n",
                "\n",
                "Объёмы выборок – $n_1 = n_2 = 252$\n",
                "\n",
                "Статистическая гипотеза: $H_0:\\ \\sigma_1 = \\sigma_2; \\quad H':\\ \\sigma_1 \\neq \\sigma_2$"
            ]
        },
        {
            "cell_type": "markdown",
            "metadata": {},
            "source": [
                "### Определения"
            ]
        },
        {
            "cell_type": "code",
            "execution_count": 51,
            "metadata": {},
            "outputs": [
                {
                    "data": {
                        "text/plain": [
                            "(0     85.2\n",
                            " 1     83.0\n",
                            " 2     87.9\n",
                            " 3     86.4\n",
                            " 4    100.0\n",
                            " Name: B11, dtype: float64,\n",
                            " 0     94.5\n",
                            " 1     98.7\n",
                            " 2     99.2\n",
                            " 3    101.2\n",
                            " 4    101.9\n",
                            " Name: B12, dtype: float64)"
                        ]
                    },
                    "execution_count": 51,
                    "metadata": {},
                    "output_type": "execute_result"
                }
            ],
            "source": [
                "X1, X2 = data(\"3.4\")\n",
                "X1.head(), X2.head()"
            ]
        },
        {
            "cell_type": "code",
            "execution_count": 52,
            "metadata": {},
            "outputs": [
                {
                    "name": "stdout",
                    "output_type": "stream",
                    "text": [
                        "252 252\n"
                    ]
                }
            ],
            "source": [
                "print(n1 := len(X1), n2 := len(X2))"
            ]
        },
        {
            "cell_type": "markdown",
            "metadata": {},
            "source": [
                "### Указать формулы расчёта показателей, используемых при проверке статистических гипотез"
            ]
        },
        {
            "cell_type": "markdown",
            "metadata": {},
            "source": [
                "|                                                                                  | Выражение                                                                                 |\n",
                "| -------------------------------------------------------------------------------- | ----------------------------------------------------------------------------------------- |\n",
                "| Формула расчёта статистики критерия                                              | $Z = \\dfrac{S_1^2}{S_2^2}$                                                                |\n",
                "| Закон распределения статистики критерия при условии истинности основной гипотезы | $F(n_1 - 1,\\ n_2 - 1)$                                                                    |\n",
                "| Формулы расчёта критических точек                                                | $F_{\\frac{\\alpha}{2},\\ n_1 - 1,\\ n_2 - 1},\\ F_{1 - \\frac{\\alpha}{2},\\ n_1 - 1,\\ n_2 - 1}$ |\n",
                "| Формула расчёта $p$-value                                                        | $2\\min(F_Z(z_{\\text{выб}} \\mid H_0),\\ 1 - F_Z(z_{\\text{выб}} \\mid H_0))$                  |"
            ]
        },
        {
            "cell_type": "markdown",
            "metadata": {},
            "source": [
                "### Проверить статистические гипотезы"
            ]
        },
        {
            "cell_type": "code",
            "execution_count": 53,
            "metadata": {},
            "outputs": [],
            "source": [
                "def Ftest(X1, X2):\n",
                "    n1 = len(X1)\n",
                "    n2 = len(X2)\n",
                "    z = X1.var(ddof=1) / X2.var(ddof=1)\n",
                "    cdf = stats.f.cdf(z, dfn=n1 - 1, dfd=n2 - 1)\n",
                "    p_value = 2 * min(cdf, 1 - cdf)\n",
                "    return z, p_value"
            ]
        },
        {
            "cell_type": "code",
            "execution_count": 54,
            "metadata": {},
            "outputs": [
                {
                    "data": {
                        "text/markdown": [
                            "### F-test"
                        ],
                        "text/plain": [
                            "<IPython.core.display.Markdown object>"
                        ]
                    },
                    "metadata": {},
                    "output_type": "display_data"
                },
                {
                    "data": {
                        "text/markdown": [
                            "$H_0: \\sigma_1 = \\sigma_2$"
                        ],
                        "text/plain": [
                            "<IPython.core.display.Markdown object>"
                        ]
                    },
                    "metadata": {},
                    "output_type": "display_data"
                },
                {
                    "data": {
                        "text/markdown": [
                            "$z_{выб} =$ 2.27"
                        ],
                        "text/plain": [
                            "<IPython.core.display.Markdown object>"
                        ]
                    },
                    "metadata": {},
                    "output_type": "display_data"
                },
                {
                    "data": {
                        "text/markdown": [
                            "$p =$ 0.00"
                        ],
                        "text/plain": [
                            "<IPython.core.display.Markdown object>"
                        ]
                    },
                    "metadata": {},
                    "output_type": "display_data"
                },
                {
                    "data": {
                        "text/markdown": [
                            "При $\\alpha = 0.01$ $H_0$ отклоняется"
                        ],
                        "text/plain": [
                            "<IPython.core.display.Markdown object>"
                        ]
                    },
                    "metadata": {},
                    "output_type": "display_data"
                },
                {
                    "data": {
                        "text/markdown": [
                            "При $\\alpha = 0.05$ $H_0$ отклоняется"
                        ],
                        "text/plain": [
                            "<IPython.core.display.Markdown object>"
                        ]
                    },
                    "metadata": {},
                    "output_type": "display_data"
                },
                {
                    "data": {
                        "text/markdown": [
                            "При $\\alpha = 0.1$ $H_0$ отклоняется"
                        ],
                        "text/plain": [
                            "<IPython.core.display.Markdown object>"
                        ]
                    },
                    "metadata": {},
                    "output_type": "display_data"
                }
            ],
            "source": [
                "alphas = [0.01, 0.05, 0.1]\n",
                "z, p_value = Ftest(X1, X2)\n",
                "mprint(\n",
                "    r\"### F-test\",\n",
                "    f\"$H_0: \\\\sigma_1 = \\\\sigma_2$\",\n",
                "    f\"$z_{{выб}} =$ {z:.2f}\",\n",
                "    f\"$p =$ {p_value:.2f}\",\n",
                ")\n",
                "\n",
                "for alpha in alphas:\n",
                "    mprint(f\"При $\\\\alpha = {alpha}$ {verdict(alpha, p_value)}\")"
            ]
        },
        {
            "cell_type": "markdown",
            "metadata": {},
            "source": [
                "| Уровень значимости | Выборочное значение статистического критерия | $p$-value | Статистическое решение | Вывод                    |\n",
                "| ------------------ | -------------------------------------------- | --------- | ---------------------- | ------------------------ |\n",
                "| 0.01               | 2.27                                         | 0.00      | $H_0$ отклоняется      | $\\sigma_1 \\neq \\sigma_2$ |\n",
                "| 0.05               | 2.27                                         | 0.00      | $H_0$ отклоняется      | $\\sigma_1 \\neq \\sigma_2$ |\n",
                "| 0.1                | 2.27                                         | 0.00      | $H_0$ отклоняется      | $\\sigma_1 \\neq \\sigma_2$ |"
            ]
        },
        {
            "cell_type": "markdown",
            "metadata": {},
            "source": [
                "<a id=\"4\"></a>"
            ]
        },
        {
            "cell_type": "markdown",
            "metadata": {},
            "source": [
                "# Раздел 4. Критерии согласия"
            ]
        },
        {
            "cell_type": "markdown",
            "metadata": {},
            "source": [
                "## Условие"
            ]
        },
        {
            "cell_type": "markdown",
            "metadata": {},
            "source": [
                "Анализируемый признак  – `B7` (Weight (lbs))\n",
                "\n",
                "Объём выборки – `252`"
            ]
        },
        {
            "cell_type": "markdown",
            "metadata": {},
            "source": [
                "## Определения"
            ]
        },
        {
            "cell_type": "code",
            "execution_count": 55,
            "metadata": {},
            "outputs": [
                {
                    "data": {
                        "text/plain": [
                            "0    154.25\n",
                            "1    173.25\n",
                            "2    154.00\n",
                            "3    184.75\n",
                            "4    184.25\n",
                            "Name: B7, dtype: float64"
                        ]
                    },
                    "execution_count": 55,
                    "metadata": {},
                    "output_type": "execute_result"
                }
            ],
            "source": [
                "X = data(\"4\")[0]\n",
                "X.head()"
            ]
        },
        {
            "cell_type": "code",
            "execution_count": 56,
            "metadata": {},
            "outputs": [
                {
                    "name": "stdout",
                    "output_type": "stream",
                    "text": [
                        "252\n"
                    ]
                }
            ],
            "source": [
                "print(n := len(X))"
            ]
        },
        {
            "cell_type": "markdown",
            "metadata": {},
            "source": [
                "<a id=\"41\"></a>"
            ]
        },
        {
            "cell_type": "markdown",
            "metadata": {},
            "source": [
                "## 4.1 Критерий $\\chi^2$ "
            ]
        },
        {
            "cell_type": "markdown",
            "metadata": {},
            "source": [
                "Теоретическое распределение - нормальное.\n",
                "\n",
                "Статистическая гипотеза - $H_0:\\ X \\sim N; \\quad H':\\ X \\nsim N$"
            ]
        },
        {
            "cell_type": "markdown",
            "metadata": {},
            "source": [
                "### Указать формулы расчёта показателей, используемых при проверке статистических гипотез"
            ]
        },
        {
            "cell_type": "markdown",
            "metadata": {},
            "source": [
                "|                                                                                  | Выражение                                                                         | Пояснение использованных обозначений                                                                                                                                                                                                                                                                                                                                               |\n",
                "| -------------------------------------------------------------------------------- | --------------------------------------------------------------------------------- | ---------------------------------------------------------------------------------------------------------------------------------------------------------------------------------------------------------------------------------------------------------------------------------------------------------------------------------------------------------------------------------- |\n",
                "| Формула расчёта статистики критерия                                              | $Z = \\sum\\limits_{i=1}^{k} \\dfrac{\\left(n_i - n \\cdot p_i\\right)^2}{n \\cdot p_i}$ | $k$ - число интервалов в группированном статистическом ряду. $\\\\$ $n_i$ - частота попадания случайной величины $\\mathbf X$ в интервал $\\Delta_i$. $\\\\$ $p_i$ - вероятность попадания случайной величины $\\mathbf X$ в интервал $\\Delta_i$ в условиях $H_0$, то есть, если $\\Delta_i = (a_{i-1}, a_{i}]$, то $$p_i = \\int\\limits_{a_{i-1}}^{a_{i}}g(x)dx = G(a_{i}) - G(a_{i-1}).$$ |\n",
                "| Закон распределения статистики критерия при условии истинности основной гипотезы | $\\chi^2(k - r - 1)$                                                               | $r$ - количество оцениваемых параметров у предполагаемого распределения $G$.                                                                                                                                                                                                                                                                                                       |\n",
                "| Формулы расчёта критической точки                                                | $\\chi^2_{1 - \\alpha,\\ k - r - 1}$                                                 | Малые значения $Z$ нам также подходят, поэтому критическая область выбирается правосторонней                                                                                                                                                                                                                                                                                       |\n",
                "| Формула расчёта $p$-value                                                        | $1 - F_Z(z_{\\text{выб}} \\mid H_0)$                                                |                                                                                                                                                                                                                                                                                                                                                                                    |"
            ]
        },
        {
            "cell_type": "markdown",
            "metadata": {},
            "source": [
                "### Выбрать число групп"
            ]
        },
        {
            "cell_type": "markdown",
            "metadata": {},
            "source": [
                "Область всевозможных значений предполагаемого распределения делят на $k$ групп(интервалов). Наше предполагаемое распределение - нормальное. Поэтому делим ВСЮ числовую прямую на $k$ интервалов.\n",
                "\n",
                "Обычно выбирают число групп по формуле Стерджесса: $k \\approx 1 + 1,3 \\ln{n}$.\n",
                "\n",
                "Однако критерий $\\chi^2$ чувствителен к группам, для которых ожидаемые частоты $n \\cdot p_i$ меньше 5. Поэтому при группировке нужно учитывать это.\n",
                "\n",
                "Я поступал следующим образом:\n",
                "1. Разбивал выборку на $k$ групп библиотечными функциями.\n",
                "2. Левый конец первого интервала и правый конец второго интервала устремлял в $\\infty$.\n",
                "3. Рассчитывал $n \\cdot p_i$, и в зависимости от этого соединял некоторые соседние интервалы.\n",
                "4. Если нужно, подразбивал интервалы с большим $n \\cdot p_i$."
            ]
        },
        {
            "cell_type": "code",
            "execution_count": 57,
            "metadata": {},
            "outputs": [
                {
                    "data": {
                        "text/plain": [
                            "8"
                        ]
                    },
                    "execution_count": 57,
                    "metadata": {},
                    "output_type": "execute_result"
                }
            ],
            "source": [
                "k = round(1 + 1.3 * m.log(n))\n",
                "k"
            ]
        },
        {
            "cell_type": "code",
            "execution_count": 58,
            "metadata": {},
            "outputs": [
                {
                    "data": {
                        "text/plain": [
                            "array([118.5    , 149.08125, 179.6625 , 210.24375, 240.825  , 271.40625,\n",
                            "       301.9875 , 332.56875, 363.15   ])"
                        ]
                    },
                    "execution_count": 58,
                    "metadata": {},
                    "output_type": "execute_result"
                }
            ],
            "source": [
                "frequences, bin_edges = np.histogram(X, bins=k)\n",
                "bin_edges"
            ]
        },
        {
            "cell_type": "markdown",
            "metadata": {},
            "source": [
                "<a id=\"pm1000\"></a>"
            ]
        },
        {
            "cell_type": "markdown",
            "metadata": {},
            "source": [
                "Устремляю левый конец первого интервала в $-\\infty$ и правый конец последнего интервала в $+\\infty$. Можно считать, что точки $\\pm1000$ - это $\\pm\\infty$, так как за интервал $(-1000, 1000)$, смотря по выборке, вероятность попадания ничтожно мала. Но в каких то случаях, нужно скорректировать эти значения."
            ]
        },
        {
            "cell_type": "code",
            "execution_count": 59,
            "metadata": {},
            "outputs": [
                {
                    "data": {
                        "text/plain": [
                            "array([-1000.     ,   149.08125,   179.6625 ,   210.24375,   240.825  ,\n",
                            "         271.40625,   301.9875 ,   332.56875,  1000.     ])"
                        ]
                    },
                    "execution_count": 59,
                    "metadata": {},
                    "output_type": "execute_result"
                }
            ],
            "source": [
                "bin_edges[0] = -1000\n",
                "bin_edges[-1] = 1000\n",
                "bin_edges"
            ]
        },
        {
            "cell_type": "markdown",
            "metadata": {},
            "source": [
                "Для каждого интервала $[a_{i-1}, a_i]$ найдём $p_i = G(a_i) - G(a_{i-1})$ - вероятность попадания случайной величины $\\mathbf X$ в интервал $[a_{i-1}, a_i]$ в условиях $H_0$.\n",
                "\n",
                "Напомним, что в данном случае теоретическое распределение - нормальное. Поэтому и будем использовать `stats.norm.cdf()`."
            ]
        },
        {
            "cell_type": "code",
            "execution_count": 60,
            "metadata": {},
            "outputs": [
                {
                    "data": {
                        "text/plain": [
                            "array([1.54946233e-01, 3.55071966e-01, 3.46696912e-01, 1.25693091e-01,\n",
                            "       1.67664622e-02, 8.11224914e-04, 1.40249714e-05, 8.57111686e-08])"
                        ]
                    },
                    "execution_count": 60,
                    "metadata": {},
                    "output_type": "execute_result"
                }
            ],
            "source": [
                "probabilities = np.diff(stats.norm(loc=X.mean(), scale=X.std(ddof=1)).cdf(bin_edges))\n",
                "probabilities"
            ]
        },
        {
            "cell_type": "markdown",
            "metadata": {},
            "source": [
                "Мы нашли вероятности попасть в каждый интервал. Теперь найдём ожидаемые частоты $n \\cdot p_i$."
            ]
        },
        {
            "cell_type": "code",
            "execution_count": 61,
            "metadata": {},
            "outputs": [],
            "source": [
                "def get_expected_frequencies(bin_edges, n, cdf=stats.norm.cdf):\n",
                "    probabilities = np.diff(cdf(bin_edges))\n",
                "    return n * probabilities"
            ]
        },
        {
            "cell_type": "code",
            "execution_count": 62,
            "metadata": {},
            "outputs": [
                {
                    "data": {
                        "text/plain": [
                            "array([3.90464507e+01, 8.94781354e+01, 8.73676218e+01, 3.16746590e+01,\n",
                            "       4.22514847e+00, 2.04428678e-01, 3.53429279e-03, 2.15992145e-05])"
                        ]
                    },
                    "execution_count": 62,
                    "metadata": {},
                    "output_type": "execute_result"
                }
            ],
            "source": [
                "get_expected_frequencies(\n",
                "    bin_edges, n, cdf=stats.norm(loc=X.mean(), scale=X.std(ddof=1)).cdf\n",
                ")"
            ]
        },
        {
            "cell_type": "markdown",
            "metadata": {},
            "source": [
                "Как видим, для пятого и всех последующих интервалов ожидаемые частоты меньше 5. Условие $n \\cdot p_i \\gtrsim 5$ не выполняется.\n",
                "\n",
                "Следует объединить эти интервалы с соседними, пока это условие не будет выполнено."
            ]
        },
        {
            "cell_type": "code",
            "execution_count": 63,
            "metadata": {},
            "outputs": [],
            "source": [
                "def merge_interval(bin_edges, expected_frequencies, i):\n",
                "    # Объединяем два интервала в зависимости от их индексов.\n",
                "    if i == 0:  # Крайний левый интервал\n",
                "        bin_edges.pop(i + 1)\n",
                "        expected_frequencies[i + 1] += expected_frequencies[i]\n",
                "    elif i == len(bin_edges) - 2:  # Крайний правый интервал\n",
                "        bin_edges.pop(i)\n",
                "        expected_frequencies[i - 1] += expected_frequencies[i]\n",
                "    else:  # Объединяем с соседом c наименьшим expected_frequencies\n",
                "        if expected_frequencies[i - 1] < expected_frequencies[i + 1]:\n",
                "            bin_edges.pop(i)\n",
                "            expected_frequencies[i - 1] += expected_frequencies[i]\n",
                "        else:\n",
                "            bin_edges.pop(i + 1)\n",
                "            expected_frequencies[i + 1] += expected_frequencies[i]\n",
                "    expected_frequencies.pop(i)"
            ]
        },
        {
            "cell_type": "code",
            "execution_count": 64,
            "metadata": {},
            "outputs": [],
            "source": [
                "def adjust_intervals(bin_edges, n, distrib=stats.norm, k=None):\n",
                "    \"\"\"\n",
                "    Функция для корректировки интервалов и вероятностей\n",
                "\n",
                "    Параметры:\n",
                "    bin_edges: Границы интервалов\n",
                "    n: uint - объем выборки\n",
                "    distrib: распределение, которое мы хотим использовать для подсчета вероятностей\n",
                "    k: uint\n",
                "        Количество интервалов, которое мы хотим получить на выходе.\n",
                "        Работает следующим образом:\n",
                "        если None, то мы просто объединяем интервалы с малой ожидаемой частотой с соседними. На выходе получаем k <= len(intervals).\n",
                "        если число, то мы сначала объединяем интервалы с малой ожидаемой частотой, получая k <= len(intervals),\n",
                "        а затем разбиваем интервалы, для которых ожидаемая частота большая, таким образом получая на выходе k >= len(intervals).\n",
                "    \"\"\"\n",
                "    cdf = distrib.cdf\n",
                "    ppf = distrib.ppf\n",
                "    expected_frequencies = get_expected_frequencies(bin_edges, n, cdf=cdf).tolist()\n",
                "    if type(bin_edges) == np.ndarray:\n",
                "        bin_edges = bin_edges.tolist()\n",
                "\n",
                "    # Слияние интервалов с ожидаемой частотой <= 5\n",
                "    i = 0\n",
                "    while True:\n",
                "        if expected_frequencies[i] <= 5:\n",
                "            merge_interval(bin_edges, expected_frequencies, i)\n",
                "            i -= 1\n",
                "\n",
                "        i += 1\n",
                "        if i >= len(bin_edges) - 1:\n",
                "            break\n",
                "\n",
                "    # Разбиение интервалов с максимальной ожидаемой частотой.\n",
                "    if k is not None:\n",
                "        while len(bin_edges) < k + 1:\n",
                "            max_expected_frequency = max(expected_frequencies)\n",
                "\n",
                "            # если максимальная ожидаемая частота меньше 10, то нельзя подразбивать интервалы\n",
                "            if max_expected_frequency < 10:\n",
                "                break\n",
                "\n",
                "            max_index = expected_frequencies.index(max_expected_frequency)\n",
                "            a, b = bin_edges[max_index : max_index + 2]\n",
                "\n",
                "            # Находим такое c, что ожидаемая частота в интервалах (a, c) и (c, b) как минимум 5\n",
                "            c = (ppf(cdf(a) + 5 / n) + ppf(cdf(b) - 5 / n)) / 2\n",
                "\n",
                "            e_left, e_right = get_expected_frequencies([a, c, b], n, cdf=cdf)\n",
                "\n",
                "            bin_edges.insert(max_index + 1, c)\n",
                "\n",
                "            expected_frequencies[max_index] = e_left\n",
                "            expected_frequencies.insert(max_index + 1, e_right)\n",
                "\n",
                "    return np.array(bin_edges), np.array(expected_frequencies)"
            ]
        },
        {
            "cell_type": "code",
            "execution_count": 65,
            "metadata": {},
            "outputs": [
                {
                    "data": {
                        "text/plain": [
                            "(array([-1000.        ,   149.08125   ,   164.81703146,   172.31854569,\n",
                            "          179.6625    ,   186.9602006 ,   194.45080324,   210.24375   ,\n",
                            "         1000.        ]),\n",
                            " array([39.0464507 , 40.48644318, 24.05884788, 24.93284434, 24.62528372,\n",
                            "        23.59176092, 39.15057721, 36.10779206]))"
                        ]
                    },
                    "execution_count": 65,
                    "metadata": {},
                    "output_type": "execute_result"
                }
            ],
            "source": [
                "bin_edges, expected_frequencies = adjust_intervals(\n",
                "    bin_edges, n, distrib=stats.norm(loc=X.mean(), scale=X.std(ddof=1)), k=8\n",
                ")\n",
                "bin_edges, expected_frequencies"
            ]
        },
        {
            "cell_type": "code",
            "execution_count": 66,
            "metadata": {},
            "outputs": [
                {
                    "data": {
                        "image/png": "[encoded data removed]",
                        "text/plain": [
                            "<Figure size 1200x600 with 2 Axes>"
                        ]
                    },
                    "metadata": {},
                    "output_type": "display_data"
                }
            ],
            "source": [
                "fig, axes = plt.subplots(1, 2, figsize=(12, 6))\n",
                "axes[0].hist(X, bins=bin_edges, edgecolor=\"black\", density=True)\n",
                "axes[0].set_xlabel(\"Значения\")\n",
                "axes[0].set_ylabel(\"Относительная частота\")\n",
                "\n",
                "axes[1].hist(X, bins=bin_edges, edgecolor=\"black\", density=True)\n",
                "axes[1].set_xlabel(\"Значения\")\n",
                "axes[1].set_ylabel(\"Относительная частота\")\n",
                "plt.xlim(100, 250)\n",
                "\n",
                "plt.show()"
            ]
        },
        {
            "cell_type": "markdown",
            "metadata": {},
            "source": [
                "Теперь мы чётко разбили всю числовую прямую на интервалы, для которых ожидаемые частоты $n \\cdot p_i \\gtrsim 5$."
            ]
        },
        {
            "cell_type": "code",
            "execution_count": 67,
            "metadata": {},
            "outputs": [
                {
                    "data": {
                        "text/markdown": [
                            "Число интервалов: 8"
                        ],
                        "text/plain": [
                            "<IPython.core.display.Markdown object>"
                        ]
                    },
                    "metadata": {},
                    "output_type": "display_data"
                },
                {
                    "data": {
                        "text/markdown": [
                            "Ширина интервалов: от 7.30 до 1149.08"
                        ],
                        "text/plain": [
                            "<IPython.core.display.Markdown object>"
                        ]
                    },
                    "metadata": {},
                    "output_type": "display_data"
                }
            ],
            "source": [
                "mprint(\n",
                "    f\"Число интервалов: {k}\",\n",
                "    f\"Ширина интервалов: от {np.diff(bin_edges).min():.2f} до {np.diff(bin_edges).max():.2f}\",\n",
                ")"
            ]
        },
        {
            "cell_type": "markdown",
            "metadata": {},
            "source": [
                "| Число интервалов | Обоснование выбора числа интервалов                                                                               | Ширина интервалов   |\n",
                "| ---------------- | ----------------------------------------------------------------------------------------------------------------- | ------------------- |\n",
                "| 8                | $k \\approx 1 + 1,3 \\ln{n}$ - формула Стерджесса $\\\\n \\cdot p_i \\gtrsim 5$ - поправка на чувствительность критерия | от 7.30 до $\\infty$ |\n",
                "\n"
            ]
        },
        {
            "cell_type": "markdown",
            "metadata": {},
            "source": [
                "### Построить таблицу частот"
            ]
        },
        {
            "cell_type": "code",
            "execution_count": 68,
            "metadata": {},
            "outputs": [
                {
                    "data": {
                        "text/html": [
                            "<div>\n",
                            "<style scoped>\n",
                            "    .dataframe tbody tr th:only-of-type {\n",
                            "        vertical-align: middle;\n",
                            "    }\n",
                            "\n",
                            "    .dataframe tbody tr th {\n",
                            "        vertical-align: top;\n",
                            "    }\n",
                            "\n",
                            "    .dataframe thead th {\n",
                            "        text-align: right;\n",
                            "    }\n",
                            "</style>\n",
                            "<table border=\"1\" class=\"dataframe\">\n",
                            "  <thead>\n",
                            "    <tr style=\"text-align: right;\">\n",
                            "      <th></th>\n",
                            "      <th>low edge</th>\n",
                            "      <th>high edge</th>\n",
                            "      <th>frequency</th>\n",
                            "      <th>relative frequency</th>\n",
                            "      <th>expected probability</th>\n",
                            "    </tr>\n",
                            "    <tr>\n",
                            "      <th>Номер интервала</th>\n",
                            "      <th></th>\n",
                            "      <th></th>\n",
                            "      <th></th>\n",
                            "      <th></th>\n",
                            "      <th></th>\n",
                            "    </tr>\n",
                            "  </thead>\n",
                            "  <tbody>\n",
                            "    <tr>\n",
                            "      <th>1</th>\n",
                            "      <td>-1000.000000</td>\n",
                            "      <td>149.081250</td>\n",
                            "      <td>31</td>\n",
                            "      <td>0.123016</td>\n",
                            "      <td>0.154946</td>\n",
                            "    </tr>\n",
                            "    <tr>\n",
                            "      <th>2</th>\n",
                            "      <td>149.081250</td>\n",
                            "      <td>164.817031</td>\n",
                            "      <td>53</td>\n",
                            "      <td>0.210317</td>\n",
                            "      <td>0.160660</td>\n",
                            "    </tr>\n",
                            "    <tr>\n",
                            "      <th>3</th>\n",
                            "      <td>164.817031</td>\n",
                            "      <td>172.318546</td>\n",
                            "      <td>30</td>\n",
                            "      <td>0.119048</td>\n",
                            "      <td>0.095472</td>\n",
                            "    </tr>\n",
                            "    <tr>\n",
                            "      <th>4</th>\n",
                            "      <td>172.318546</td>\n",
                            "      <td>179.662500</td>\n",
                            "      <td>27</td>\n",
                            "      <td>0.107143</td>\n",
                            "      <td>0.098940</td>\n",
                            "    </tr>\n",
                            "    <tr>\n",
                            "      <th>5</th>\n",
                            "      <td>179.662500</td>\n",
                            "      <td>186.960201</td>\n",
                            "      <td>23</td>\n",
                            "      <td>0.091270</td>\n",
                            "      <td>0.097719</td>\n",
                            "    </tr>\n",
                            "    <tr>\n",
                            "      <th>6</th>\n",
                            "      <td>186.960201</td>\n",
                            "      <td>194.450803</td>\n",
                            "      <td>18</td>\n",
                            "      <td>0.071429</td>\n",
                            "      <td>0.093618</td>\n",
                            "    </tr>\n",
                            "    <tr>\n",
                            "      <th>7</th>\n",
                            "      <td>194.450803</td>\n",
                            "      <td>210.243750</td>\n",
                            "      <td>35</td>\n",
                            "      <td>0.138889</td>\n",
                            "      <td>0.155359</td>\n",
                            "    </tr>\n",
                            "    <tr>\n",
                            "      <th>8</th>\n",
                            "      <td>210.243750</td>\n",
                            "      <td>1000.000000</td>\n",
                            "      <td>35</td>\n",
                            "      <td>0.138889</td>\n",
                            "      <td>0.143285</td>\n",
                            "    </tr>\n",
                            "  </tbody>\n",
                            "</table>\n",
                            "</div>"
                        ],
                        "text/plain": [
                            "                    low edge    high edge  frequency  relative frequency  \\\n",
                            "Номер интервала                                                            \n",
                            "1               -1000.000000   149.081250         31            0.123016   \n",
                            "2                 149.081250   164.817031         53            0.210317   \n",
                            "3                 164.817031   172.318546         30            0.119048   \n",
                            "4                 172.318546   179.662500         27            0.107143   \n",
                            "5                 179.662500   186.960201         23            0.091270   \n",
                            "6                 186.960201   194.450803         18            0.071429   \n",
                            "7                 194.450803   210.243750         35            0.138889   \n",
                            "8                 210.243750  1000.000000         35            0.138889   \n",
                            "\n",
                            "                 expected probability  \n",
                            "Номер интервала                        \n",
                            "1                            0.154946  \n",
                            "2                            0.160660  \n",
                            "3                            0.095472  \n",
                            "4                            0.098940  \n",
                            "5                            0.097719  \n",
                            "6                            0.093618  \n",
                            "7                            0.155359  \n",
                            "8                            0.143285  "
                        ]
                    },
                    "execution_count": 68,
                    "metadata": {},
                    "output_type": "execute_result"
                }
            ],
            "source": [
                "groups = pd.DataFrame(index=pd.Index(range(1, len(bin_edges)), name=\"Номер интервала\"))\n",
                "groups[\"low edge\"] = bin_edges[:-1]\n",
                "groups[\"high edge\"] = bin_edges[1:]\n",
                "groups[\"frequency\"] = groups.apply(\n",
                "    lambda row: ((X >= row[\"low edge\"]) & (X < row[\"high edge\"])).sum(), axis=1\n",
                ")\n",
                "groups[\"relative frequency\"] = groups[\"frequency\"] / n\n",
                "groups[\"expected probability\"] = expected_frequencies / n\n",
                "groups"
            ]
        },
        {
            "cell_type": "code",
            "execution_count": 69,
            "metadata": {},
            "outputs": [
                {
                    "name": "stdout",
                    "output_type": "stream",
                    "text": [
                        "| Номер интервала | low edge | high edge | frequency | relative frequency | expected probability |\n",
                        "|---|---|---|---|---|---|\n",
                        "| 1 | -1000.0 | 149.08 | 31.0 | 0.12 | 0.15 |\n",
                        "| 2 | 149.08 | 164.82 | 53.0 | 0.21 | 0.16 |\n",
                        "| 3 | 164.82 | 172.32 | 30.0 | 0.12 | 0.1 |\n",
                        "| 4 | 172.32 | 179.66 | 27.0 | 0.11 | 0.1 |\n",
                        "| 5 | 179.66 | 186.96 | 23.0 | 0.09 | 0.1 |\n",
                        "| 6 | 186.96 | 194.45 | 18.0 | 0.07 | 0.09 |\n",
                        "| 7 | 194.45 | 210.24 | 35.0 | 0.14 | 0.16 |\n",
                        "| 8 | 210.24 | 1000.0 | 35.0 | 0.14 | 0.14 |\n",
                        "\n"
                    ]
                }
            ],
            "source": [
                "print(dataframe_to_markdown(groups))"
            ]
        },
        {
            "cell_type": "markdown",
            "metadata": {},
            "source": [
                "| Номер интервала | Нижняя граница | Верхняя граница | Частота | Относительная частота | Вероятность попадания в интервал при условии истинности основной гипотезы |\n",
                "| --------------- | -------------- | --------------- | ------- | --------------------- | ------------------------------------------------------------------------- |\n",
                "| 1               | $-\\infty$      | 149.08          | 31.0    | 0.12                  | 0.15                                                                      |\n",
                "| 2               | 149.08         | 164.82          | 53.0    | 0.21                  | 0.16                                                                      |\n",
                "| 3               | 164.82         | 172.32          | 30.0    | 0.12                  | 0.10                                                                      |\n",
                "| 4               | 172.32         | 179.66          | 27.0    | 0.11                  | 0.10                                                                      |\n",
                "| 5               | 179.66         | 186.96          | 23.0    | 0.09                  | 0.10                                                                      |\n",
                "| 6               | 186.96         | 194.45          | 18.0    | 0.07                  | 0.09                                                                      |\n",
                "| 7               | 194.45         | 210.24          | 35.0    | 0.14                  | 0.16                                                                      |\n",
                "| 8               | 210.24         | $+\\infty$       | 35.0    | 0.14                  | 0.14                                                                      |"
            ]
        },
        {
            "cell_type": "markdown",
            "metadata": {},
            "source": [
                "### Построить гистограмму относительных частот и функцию плотности теоретического распределения на одном графике"
            ]
        },
        {
            "cell_type": "code",
            "execution_count": 70,
            "metadata": {},
            "outputs": [
                {
                    "data": {
                        "image/png": "[encoded data removed]",
                        "text/plain": [
                            "<Figure size 800x550 with 1 Axes>"
                        ]
                    },
                    "metadata": {},
                    "output_type": "display_data"
                }
            ],
            "source": [
                "grid = np.linspace(X.min() - 100, X.max() + 100, 1000)\n",
                "plt.hist(\n",
                "    X,\n",
                "    bins=bin_edges,\n",
                "    edgecolor=\"black\",\n",
                "    density=True,\n",
                "    label=\"Гистограмма относительных частот\",\n",
                "    color=\"orange\",\n",
                ")\n",
                "\n",
                "plt.plot(\n",
                "    grid,\n",
                "    stats.norm.pdf(grid, loc=X.mean(), scale=X.std(ddof=1)),\n",
                "    label=\"Плотность нормального распределения\",\n",
                "    lw=5,\n",
                ")\n",
                "plt.legend()\n",
                "plt.xlim(100, 400)\n",
                "plt.xlabel(\"Значения\")\n",
                "plt.show()"
            ]
        },
        {
            "cell_type": "markdown",
            "metadata": {},
            "source": [
                "### Проверить статистические гипотезы"
            ]
        },
        {
            "cell_type": "code",
            "execution_count": 71,
            "metadata": {},
            "outputs": [
                {
                    "data": {
                        "text/markdown": [
                            "### $\\chi^2$-test"
                        ],
                        "text/plain": [
                            "<IPython.core.display.Markdown object>"
                        ]
                    },
                    "metadata": {},
                    "output_type": "display_data"
                },
                {
                    "data": {
                        "text/markdown": [
                            "$H_0: F_X(x) = N(\\mu, \\sigma)$"
                        ],
                        "text/plain": [
                            "<IPython.core.display.Markdown object>"
                        ]
                    },
                    "metadata": {},
                    "output_type": "display_data"
                },
                {
                    "data": {
                        "text/markdown": [
                            "$z_{выб} =$ 9.07"
                        ],
                        "text/plain": [
                            "<IPython.core.display.Markdown object>"
                        ]
                    },
                    "metadata": {},
                    "output_type": "display_data"
                },
                {
                    "data": {
                        "text/markdown": [
                            "$p =$ 0.11"
                        ],
                        "text/plain": [
                            "<IPython.core.display.Markdown object>"
                        ]
                    },
                    "metadata": {},
                    "output_type": "display_data"
                },
                {
                    "data": {
                        "text/markdown": [
                            "При $\\alpha = 0.01$ $H_0$ принимается"
                        ],
                        "text/plain": [
                            "<IPython.core.display.Markdown object>"
                        ]
                    },
                    "metadata": {},
                    "output_type": "display_data"
                },
                {
                    "data": {
                        "text/markdown": [
                            "При $\\alpha = 0.05$ $H_0$ принимается"
                        ],
                        "text/plain": [
                            "<IPython.core.display.Markdown object>"
                        ]
                    },
                    "metadata": {},
                    "output_type": "display_data"
                },
                {
                    "data": {
                        "text/markdown": [
                            "При $\\alpha = 0.1$ $H_0$ принимается"
                        ],
                        "text/plain": [
                            "<IPython.core.display.Markdown object>"
                        ]
                    },
                    "metadata": {},
                    "output_type": "display_data"
                }
            ],
            "source": [
                "alphas = [0.01, 0.05, 0.1]\n",
                "\n",
                "z, p_value = stats.chisquare(groups[\"frequency\"], expected_frequencies, ddof=2)\n",
                "mprint(\n",
                "    r\"### $\\chi^2$-test\",\n",
                "    f\"$H_0: F_X(x) = N(\\\\mu, \\\\sigma)$\",\n",
                "    f\"$z_{{выб}} =$ {z:.2f}\",\n",
                "    f\"$p =$ {p_value:.2f}\",\n",
                ")\n",
                "\n",
                "for alpha in alphas:\n",
                "    mprint(f\"При $\\\\alpha = {alpha}$ {verdict(alpha, p_value)}\")"
            ]
        },
        {
            "cell_type": "markdown",
            "metadata": {},
            "source": [
                "<a id=\"42\"></a>"
            ]
        },
        {
            "cell_type": "markdown",
            "metadata": {},
            "source": [
                "## 4.2 Критерий Харке-Бера"
            ]
        },
        {
            "cell_type": "markdown",
            "metadata": {},
            "source": [
                "Статистическая гипотеза: $H_0:\\ X \\sim N; \\quad H':\\ X \\nsim N$"
            ]
        },
        {
            "cell_type": "markdown",
            "metadata": {},
            "source": [
                "### Теоретическая справка"
            ]
        },
        {
            "cell_type": "markdown",
            "metadata": {},
            "source": [
                "Критерий Харке-Бера (Jarque-Bera) - это критерий проверки гипотезы о нормальности выборки:\n",
                "\n",
                "$H_0:\\ X \\sim N; \\quad H':\\ X \\nsim N$\n",
                "\n",
                "Для проверки нормальности распределения нулевая гипотеза разбивается на две части:\n",
                "\n",
                "$$H_0^{(1)}: \\gamma_X = 0; \\quad H'^{(1)}: \\gamma_X \\neq 0$$\n",
                "$$H_0^{(2)}: \\varepsilon_X = 0; \\quad H'^{(2)}: \\varepsilon_X \\neq 0, где$$\n",
                "\n",
                "$\\gamma_X$ - [коэффициент асимметрии](#формулы), $\\varepsilon_X$ - [эксцесс](#формулы).\n",
                "\n",
                "Для этих гипотез используются следующие статистики:\n",
                "\n",
                "$Z_1 = \\dfrac{\\gamma^*_X}{\\sqrt{\\dfrac{6}{n}}};\\ \\ \\ Z_2 = \\dfrac{\\varepsilon^*_X}{\\sqrt{\\dfrac{24}{n}}}$, при этом $Z_1 \\mid_{H_0^{(1)}} \\sim N(0, 1);\\ \\ \\ Z_2 \\mid_{H_0^{(2)}} \\sim N(0, 1)$.\n",
                "\n",
                "Если хоть одна $H_0^{(1)}$ или $H_0^{(2)}$ отклоняется, то исходная гипотеза $H_0$ отклоняется.\n",
                "\n",
                "Для проверки основной гипотезы строится общая статистика: $Z = Z_1^2 + Z_2^2$, при этом $Z \\mid_{H_0} \\sim \\chi^2(2)$. Критическая область - правосторонняя."
            ]
        },
        {
            "cell_type": "markdown",
            "metadata": {},
            "source": [
                "### Указать формулы расчёта показателей, используемых при проверке статистических гипотез"
            ]
        },
        {
            "cell_type": "markdown",
            "metadata": {},
            "source": [
                "|                                                                                  | Выражение                                                                                                                         | Пояснение использованных обозначений                                                                                                    |\n",
                "| -------------------------------------------------------------------------------- | --------------------------------------------------------------------------------------------------------------------------------- | --------------------------------------------------------------------------------------------------------------------------------------- |\n",
                "| Формула расчёта статистики критерия                                              | $Z = Z^2_1 + Z^2_2$, где $\\\\Z_1 = \\dfrac{\\gamma^*_X}{\\sqrt{\\dfrac{6}{n}}};\\\\ Z_2 = \\dfrac{\\varepsilon^*_X}{\\sqrt{\\dfrac{24}{n}}}$ | $\\gamma^*_X$ - [выборочный коэффициент асимметрии](#формулы), $\\\\ \\varepsilon^*_X$ - [выборочный эксцесс](#формулы), $\\\\ n$ - объём выборки. |\n",
                "| Закон распределения статистики критерия при условии истинности основной гипотезы | $\\chi^2(2)$                                                                                                                       |                                                                                                                                         |\n",
                "| Формулы расчёта критической точки                                                | $\\chi^2_{1 - \\alpha,\\ 2}$                                                                                                         | Правосторонняя критическая область.              |\n",
                "| Формула расчёта $p$-value                                                        | $1 - F_Z(z_{\\text{выб}} \\mid H_0)$                                                                                                |                                                                                                                                         |"
            ]
        },
        {
            "cell_type": "markdown",
            "metadata": {},
            "source": [
                "### Проверить статистические гипотезы"
            ]
        },
        {
            "cell_type": "code",
            "execution_count": 72,
            "metadata": {},
            "outputs": [
                {
                    "data": {
                        "text/markdown": [
                            "### Jarque-Bera test"
                        ],
                        "text/plain": [
                            "<IPython.core.display.Markdown object>"
                        ]
                    },
                    "metadata": {},
                    "output_type": "display_data"
                },
                {
                    "data": {
                        "text/markdown": [
                            "$H_0: F_X(x) = N(\\mu, \\sigma)$"
                        ],
                        "text/plain": [
                            "<IPython.core.display.Markdown object>"
                        ]
                    },
                    "metadata": {},
                    "output_type": "display_data"
                },
                {
                    "data": {
                        "text/markdown": [
                            "$z_{выб} =$ 337.89"
                        ],
                        "text/plain": [
                            "<IPython.core.display.Markdown object>"
                        ]
                    },
                    "metadata": {},
                    "output_type": "display_data"
                },
                {
                    "data": {
                        "text/markdown": [
                            "$p =$ 0.00"
                        ],
                        "text/plain": [
                            "<IPython.core.display.Markdown object>"
                        ]
                    },
                    "metadata": {},
                    "output_type": "display_data"
                },
                {
                    "data": {
                        "text/markdown": [
                            "При $\\alpha = 0.01$ $H_0$ отклоняется"
                        ],
                        "text/plain": [
                            "<IPython.core.display.Markdown object>"
                        ]
                    },
                    "metadata": {},
                    "output_type": "display_data"
                },
                {
                    "data": {
                        "text/markdown": [
                            "При $\\alpha = 0.05$ $H_0$ отклоняется"
                        ],
                        "text/plain": [
                            "<IPython.core.display.Markdown object>"
                        ]
                    },
                    "metadata": {},
                    "output_type": "display_data"
                },
                {
                    "data": {
                        "text/markdown": [
                            "При $\\alpha = 0.1$ $H_0$ отклоняется"
                        ],
                        "text/plain": [
                            "<IPython.core.display.Markdown object>"
                        ]
                    },
                    "metadata": {},
                    "output_type": "display_data"
                }
            ],
            "source": [
                "z, p_value = stats.jarque_bera(X)\n",
                "mprint(\n",
                "    r\"### Jarque-Bera test\",\n",
                "    f\"$H_0: F_X(x) = N(\\\\mu, \\\\sigma)$\",\n",
                "    f\"$z_{{выб}} =$ {z:.2f}\",\n",
                "    f\"$p =$ {p_value:.2f}\",\n",
                ")\n",
                "\n",
                "for alpha in alphas:\n",
                "    mprint(f\"При $\\\\alpha = {alpha}$ {verdict(alpha, p_value)}\")"
            ]
        },
        {
            "cell_type": "markdown",
            "metadata": {},
            "source": [
                "| Уровень значимости | Выборочное значение статистического критерия | $p$-value | Статистическое решение | Вывод       |\n",
                "| ------------------ | -------------------------------------------- | --------- | ---------------------- | ----------- |\n",
                "| 0.01               | 337.89                                       | 0.0       | $H_0$ отклоняется      | $X \\nsim N$ |\n",
                "| 0.05               | 337.89                                       | 0.0       | $H_0$ отклоняется      | $X \\nsim N$ |\n",
                "| 0.1                | 337.89                                       | 0.0       | $H_0$ отклоняется      | $X \\nsim N$ |"
            ]
        },
        {
            "cell_type": "markdown",
            "metadata": {},
            "source": [
                "## Вывод (в терминах предметной области):"
            ]
        },
        {
            "cell_type": "markdown",
            "metadata": {},
            "source": [
                "В результате проведённого в п.4 статистического анализа обнаружено, что критерий $\\chi^2$ не отвергает гипотезу о нормальности распределения, но критерий Харке-Бера отвергает её.\n",
                "\n",
                "Так как для этих данных критерий Харке-Бера более чувствителен, чем критерий $\\chi^2$, то можно сделать вывод, что выборка `B7` не имеет нормального распределения."
            ]
        },
        {
            "cell_type": "markdown",
            "metadata": {},
            "source": [
                "<a id=\"5\"></a>"
            ]
        },
        {
            "cell_type": "markdown",
            "metadata": {},
            "source": [
                "# Раздел 5. Проверка однородности выборок"
            ]
        },
        {
            "cell_type": "markdown",
            "metadata": {},
            "source": [
                "## Условие"
            ]
        },
        {
            "cell_type": "markdown",
            "metadata": {},
            "source": [
                "Анализируемый признак 1 – `B11` (Abdomen circumference (cm))\n",
                "\n",
                "Анализируемый признак 2 – `B12` (Hip circumference (cm))\n",
                "\n",
                "Объёмы выборок – $n_1 = n_2 = 252$"
            ]
        },
        {
            "cell_type": "markdown",
            "metadata": {},
            "source": [
                "## Определения"
            ]
        },
        {
            "cell_type": "code",
            "execution_count": 73,
            "metadata": {},
            "outputs": [
                {
                    "data": {
                        "text/plain": [
                            "(0     85.2\n",
                            " 1     83.0\n",
                            " 2     87.9\n",
                            " 3     86.4\n",
                            " 4    100.0\n",
                            " Name: B11, dtype: float64,\n",
                            " 0     94.5\n",
                            " 1     98.7\n",
                            " 2     99.2\n",
                            " 3    101.2\n",
                            " 4    101.9\n",
                            " Name: B12, dtype: float64)"
                        ]
                    },
                    "execution_count": 73,
                    "metadata": {},
                    "output_type": "execute_result"
                }
            ],
            "source": [
                "X, Y = data(\"5\")\n",
                "\n",
                "X.head(), Y.head()"
            ]
        },
        {
            "cell_type": "code",
            "execution_count": 74,
            "metadata": {},
            "outputs": [
                {
                    "name": "stdout",
                    "output_type": "stream",
                    "text": [
                        "252 252\n"
                    ]
                }
            ],
            "source": [
                "print(n1 := len(X), n2 := len(Y))"
            ]
        },
        {
            "cell_type": "markdown",
            "metadata": {},
            "source": [
                "<a id=\"51\"></a>"
            ]
        },
        {
            "cell_type": "markdown",
            "metadata": {},
            "source": [
                "## 5.1 Критерий знаков"
            ]
        },
        {
            "cell_type": "markdown",
            "metadata": {},
            "source": [
                "Статистическая гипотеза: $H_0:\\ F_{X}(x) = F_{Y}(x); \\quad H':\\ F_{X}(x) \\neq F_{Y}(x)$"
            ]
        },
        {
            "cell_type": "markdown",
            "metadata": {},
            "source": [
                "### Указать формулы расчёта показателей, используемых при проверке статистических гипотез"
            ]
        },
        {
            "cell_type": "markdown",
            "metadata": {},
            "source": [
                "|                                                                                  | Выражение                                                                                                                         | Пояснение использованных обозначений                                                                                                    |\n",
                "| -------------------------------------------------------------------------------- | --------------------------------------------------------------------------------------------------------------------------------- | --------------------------------------------------------------------------------------------------------------------------------------- |\n",
                "| Формула расчёта статистики критерия                                              | $Z = \\dfrac{K_+ - \\dfrac{n}{2}}{\\sqrt{\\dfrac{n}{4}}}$ | $K_+$ - количество знаков `+` в выборке $z_1, \\dots, z_n = x_1 - y_1, \\dots, x_n - y_n$ |\n",
                "| Закон распределения статистики критерия при условии истинности основной гипотезы | $N(0, 1)$                                                                                                                       |                                                                                                                                         |\n",
                "| Формулы расчёта критической точки                                                | $\\pm u_{1 - \\frac{\\alpha}{2}}$                                                                                                         | Двусторонняя критическая область.              |\n",
                "| Формула расчёта $p$-value                                                        | $2\\min(F_Z(z_{\\text{выб}} \\mid H_0),\\ 1 - F_Z(z_{\\text{выб}} \\mid H_0))$                                                                                                |                                                                                                                                         |\n"
            ]
        },
        {
            "cell_type": "markdown",
            "metadata": {},
            "source": [
                "### Проверить статистические гипотезы"
            ]
        },
        {
            "cell_type": "code",
            "execution_count": 75,
            "metadata": {},
            "outputs": [],
            "source": [
                "def sign_test(X, Y):\n",
                "    if len(X) != len(Y):\n",
                "        raise ValueError(\"Длины выборок должны совпадать\")\n",
                "    n = len(X)\n",
                "    k = sum(X > Y)\n",
                "    z = (k - n / 2) / m.sqrt(n / 4)\n",
                "    p_value = 2 * min(stats.norm.cdf(z), 1 - stats.norm.cdf(z))\n",
                "    return z, p_value"
            ]
        },
        {
            "cell_type": "code",
            "execution_count": 76,
            "metadata": {},
            "outputs": [
                {
                    "data": {
                        "text/markdown": [
                            "### Sign test"
                        ],
                        "text/plain": [
                            "<IPython.core.display.Markdown object>"
                        ]
                    },
                    "metadata": {},
                    "output_type": "display_data"
                },
                {
                    "data": {
                        "text/markdown": [
                            "$H_0: F_X(x) = F_Y(x)$"
                        ],
                        "text/plain": [
                            "<IPython.core.display.Markdown object>"
                        ]
                    },
                    "metadata": {},
                    "output_type": "display_data"
                },
                {
                    "data": {
                        "text/markdown": [
                            "$z_{выб} =$ -12.72"
                        ],
                        "text/plain": [
                            "<IPython.core.display.Markdown object>"
                        ]
                    },
                    "metadata": {},
                    "output_type": "display_data"
                },
                {
                    "data": {
                        "text/markdown": [
                            "$p =$ 0.00"
                        ],
                        "text/plain": [
                            "<IPython.core.display.Markdown object>"
                        ]
                    },
                    "metadata": {},
                    "output_type": "display_data"
                },
                {
                    "data": {
                        "text/markdown": [
                            "При $\\alpha = 0.01$ $H_0$ отклоняется"
                        ],
                        "text/plain": [
                            "<IPython.core.display.Markdown object>"
                        ]
                    },
                    "metadata": {},
                    "output_type": "display_data"
                },
                {
                    "data": {
                        "text/markdown": [
                            "При $\\alpha = 0.05$ $H_0$ отклоняется"
                        ],
                        "text/plain": [
                            "<IPython.core.display.Markdown object>"
                        ]
                    },
                    "metadata": {},
                    "output_type": "display_data"
                },
                {
                    "data": {
                        "text/markdown": [
                            "При $\\alpha = 0.1$ $H_0$ отклоняется"
                        ],
                        "text/plain": [
                            "<IPython.core.display.Markdown object>"
                        ]
                    },
                    "metadata": {},
                    "output_type": "display_data"
                }
            ],
            "source": [
                "alphas = [0.01, 0.05, 0.1]\n",
                "\n",
                "z, p_value = sign_test(X, Y)\n",
                "mprint(\n",
                "    r\"### Sign test\",\n",
                "    f\"$H_0: F_X(x) = F_Y(x)$\",\n",
                "    f\"$z_{{выб}} =$ {z:.2f}\",\n",
                "    f\"$p =$ {p_value:.2f}\",\n",
                ")\n",
                "\n",
                "for alpha in alphas:\n",
                "    mprint(f\"При $\\\\alpha = {alpha}$ {verdict(alpha, p_value)}\")"
            ]
        },
        {
            "cell_type": "markdown",
            "metadata": {},
            "source": [
                "| Уровень значимости | Выборочное значение статистического критерия | $p$-value | Статистическое решение | Вывод                    |\n",
                "| ------------------ | -------------------------------------------- | --------- | ---------------------- | ------------------------ |\n",
                "| 0.01               | -12.72                                       | 0.00      | $H_0$ отклоняется      | $F_{X}(x) \\neq F_{Y}(x)$ |\n",
                "| 0.05               | -12.72                                       | 0.00      | $H_0$ отклоняется      | $F_{X}(x) \\neq F_{Y}(x)$ |\n",
                "| 0.1                | -12.72                                       | 0.00      | $H_0$ отклоняется      | $F_{X}(x) \\neq F_{Y}(x)$ |"
            ]
        },
        {
            "cell_type": "markdown",
            "metadata": {},
            "source": [
                "<a id=\"52\"></a>"
            ]
        },
        {
            "cell_type": "markdown",
            "metadata": {},
            "source": [
                "## 5.2 Критерий $\\chi^2$"
            ]
        },
        {
            "cell_type": "markdown",
            "metadata": {},
            "source": [
                "Статистическая гипотеза: $H_0:\\ F_{X}(x) = F_{Y}(x); \\quad H':\\ F_{X}(x) \\neq F_{Y}(x)$"
            ]
        },
        {
            "cell_type": "markdown",
            "metadata": {},
            "source": [
                "### Указать формулы расчёта показателей, используемых при проверке статистических гипотез"
            ]
        },
        {
            "cell_type": "markdown",
            "metadata": {},
            "source": [
                "|                                                                                  | Выражение                                                                                                                         | Пояснение использованных обозначений                                                                                                    |\n",
                "| -------------------------------------------------------------------------------- | --------------------------------------------------------------------------------------------------------------------------------- | --------------------------------------------------------------------------------------------------------------------------------------- |\n",
                "| Формула расчёта статистики критерия                                              | $Z = nm\\sum\\limits_{i=1}^{k}\\dfrac{1}{n_i+m_i}\\left(\\dfrac{n_i}{n} + \\dfrac{m_i}{m}\\right)$ | $k$ - число интервалов в группированном статистическом ряду. $\\\\$ $n_i$ - частота попадания случайной величины $\\mathbf X$ в интервал $\\Delta_i$. $\\\\$ $m_i$ - частота попадания случайной величины $\\mathbf X$ в интервал $\\Delta_i$. $\\\\$ $n$ - объём выборки $x_1, \\dots, x_n$ $\\\\$ $m$ - объём выборки $y_1, \\dots, y_m$ |\n",
                "| Закон распределения статистики критерия при условии истинности основной гипотезы | $\\chi^2(k - 1)$                                                                                                                       |                                                                                                                                         |\n",
                "| Формулы расчёта критической точки                                                | $\\chi^2_{1 - \\alpha,\\ k - 1}$                                                                                                         | Правосторонняя критическая область.              |\n",
                "| Формула расчёта $p$-value                                                        | $1 - F_Z(z_{\\text{выб}} \\mid H_0)$                                                                                                |                                                                                                                                         |"
            ]
        },
        {
            "cell_type": "markdown",
            "metadata": {},
            "source": [
                "### Выбрать число групп"
            ]
        },
        {
            "cell_type": "markdown",
            "metadata": {},
            "source": [
                "Обычно выбирают число групп по формуле Стерджесса: $k \\approx 1 + 1,3 \\ln{\\max(n, m)}$.\n",
                "\n",
                "Однако критерий $\\chi^2$ чувствителен к группам, для которых $n_i + m_i$ меньше 5. Поэтому при группировке нужно учитывать это.\n",
                "\n",
                "Рассмотрим данный пример:"
            ]
        },
        {
            "cell_type": "code",
            "execution_count": 77,
            "metadata": {},
            "outputs": [
                {
                    "data": {
                        "image/png": "[encoded data removed]",
                        "text/plain": [
                            "<Figure size 800x550 with 1 Axes>"
                        ]
                    },
                    "metadata": {},
                    "output_type": "display_data"
                }
            ],
            "source": [
                "k = round(1 + 1.3 * m.log(max(n1, n2)))\n",
                "\n",
                "frequences, bin_edges, _ = plt.hist((X, Y), bins=k, edgecolor=\"black\", stacked=True)\n",
                "plt.show()"
            ]
        },
        {
            "cell_type": "markdown",
            "metadata": {},
            "source": [
                "Посмотрим на значения $n_i + m_i$ для каждого интервала."
            ]
        },
        {
            "cell_type": "code",
            "execution_count": 78,
            "metadata": {},
            "outputs": [
                {
                    "data": {
                        "text/plain": [
                            "array([ 23.,  89., 192., 156.,  39.,   3.,   0.,   2.])"
                        ]
                    },
                    "execution_count": 78,
                    "metadata": {},
                    "output_type": "execute_result"
                }
            ],
            "source": [
                "frequences[1]"
            ]
        },
        {
            "cell_type": "markdown",
            "metadata": {},
            "source": [
                "Как видим, для последних трёх интервалов $n_i + m_i < 5$. Условие $n_i + m_i \\gtrsim 5$ не выполняется.\n",
                "\n",
                "Следует объединить эти интервалы с соседними, пока это условие не будет выполнено."
            ]
        },
        {
            "cell_type": "code",
            "execution_count": 79,
            "metadata": {},
            "outputs": [],
            "source": [
                "def merge_interval(bin_edges, frequences1, frequences2, i):\n",
                "    # Объединяем два интервала в зависимости от их индексов.\n",
                "    if i == 0:  # Крайний левый интервал\n",
                "        bin_edges.pop(i + 1)\n",
                "        frequences1[i + 1] += frequences1[i]\n",
                "        frequences2[i + 1] += frequences2[i]\n",
                "    elif i == len(bin_edges) - 2:  # Крайний правый интервал\n",
                "        bin_edges.pop(i)\n",
                "        frequences1[i - 1] += frequences1[i]\n",
                "        frequences2[i - 1] += frequences2[i]\n",
                "    else:  # Объединяем с соседом c наименьшим expected_frequencies\n",
                "        if (\n",
                "            frequences1[i - 1] + frequences2[i - 1]\n",
                "            < frequences1[i + 1] + frequences2[i + 1]\n",
                "        ):\n",
                "            bin_edges.pop(i)\n",
                "            frequences1[i - 1] += frequences1[i]\n",
                "            frequences2[i - 1] += frequences2[i]\n",
                "        else:\n",
                "            bin_edges.pop(i + 1)\n",
                "            frequences1[i + 1] += frequences1[i]\n",
                "            frequences2[i + 1] += frequences2[i]\n",
                "    frequences1.pop(i)\n",
                "    frequences2.pop(i)"
            ]
        },
        {
            "cell_type": "code",
            "execution_count": 80,
            "metadata": {},
            "outputs": [],
            "source": [
                "def adjust_intervals(bin_edges, X1, X2, k=None):\n",
                "    \"\"\"\n",
                "    Функция для корректировки интервалов и частот попадания в них\n",
                "    bin_edges: Границы интервалов\n",
                "    X1: Первая выборка\n",
                "    X2: Вторая выборка\n",
                "    k: uint\n",
                "        Количество интервалов, которое мы хотим получить на выходе.\n",
                "        Работает следующим образом:\n",
                "        если None, то мы просто объединяем интервалы с малой частотой попадания с соседними. На выходе получаем k <= len(intervals).\n",
                "        если число, то мы сначала объединяем интервалы с малой частотой попадания, получая k <= len(intervals),\n",
                "        а затем разбиваем интервалы, для которых частота попадания большая, таким образом получая на выходе k >= len(intervals).\n",
                "    \"\"\"\n",
                "    frequences1, _ = np.histogram(X1, bins=bin_edges)\n",
                "    frequences2, _ = np.histogram(X2, bins=bin_edges)\n",
                "    frequences1 = frequences1.tolist()\n",
                "    frequences2 = frequences2.tolist()\n",
                "\n",
                "    # Слияние интервалов с малой частотой попадания\n",
                "    i = 0\n",
                "    while True:\n",
                "        if frequences1[i] + frequences2[i] < 5:\n",
                "            merge_interval(bin_edges, frequences1, frequences2, i)\n",
                "            i -= 1\n",
                "\n",
                "        i += 1\n",
                "        if i >= len(bin_edges) - 1:\n",
                "            break\n",
                "\n",
                "    # Разбиение интервалов с максимальной частотой попадания\n",
                "    if k is not None:\n",
                "        while len(bin_edges) < k + 1:\n",
                "            total_frequency = [x + y for x, y in zip(frequences1, frequences2)]\n",
                "            max_frequency = max(total_frequency)\n",
                "\n",
                "            # если максимальная частота меньше 5, то нельзя подразбивать интервалы\n",
                "            if max_frequency < 10:\n",
                "                break\n",
                "\n",
                "            max_index = total_frequency.index(max_frequency)\n",
                "            a, b = bin_edges[max_index : max_index + 2]\n",
                "\n",
                "            # Находим такое c, что частота попадания в интервалах (a, c) и (c, b) как минимум 5\n",
                "            c = (a + b) / 2\n",
                "\n",
                "            frequences1[max_index] = ((X1 >= a) & (X1 < c)).sum()\n",
                "            frequences2[max_index] = ((X2 >= a) & (X2 < c)).sum()\n",
                "            frequences1.insert(max_index + 1, ((X1 >= c) & (X1 < b)).sum())\n",
                "            frequences2.insert(max_index + 1, ((X2 >= c) & (X2 < b)).sum())\n",
                "            bin_edges.insert(max_index + 1, c)\n",
                "\n",
                "    return bin_edges, frequences1, frequences2"
            ]
        },
        {
            "cell_type": "code",
            "execution_count": 81,
            "metadata": {},
            "outputs": [
                {
                    "data": {
                        "text/plain": [
                            "array([ 23,  89,  78, 114, 101,  55,  39,   5])"
                        ]
                    },
                    "execution_count": 81,
                    "metadata": {},
                    "output_type": "execute_result"
                }
            ],
            "source": [
                "bin_edges, frequences1, frequences2 = adjust_intervals(bin_edges.tolist(), X, Y, k=k)\n",
                "np.array(frequences1) + np.array(frequences2)"
            ]
        },
        {
            "cell_type": "code",
            "execution_count": 82,
            "metadata": {},
            "outputs": [
                {
                    "data": {
                        "image/png": "[encoded data removed]",
                        "text/plain": [
                            "<Figure size 800x550 with 1 Axes>"
                        ]
                    },
                    "metadata": {},
                    "output_type": "display_data"
                }
            ],
            "source": [
                "frequences, bin_edges, _ = plt.hist(\n",
                "    (X, Y), bins=bin_edges, edgecolor=\"black\", stacked=True\n",
                ")\n",
                "plt.show()"
            ]
        },
        {
            "cell_type": "code",
            "execution_count": 83,
            "metadata": {},
            "outputs": [
                {
                    "data": {
                        "text/plain": [
                            "array([ 23.,  89.,  78., 114., 101.,  55.,  39.,   5.])"
                        ]
                    },
                    "execution_count": 83,
                    "metadata": {},
                    "output_type": "execute_result"
                }
            ],
            "source": [
                "frequences[1]"
            ]
        },
        {
            "cell_type": "markdown",
            "metadata": {},
            "source": [
                "Теперь группировка выборок проведена правильно."
            ]
        },
        {
            "cell_type": "code",
            "execution_count": 84,
            "metadata": {},
            "outputs": [
                {
                    "data": {
                        "text/markdown": [
                            "Число интервалов: 8"
                        ],
                        "text/plain": [
                            "<IPython.core.display.Markdown object>"
                        ]
                    },
                    "metadata": {},
                    "output_type": "display_data"
                },
                {
                    "data": {
                        "text/markdown": [
                            "Ширина интервалов: от 4.92 до 29.51"
                        ],
                        "text/plain": [
                            "<IPython.core.display.Markdown object>"
                        ]
                    },
                    "metadata": {},
                    "output_type": "display_data"
                }
            ],
            "source": [
                "mprint(\n",
                "    f\"Число интервалов: {k}\",\n",
                "    f\"Ширина интервалов: от {np.diff(bin_edges).min():.2f} до {np.diff(bin_edges).max():.2f}\",\n",
                ")"
            ]
        },
        {
            "cell_type": "markdown",
            "metadata": {},
            "source": [
                "| Число интервалов | Обоснование выбора числа интервалов                                                                                     | Ширина интервалов |\n",
                "| ---------------- | ----------------------------------------------------------------------------------------------------------------------- | ----------------- |\n",
                "| 8                | $k \\approx 1 + 1.3 \\ln \\max(n, m)$ - формула Стерджесса $\\\\n_i + m_i \\gtrsim 5$ - поправка на чувствительность критерия | от 4.92 до 29.51  |\n",
                "\n"
            ]
        },
        {
            "cell_type": "markdown",
            "metadata": {},
            "source": [
                "### Построить таблицу частот"
            ]
        },
        {
            "cell_type": "code",
            "execution_count": 85,
            "metadata": {},
            "outputs": [
                {
                    "data": {
                        "text/html": [
                            "<div>\n",
                            "<style scoped>\n",
                            "    .dataframe tbody tr th:only-of-type {\n",
                            "        vertical-align: middle;\n",
                            "    }\n",
                            "\n",
                            "    .dataframe tbody tr th {\n",
                            "        vertical-align: top;\n",
                            "    }\n",
                            "\n",
                            "    .dataframe thead th {\n",
                            "        text-align: right;\n",
                            "    }\n",
                            "</style>\n",
                            "<table border=\"1\" class=\"dataframe\">\n",
                            "  <thead>\n",
                            "    <tr style=\"text-align: right;\">\n",
                            "      <th></th>\n",
                            "      <th>low edge</th>\n",
                            "      <th>high edge</th>\n",
                            "      <th>frequency1</th>\n",
                            "      <th>frequency2</th>\n",
                            "      <th>relative frequency1</th>\n",
                            "      <th>relative frequency2</th>\n",
                            "    </tr>\n",
                            "    <tr>\n",
                            "      <th>Номер интервала</th>\n",
                            "      <th></th>\n",
                            "      <th></th>\n",
                            "      <th></th>\n",
                            "      <th></th>\n",
                            "      <th></th>\n",
                            "      <th></th>\n",
                            "    </tr>\n",
                            "  </thead>\n",
                            "  <tbody>\n",
                            "    <tr>\n",
                            "      <th>1</th>\n",
                            "      <td>69.40000</td>\n",
                            "      <td>79.23750</td>\n",
                            "      <td>23.0</td>\n",
                            "      <td>0.0</td>\n",
                            "      <td>0.091270</td>\n",
                            "      <td>0.000000</td>\n",
                            "    </tr>\n",
                            "    <tr>\n",
                            "      <th>2</th>\n",
                            "      <td>79.23750</td>\n",
                            "      <td>89.07500</td>\n",
                            "      <td>77.0</td>\n",
                            "      <td>12.0</td>\n",
                            "      <td>0.305556</td>\n",
                            "      <td>0.047619</td>\n",
                            "    </tr>\n",
                            "    <tr>\n",
                            "      <th>3</th>\n",
                            "      <td>89.07500</td>\n",
                            "      <td>93.99375</td>\n",
                            "      <td>48.0</td>\n",
                            "      <td>30.0</td>\n",
                            "      <td>0.190476</td>\n",
                            "      <td>0.119048</td>\n",
                            "    </tr>\n",
                            "    <tr>\n",
                            "      <th>4</th>\n",
                            "      <td>93.99375</td>\n",
                            "      <td>98.91250</td>\n",
                            "      <td>38.0</td>\n",
                            "      <td>76.0</td>\n",
                            "      <td>0.150794</td>\n",
                            "      <td>0.301587</td>\n",
                            "    </tr>\n",
                            "    <tr>\n",
                            "      <th>5</th>\n",
                            "      <td>98.91250</td>\n",
                            "      <td>103.83125</td>\n",
                            "      <td>28.0</td>\n",
                            "      <td>73.0</td>\n",
                            "      <td>0.111111</td>\n",
                            "      <td>0.289683</td>\n",
                            "    </tr>\n",
                            "    <tr>\n",
                            "      <th>6</th>\n",
                            "      <td>103.83125</td>\n",
                            "      <td>108.75000</td>\n",
                            "      <td>20.0</td>\n",
                            "      <td>35.0</td>\n",
                            "      <td>0.079365</td>\n",
                            "      <td>0.138889</td>\n",
                            "    </tr>\n",
                            "    <tr>\n",
                            "      <th>7</th>\n",
                            "      <td>108.75000</td>\n",
                            "      <td>118.58750</td>\n",
                            "      <td>15.0</td>\n",
                            "      <td>24.0</td>\n",
                            "      <td>0.059524</td>\n",
                            "      <td>0.095238</td>\n",
                            "    </tr>\n",
                            "    <tr>\n",
                            "      <th>8</th>\n",
                            "      <td>118.58750</td>\n",
                            "      <td>148.10000</td>\n",
                            "      <td>3.0</td>\n",
                            "      <td>2.0</td>\n",
                            "      <td>0.011905</td>\n",
                            "      <td>0.007937</td>\n",
                            "    </tr>\n",
                            "  </tbody>\n",
                            "</table>\n",
                            "</div>"
                        ],
                        "text/plain": [
                            "                  low edge  high edge  frequency1  frequency2  \\\n",
                            "Номер интервала                                                 \n",
                            "1                 69.40000   79.23750        23.0         0.0   \n",
                            "2                 79.23750   89.07500        77.0        12.0   \n",
                            "3                 89.07500   93.99375        48.0        30.0   \n",
                            "4                 93.99375   98.91250        38.0        76.0   \n",
                            "5                 98.91250  103.83125        28.0        73.0   \n",
                            "6                103.83125  108.75000        20.0        35.0   \n",
                            "7                108.75000  118.58750        15.0        24.0   \n",
                            "8                118.58750  148.10000         3.0         2.0   \n",
                            "\n",
                            "                 relative frequency1  relative frequency2  \n",
                            "Номер интервала                                            \n",
                            "1                           0.091270             0.000000  \n",
                            "2                           0.305556             0.047619  \n",
                            "3                           0.190476             0.119048  \n",
                            "4                           0.150794             0.301587  \n",
                            "5                           0.111111             0.289683  \n",
                            "6                           0.079365             0.138889  \n",
                            "7                           0.059524             0.095238  \n",
                            "8                           0.011905             0.007937  "
                        ]
                    },
                    "execution_count": 85,
                    "metadata": {},
                    "output_type": "execute_result"
                }
            ],
            "source": [
                "groups = pd.DataFrame(index=pd.Index(range(1, len(bin_edges)), name=\"Номер интервала\"))\n",
                "groups[\"low edge\"] = bin_edges[:-1]\n",
                "groups[\"high edge\"] = bin_edges[1:]\n",
                "groups[\"frequency1\"] = frequences[0]\n",
                "groups[\"frequency2\"] = frequences[1] - frequences[0]\n",
                "groups[\"relative frequency1\"] = groups[\"frequency1\"] / n1\n",
                "groups[\"relative frequency2\"] = groups[\"frequency2\"] / n2\n",
                "\n",
                "groups"
            ]
        },
        {
            "cell_type": "code",
            "execution_count": 86,
            "metadata": {},
            "outputs": [
                {
                    "name": "stdout",
                    "output_type": "stream",
                    "text": [
                        "| Номер интервала | low edge | high edge | frequency1 | frequency2 | relative frequency1 | relative frequency2 |\n",
                        "|---|---|---|---|---|---|---|\n",
                        "| 1 | 69.4 | 79.24 | 23.0 | 0.0 | 0.09 | 0.0 |\n",
                        "| 2 | 79.24 | 89.08 | 77.0 | 12.0 | 0.31 | 0.05 |\n",
                        "| 3 | 89.08 | 93.99 | 48.0 | 30.0 | 0.19 | 0.12 |\n",
                        "| 4 | 93.99 | 98.91 | 38.0 | 76.0 | 0.15 | 0.3 |\n",
                        "| 5 | 98.91 | 103.83 | 28.0 | 73.0 | 0.11 | 0.29 |\n",
                        "| 6 | 103.83 | 108.75 | 20.0 | 35.0 | 0.08 | 0.14 |\n",
                        "| 7 | 108.75 | 118.59 | 15.0 | 24.0 | 0.06 | 0.1 |\n",
                        "| 8 | 118.59 | 148.1 | 3.0 | 2.0 | 0.01 | 0.01 |\n",
                        "\n"
                    ]
                }
            ],
            "source": [
                "print(dataframe_to_markdown(groups))"
            ]
        },
        {
            "cell_type": "markdown",
            "metadata": {},
            "source": [
                "| Номер интервала | Нижняя граница | Верхняя граница | Частота признака 1 | Частота признака 2 | Относительная частота признака 1 | Относительная частота признака 2 |\n",
                "| --------------- | -------------- | --------------- | ------------------ | ------------------ | -------------------------------- | -------------------------------- |\n",
                "| 1               | 69.4           | 79.24           | 23.0               | 0.0                | 0.09                             | 0.0                              |\n",
                "| 2               | 79.24          | 89.08           | 77.0               | 12.0               | 0.31                             | 0.05                             |\n",
                "| 3               | 89.08          | 93.99           | 48.0               | 30.0               | 0.19                             | 0.12                             |\n",
                "| 4               | 93.99          | 98.91           | 38.0               | 76.0               | 0.15                             | 0.3                              |\n",
                "| 5               | 98.91          | 103.83          | 28.0               | 73.0               | 0.11                             | 0.29                             |\n",
                "| 6               | 103.83         | 108.75          | 20.0               | 35.0               | 0.08                             | 0.14                             |\n",
                "| 7               | 108.75         | 118.59          | 15.0               | 24.0               | 0.06                             | 0.1                              |\n",
                "| 8               | 118.59         | 148.1           | 3.0                | 2.0                | 0.01                             | 0.01                             |"
            ]
        },
        {
            "cell_type": "markdown",
            "metadata": {},
            "source": [
                "### Построить гистограммы относительных частот на одном графике"
            ]
        },
        {
            "cell_type": "code",
            "execution_count": 87,
            "metadata": {},
            "outputs": [
                {
                    "data": {
                        "image/png": "[encoded data removed]",
                        "text/plain": [
                            "<Figure size 800x550 with 1 Axes>"
                        ]
                    },
                    "metadata": {},
                    "output_type": "display_data"
                }
            ],
            "source": [
                "plt.bar(\n",
                "    (groups[\"low edge\"] + groups[\"high edge\"]) / 2,\n",
                "    groups[\"relative frequency1\"],\n",
                "    width=groups[\"high edge\"] - groups[\"low edge\"],\n",
                "    edgecolor=\"black\",\n",
                "    label=\"Выборка X\",\n",
                "    color=\"orange\",\n",
                "    lw=2,\n",
                ")\n",
                "\n",
                "plt.bar(\n",
                "    (groups[\"low edge\"] + groups[\"high edge\"]) / 2,\n",
                "    groups[\"relative frequency2\"],\n",
                "    width=groups[\"high edge\"] - groups[\"low edge\"],\n",
                "    edgecolor=\"black\",\n",
                "    label=\"Выборка Y\",\n",
                "    alpha=0.7,\n",
                "    linestyle=\"--\",\n",
                "    lw=2,\n",
                "    color=\"blue\",\n",
                ")\n",
                "plt.legend()\n",
                "plt.title(\"Гистограммы относительных частот\")\n",
                "plt.xlabel(\"Значения\")\n",
                "plt.ylabel(\"Относительная частота\")\n",
                "plt.show()"
            ]
        },
        {
            "cell_type": "markdown",
            "metadata": {},
            "source": [
                "### Проверить статистические гипотезы"
            ]
        },
        {
            "cell_type": "code",
            "execution_count": 88,
            "metadata": {},
            "outputs": [],
            "source": [
                "def chi2_2samp(frequencies1, frequencies2):\n",
                "    if len(frequencies1) != len(frequencies2):\n",
                "        raise ValueError(\"Длины выборок должны совпадать\")\n",
                "    k = len(frequencies1)\n",
                "    n = sum(frequencies1)\n",
                "    m = sum(frequencies2)\n",
                "    z = (\n",
                "        n\n",
                "        * m\n",
                "        * sum(\n",
                "            (frequencies1 / n - frequencies2 / m) ** 2 / (frequencies1 + frequencies2)\n",
                "        )\n",
                "    )\n",
                "    p_value = stats.chi2.sf(z, df=k - 1)\n",
                "    return z, p_value"
            ]
        },
        {
            "cell_type": "code",
            "execution_count": 89,
            "metadata": {},
            "outputs": [
                {
                    "data": {
                        "text/markdown": [
                            "### $\\chi^2$-test"
                        ],
                        "text/plain": [
                            "<IPython.core.display.Markdown object>"
                        ]
                    },
                    "metadata": {},
                    "output_type": "display_data"
                },
                {
                    "data": {
                        "text/markdown": [
                            "$H_0: F_X(x) = F_Y(x)$"
                        ],
                        "text/plain": [
                            "<IPython.core.display.Markdown object>"
                        ]
                    },
                    "metadata": {},
                    "output_type": "display_data"
                },
                {
                    "data": {
                        "text/markdown": [
                            "$z_{выб} =$ 113.71"
                        ],
                        "text/plain": [
                            "<IPython.core.display.Markdown object>"
                        ]
                    },
                    "metadata": {},
                    "output_type": "display_data"
                },
                {
                    "data": {
                        "text/markdown": [
                            "$p =$ 0.00"
                        ],
                        "text/plain": [
                            "<IPython.core.display.Markdown object>"
                        ]
                    },
                    "metadata": {},
                    "output_type": "display_data"
                },
                {
                    "data": {
                        "text/markdown": [
                            "При $\\alpha = 0.01$ $H_0$ отклоняется"
                        ],
                        "text/plain": [
                            "<IPython.core.display.Markdown object>"
                        ]
                    },
                    "metadata": {},
                    "output_type": "display_data"
                },
                {
                    "data": {
                        "text/markdown": [
                            "При $\\alpha = 0.05$ $H_0$ отклоняется"
                        ],
                        "text/plain": [
                            "<IPython.core.display.Markdown object>"
                        ]
                    },
                    "metadata": {},
                    "output_type": "display_data"
                },
                {
                    "data": {
                        "text/markdown": [
                            "При $\\alpha = 0.1$ $H_0$ отклоняется"
                        ],
                        "text/plain": [
                            "<IPython.core.display.Markdown object>"
                        ]
                    },
                    "metadata": {},
                    "output_type": "display_data"
                }
            ],
            "source": [
                "alphas = [0.01, 0.05, 0.1]\n",
                "\n",
                "z, p_value = chi2_2samp(groups[\"frequency1\"], groups[\"frequency2\"])\n",
                "mprint(\n",
                "    r\"### $\\chi^2$-test\",\n",
                "    f\"$H_0: F_X(x) = F_Y(x)$\",\n",
                "    f\"$z_{{выб}} =$ {z:.2f}\",\n",
                "    f\"$p =$ {p_value:.2f}\",\n",
                ")\n",
                "\n",
                "for alpha in alphas:\n",
                "    mprint(f\"При $\\\\alpha = {alpha}$ {verdict(alpha, p_value)}\")"
            ]
        },
        {
            "cell_type": "markdown",
            "metadata": {},
            "source": [
                "| Уровень значимости | Выборочное значение статистического критерия | $p$-value | Статистическое решение | Вывод                    |\n",
                "| ------------------ | -------------------------------------------- | --------- | ---------------------- | ------------------------ |\n",
                "| 0.01               | 113.71                                       | 0.0       | $H_0$ отклоняется      | $F_{X}(x) \\neq F_{Y}(x)$ |\n",
                "| 0.05               | 113.71                                       | 0.0       | $H_0$ отклоняется      | $F_{X}(x) \\neq F_{Y}(x)$ |\n",
                "| 0.1                | 113.71                                       | 0.0       | $H_0$ отклоняется      | $F_{X}(x) \\neq F_{Y}(x)$ |"
            ]
        },
        {
            "cell_type": "markdown",
            "metadata": {},
            "source": [
                "## Вывод (в терминах предметной области)"
            ]
        },
        {
            "cell_type": "markdown",
            "metadata": {},
            "source": [
                "В результате проведённого в п.5 статистического анализа обнаружено, что выборки `B11` и `B12` неоднородны."
            ]
        },
        {
            "cell_type": "markdown",
            "metadata": {},
            "source": [
                "<a id=\"6\"></a>"
            ]
        },
        {
            "cell_type": "markdown",
            "metadata": {},
            "source": [
                "# Раздел 6. Таблицы сопряжённости"
            ]
        },
        {
            "cell_type": "markdown",
            "metadata": {},
            "source": [
                "## Условие"
            ]
        },
        {
            "cell_type": "markdown",
            "metadata": {},
            "source": [
                "Факторный признак $x$ - `B3` (Body fat)\n",
                "\n",
                "Результативный признак $y$ - `B5` (Sex)\n",
                "\n",
                "Объёмы выборок - $n_1 = n_2 = n = 252$\n",
                "\n",
                "Статистическая гипотеза $H_0:\\ F_Y(y \\mid_{X = x^{(1)}}) = F_Y(y \\mid_{X = x^{(2)}}) = \\dots = F_Y(y \\mid_{X = x^{(k_1)}}) = F_Y(y); \\quad H':\\ \\exists i, j: F_Y(y \\mid_{X = x^{(i)}}) \\neq F_Y(y \\mid_{X = x^{(j)})}$"
            ]
        },
        {
            "cell_type": "markdown",
            "metadata": {},
            "source": [
                "## Определения"
            ]
        },
        {
            "cell_type": "code",
            "execution_count": 90,
            "metadata": {},
            "outputs": [
                {
                    "data": {
                        "text/plain": [
                            "(0    normal\n",
                            " 1       low\n",
                            " 2      high\n",
                            " 3    normal\n",
                            " 4      high\n",
                            " Name: B3, dtype: object,\n",
                            " 0    Male\n",
                            " 1    Male\n",
                            " 2    Male\n",
                            " 3    Male\n",
                            " 4    Male\n",
                            " Name: B5, dtype: object)"
                        ]
                    },
                    "execution_count": 90,
                    "metadata": {},
                    "output_type": "execute_result"
                }
            ],
            "source": [
                "X, Y = data(\"6\")\n",
                "X.head(), Y.head()"
            ]
        },
        {
            "cell_type": "code",
            "execution_count": 91,
            "metadata": {},
            "outputs": [
                {
                    "name": "stdout",
                    "output_type": "stream",
                    "text": [
                        "252 252\n"
                    ]
                }
            ],
            "source": [
                "print(n1 := len(X), n2 := len(Y))\n",
                "if n1 == n2:\n",
                "    n = n1"
            ]
        },
        {
            "cell_type": "markdown",
            "metadata": {},
            "source": [
                "## Указать формулы расчёта показателей, используемых при проверке статистических гипотез"
            ]
        },
        {
            "cell_type": "markdown",
            "metadata": {},
            "source": [
                "|                                                                                  | Выражение                                                                               | Пояснение использованных обозначений                                                                                                                                                                                                                                                                                                                                                                                                                                                                |\n",
                "| -------------------------------------------------------------------------------- | --------------------------------------------------------------------------------------- | --------------------------------------------------------------------------------------------------------------------------------------------------------------------------------------------------------------------------------------------------------------------------------------------------------------------------------------------------------------------------------------------------------------------------------------------------------------------------------------------------- |\n",
                "| Формула рассчёта статистики критерия                                             | $Z = \\sum\\limits_{i=1}^{k_1}\\sum\\limits_{j=1}^{k_2}\\dfrac{(n_{ij} - m_{ij})^2}{m_{ij}}$ | $(x_1, y_1), \\dots, (x_n, y_n)$ - наблюдения случайного вектора $(X, Y)$, где $X, Y$ - случайные величины дискретного типа $\\\\$ $x^{(1)}, \\dots, x^{(k_1)}$ - варианты признака $X$ $\\\\$ $y^{(1)}, \\dots, y^{(k_2)}$ - варианты признака $Y$ $\\\\$ $n_{ij}$ - выборочная частота варианта $(x^{(i)}, y^{(j)})$ в выборке $(x_1, y_1), \\dots, (x_n, y_n)$ $\\\\$ $m_{ij}$ - теоретическая частота варианта  $(x^{(i)}, y^{(j)})$ в выборке $(x_1, y_1), \\dots, (x_n, y_n)$ при условии истинности $H_0$ |\n",
                "| Закон распределения статистики критерия при условии истинности основной гипотезы | $\\chi^2((k_1 - 1)(k_2 - 1))$                                                            |                                                                                                                                                                                                                                                                                                                                                                                                                                                                                                     |\n",
                "| Формула расчета критической точки                                                | $\\chi^2_{1 - \\alpha,\\ (k_1 - 1)(k_2 -1)}$                                               | Правосторонняя критическая область                                                                                                                                                                                                                                                                                                                                                                                                                                                                  |\n",
                "| Формула расчета p-value                                                          | $1 - F_Z(z_{\\text{выб}} \\mid H_0)$                                                      |                                                                                                                                                                                                                                                                                                                                                                                                                                                                                                     |\n"
            ]
        },
        {
            "cell_type": "markdown",
            "metadata": {},
            "source": [
                "## Построить эмпирическую таблицу сопряжённости"
            ]
        },
        {
            "cell_type": "code",
            "execution_count": 92,
            "metadata": {},
            "outputs": [
                {
                    "data": {
                        "text/html": [
                            "<div>\n",
                            "<style scoped>\n",
                            "    .dataframe tbody tr th:only-of-type {\n",
                            "        vertical-align: middle;\n",
                            "    }\n",
                            "\n",
                            "    .dataframe tbody tr th {\n",
                            "        vertical-align: top;\n",
                            "    }\n",
                            "\n",
                            "    .dataframe thead th {\n",
                            "        text-align: right;\n",
                            "    }\n",
                            "</style>\n",
                            "<table border=\"1\" class=\"dataframe\">\n",
                            "  <thead>\n",
                            "    <tr style=\"text-align: right;\">\n",
                            "      <th></th>\n",
                            "      <th>X</th>\n",
                            "      <th>Y</th>\n",
                            "    </tr>\n",
                            "  </thead>\n",
                            "  <tbody>\n",
                            "    <tr>\n",
                            "      <th>0</th>\n",
                            "      <td>normal</td>\n",
                            "      <td>Male</td>\n",
                            "    </tr>\n",
                            "    <tr>\n",
                            "      <th>1</th>\n",
                            "      <td>low</td>\n",
                            "      <td>Male</td>\n",
                            "    </tr>\n",
                            "    <tr>\n",
                            "      <th>2</th>\n",
                            "      <td>high</td>\n",
                            "      <td>Male</td>\n",
                            "    </tr>\n",
                            "    <tr>\n",
                            "      <th>3</th>\n",
                            "      <td>normal</td>\n",
                            "      <td>Male</td>\n",
                            "    </tr>\n",
                            "    <tr>\n",
                            "      <th>4</th>\n",
                            "      <td>high</td>\n",
                            "      <td>Male</td>\n",
                            "    </tr>\n",
                            "    <tr>\n",
                            "      <th>...</th>\n",
                            "      <td>...</td>\n",
                            "      <td>...</td>\n",
                            "    </tr>\n",
                            "    <tr>\n",
                            "      <th>247</th>\n",
                            "      <td>normal</td>\n",
                            "      <td>Male</td>\n",
                            "    </tr>\n",
                            "    <tr>\n",
                            "      <th>248</th>\n",
                            "      <td>high</td>\n",
                            "      <td>Female</td>\n",
                            "    </tr>\n",
                            "    <tr>\n",
                            "      <th>249</th>\n",
                            "      <td>high</td>\n",
                            "      <td>Female</td>\n",
                            "    </tr>\n",
                            "    <tr>\n",
                            "      <th>250</th>\n",
                            "      <td>high</td>\n",
                            "      <td>Female</td>\n",
                            "    </tr>\n",
                            "    <tr>\n",
                            "      <th>251</th>\n",
                            "      <td>high</td>\n",
                            "      <td>Female</td>\n",
                            "    </tr>\n",
                            "  </tbody>\n",
                            "</table>\n",
                            "<p>252 rows × 2 columns</p>\n",
                            "</div>"
                        ],
                        "text/plain": [
                            "          X       Y\n",
                            "0    normal    Male\n",
                            "1       low    Male\n",
                            "2      high    Male\n",
                            "3    normal    Male\n",
                            "4      high    Male\n",
                            "..      ...     ...\n",
                            "247  normal    Male\n",
                            "248    high  Female\n",
                            "249    high  Female\n",
                            "250    high  Female\n",
                            "251    high  Female\n",
                            "\n",
                            "[252 rows x 2 columns]"
                        ]
                    },
                    "execution_count": 92,
                    "metadata": {},
                    "output_type": "execute_result"
                }
            ],
            "source": [
                "df = pd.DataFrame({\"X\": X, \"Y\": Y})\n",
                "df"
            ]
        },
        {
            "cell_type": "code",
            "execution_count": 93,
            "metadata": {},
            "outputs": [
                {
                    "data": {
                        "text/html": [
                            "<div>\n",
                            "<style scoped>\n",
                            "    .dataframe tbody tr th:only-of-type {\n",
                            "        vertical-align: middle;\n",
                            "    }\n",
                            "\n",
                            "    .dataframe tbody tr th {\n",
                            "        vertical-align: top;\n",
                            "    }\n",
                            "\n",
                            "    .dataframe thead th {\n",
                            "        text-align: right;\n",
                            "    }\n",
                            "</style>\n",
                            "<table border=\"1\" class=\"dataframe\">\n",
                            "  <thead>\n",
                            "    <tr style=\"text-align: right;\">\n",
                            "      <th>Y</th>\n",
                            "      <th>Female</th>\n",
                            "      <th>Male</th>\n",
                            "      <th>All</th>\n",
                            "    </tr>\n",
                            "    <tr>\n",
                            "      <th>X</th>\n",
                            "      <th></th>\n",
                            "      <th></th>\n",
                            "      <th></th>\n",
                            "    </tr>\n",
                            "  </thead>\n",
                            "  <tbody>\n",
                            "    <tr>\n",
                            "      <th>high</th>\n",
                            "      <td>65</td>\n",
                            "      <td>55</td>\n",
                            "      <td>120</td>\n",
                            "    </tr>\n",
                            "    <tr>\n",
                            "      <th>low</th>\n",
                            "      <td>8</td>\n",
                            "      <td>31</td>\n",
                            "      <td>39</td>\n",
                            "    </tr>\n",
                            "    <tr>\n",
                            "      <th>normal</th>\n",
                            "      <td>20</td>\n",
                            "      <td>73</td>\n",
                            "      <td>93</td>\n",
                            "    </tr>\n",
                            "    <tr>\n",
                            "      <th>All</th>\n",
                            "      <td>93</td>\n",
                            "      <td>159</td>\n",
                            "      <td>252</td>\n",
                            "    </tr>\n",
                            "  </tbody>\n",
                            "</table>\n",
                            "</div>"
                        ],
                        "text/plain": [
                            "Y       Female  Male  All\n",
                            "X                        \n",
                            "high        65    55  120\n",
                            "low          8    31   39\n",
                            "normal      20    73   93\n",
                            "All         93   159  252"
                        ]
                    },
                    "execution_count": 93,
                    "metadata": {},
                    "output_type": "execute_result"
                }
            ],
            "source": [
                "emperical_table = pd.crosstab(df[\"X\"], df[\"Y\"], margins=True)\n",
                "emperical_table"
            ]
        },
        {
            "cell_type": "code",
            "execution_count": 94,
            "metadata": {},
            "outputs": [
                {
                    "name": "stdout",
                    "output_type": "stream",
                    "text": [
                        "| X\\Y | Female | Male | All |\n",
                        "|---|---|---|---|\n",
                        "| high | 65 | 55 | 120 |\n",
                        "| low | 8 | 31 | 39 |\n",
                        "| normal | 20 | 73 | 93 |\n",
                        "| All | 93 | 159 | 252 |\n",
                        "\n"
                    ]
                }
            ],
            "source": [
                "print(dataframe_to_markdown(emperical_table))"
            ]
        },
        {
            "cell_type": "markdown",
            "metadata": {},
            "source": [
                "| X\\Y    | Female | Male | All |\n",
                "| ------ | ------ | ---- | --- |\n",
                "| high   | 65     | 55   | 120 |\n",
                "| low    | 8      | 31   | 39  |\n",
                "| normal | 20     | 73   | 93  |\n",
                "| All    | 93     | 159  | 252 |"
            ]
        },
        {
            "cell_type": "markdown",
            "metadata": {},
            "source": [
                "| Вариант X\\Вариант Y | $y^{(1)}$ | $y^{(2)}$ | $\\sum$ |\n",
                "| ------------------- | --------- | --------- | ------ |\n",
                "| $x^{(1)}$           | 65        | 55        | 120    |\n",
                "| $x^{(2)}$           | 8         | 31        | 39     |\n",
                "| $x^{(3)}$           | 20        | 73        | 93     |\n",
                "| $\\sum$              | 93        | 159       | 252    |"
            ]
        },
        {
            "cell_type": "markdown",
            "metadata": {},
            "source": [
                "## Построить теоретическую таблицу сопряжённости"
            ]
        },
        {
            "cell_type": "markdown",
            "metadata": {},
            "source": [
                "### Теоретическая справка"
            ]
        },
        {
            "cell_type": "markdown",
            "metadata": {},
            "source": [
                "Пусть $H_0$ верна. Тогда $F_Y(y \\mid_{X = x^{(i)}}) = F_Y(y)$. У нас дискретные случайные величины, поэтому это эквивалентно $P\\left[Y = y^{(j)} \\mid X = x^{(i)}\\right] = P\\left[Y = y^{(j)}\\right]$.\n",
                "\n",
                "Это значит, что случайные величины $X$ и $Y$ независимы. Значит $P\\left[X = x^{(i)}, Y = y^{(j)}\\right] = P\\left[X = x^{(i)}\\right] \\cdot P\\left[Y = y^{(j)}\\right] \\Leftrightarrow p_{ij} = p_i \\cdot p_j = \\sum\\limits_{k = 1}^{k_2}p_{ik} \\cdot \\sum\\limits_{l=1}^{k_1}p_{lj}$.\n",
                "\n",
                "Теоретические частоты отсюда легко находятся: $m_{ij} = n \\cdot p_{ij} = n \\cdot \\sum\\limits_{k = 1}^{k_2}p_{ik} \\cdot \\sum\\limits_{l=1}^{k_1}p_{lj} = n \\cdot \\sum\\limits_{k = 1}^{k_2}\\dfrac{n_{ik}}{n} \\cdot \\sum\\limits_{l=1}^{k_1}\\dfrac{n_{lj}}{n} = \\dfrac{\\sum\\limits_{k = 1}^{k_2}n_{ik} \\cdot \\sum\\limits_{l=1}^{k_1}n_{lj}}{n}$."
            ]
        },
        {
            "cell_type": "markdown",
            "metadata": {},
            "source": [
                "Итак, для начала получим матрицу $A = \\|a_{ij}\\|_{k_1 \\times k_2}$, где $a_{ij} = \\sum\\limits_{k = 1}^{k_2}n_{ik} \\cdot \\sum\\limits_{l=1}^{k_1}n_{lj}$\n",
                "\n",
                "Матрицу $A$ можно получить простым матричным произведением:\n",
                "\n",
                "$$\n",
                "A = \\overrightarrow{V_1}^T \\cdot \\overrightarrow{V_2} = \\begin{pmatrix}\n",
                "\\sum\\limits_{k = 1}^{k_2}n_{1k} \\\\\n",
                "\\sum\\limits_{k = 1}^{k_2}n_{2k} \\\\\n",
                "\\vdots \\\\\n",
                "\\sum\\limits_{k = 1}^{k_2}n_{k_1k} \\\\\n",
                "\\end{pmatrix} \\cdot \\begin{pmatrix} \\sum\\limits_{l=1}^{k_1}n_{l1} & \\sum\\limits_{l=1}^{k_1}n_{l2} & \\cdots & \\sum\\limits_{l=1}^{k_1}n_{lk_2} \\end{pmatrix} = \n",
                "\\begin{pmatrix} \n",
                "\\sum\\limits_{k = 1}^{k_2}n_{1k} \\cdot \\sum\\limits_{l=1}^{k_1}n_{l1} & \\cdots & \\sum\\limits_{k = 1}^{k_2}n_{1k} \\cdot \\sum\\limits_{l=1}^{k_1}n_{lk_2} \\\\\n",
                "\\cdots & \\ddots & \\cdots \\\\\n",
                "\\sum\\limits_{k = 1}^{k_2}n_{k_1k} \\cdot \\sum\\limits_{l=1}^{k_1}n_{l1} &  \\cdots & \\sum\\limits_{k = 1}^{k_2}n_{k_1k} \\cdot \\sum\\limits_{l=1}^{k_1}n_{lk_2} \\\\\n",
                "\\end{pmatrix}\n",
                "$$\n"
            ]
        },
        {
            "cell_type": "markdown",
            "metadata": {},
            "source": [
                "Получаем $\\overrightarrow{V_1}^T$:"
            ]
        },
        {
            "cell_type": "code",
            "execution_count": 95,
            "metadata": {},
            "outputs": [
                {
                    "data": {
                        "text/plain": [
                            "array([120,  39,  93])"
                        ]
                    },
                    "execution_count": 95,
                    "metadata": {},
                    "output_type": "execute_result"
                }
            ],
            "source": [
                "V1 = np.array(emperical_table.iloc[:-1, -1])\n",
                "V1"
            ]
        },
        {
            "cell_type": "code",
            "execution_count": 96,
            "metadata": {},
            "outputs": [
                {
                    "data": {
                        "text/plain": [
                            "array([[120],\n",
                            "       [ 39],\n",
                            "       [ 93]])"
                        ]
                    },
                    "execution_count": 96,
                    "metadata": {},
                    "output_type": "execute_result"
                }
            ],
            "source": [
                "V1 = np.atleast_2d(V1).T\n",
                "V1"
            ]
        },
        {
            "cell_type": "markdown",
            "metadata": {},
            "source": [
                "Получаем $\\overrightarrow{V_2}$:"
            ]
        },
        {
            "cell_type": "code",
            "execution_count": 97,
            "metadata": {},
            "outputs": [
                {
                    "data": {
                        "text/plain": [
                            "array([ 93, 159])"
                        ]
                    },
                    "execution_count": 97,
                    "metadata": {},
                    "output_type": "execute_result"
                }
            ],
            "source": [
                "V2 = np.array(emperical_table.iloc[-1][:-1])\n",
                "V2"
            ]
        },
        {
            "cell_type": "code",
            "execution_count": 98,
            "metadata": {},
            "outputs": [
                {
                    "data": {
                        "text/plain": [
                            "array([[ 93, 159]])"
                        ]
                    },
                    "execution_count": 98,
                    "metadata": {},
                    "output_type": "execute_result"
                }
            ],
            "source": [
                "V2 = np.atleast_2d(V2)\n",
                "V2"
            ]
        },
        {
            "cell_type": "markdown",
            "metadata": {},
            "source": [
                "Получаем матрицу $A$:"
            ]
        },
        {
            "cell_type": "code",
            "execution_count": 99,
            "metadata": {},
            "outputs": [
                {
                    "data": {
                        "text/plain": [
                            "array([[11160, 19080],\n",
                            "       [ 3627,  6201],\n",
                            "       [ 8649, 14787]])"
                        ]
                    },
                    "execution_count": 99,
                    "metadata": {},
                    "output_type": "execute_result"
                }
            ],
            "source": [
                "A = np.dot(V1, V2)\n",
                "A"
            ]
        },
        {
            "cell_type": "markdown",
            "metadata": {},
            "source": [
                "Строим теоретическую таблицу сопряжённости:"
            ]
        },
        {
            "cell_type": "code",
            "execution_count": 100,
            "metadata": {},
            "outputs": [
                {
                    "data": {
                        "text/html": [
                            "<div>\n",
                            "<style scoped>\n",
                            "    .dataframe tbody tr th:only-of-type {\n",
                            "        vertical-align: middle;\n",
                            "    }\n",
                            "\n",
                            "    .dataframe tbody tr th {\n",
                            "        vertical-align: top;\n",
                            "    }\n",
                            "\n",
                            "    .dataframe thead th {\n",
                            "        text-align: right;\n",
                            "    }\n",
                            "</style>\n",
                            "<table border=\"1\" class=\"dataframe\">\n",
                            "  <thead>\n",
                            "    <tr style=\"text-align: right;\">\n",
                            "      <th>Y</th>\n",
                            "      <th>Female</th>\n",
                            "      <th>Male</th>\n",
                            "    </tr>\n",
                            "    <tr>\n",
                            "      <th>X</th>\n",
                            "      <th></th>\n",
                            "      <th></th>\n",
                            "    </tr>\n",
                            "  </thead>\n",
                            "  <tbody>\n",
                            "    <tr>\n",
                            "      <th>high</th>\n",
                            "      <td>44.285714</td>\n",
                            "      <td>75.714286</td>\n",
                            "    </tr>\n",
                            "    <tr>\n",
                            "      <th>low</th>\n",
                            "      <td>14.392857</td>\n",
                            "      <td>24.607143</td>\n",
                            "    </tr>\n",
                            "    <tr>\n",
                            "      <th>normal</th>\n",
                            "      <td>34.321429</td>\n",
                            "      <td>58.678571</td>\n",
                            "    </tr>\n",
                            "  </tbody>\n",
                            "</table>\n",
                            "</div>"
                        ],
                        "text/plain": [
                            "Y          Female       Male\n",
                            "X                           \n",
                            "high    44.285714  75.714286\n",
                            "low     14.392857  24.607143\n",
                            "normal  34.321429  58.678571"
                        ]
                    },
                    "execution_count": 100,
                    "metadata": {},
                    "output_type": "execute_result"
                }
            ],
            "source": [
                "theoretical_table = pd.DataFrame(\n",
                "    A / n,\n",
                "    index=emperical_table.index[:-1],\n",
                "    columns=emperical_table.columns[:-1],\n",
                ")\n",
                "theoretical_table"
            ]
        },
        {
            "cell_type": "markdown",
            "metadata": {},
            "source": [
                "Добавим в таблицу суммы по строкам и столбцам:"
            ]
        },
        {
            "cell_type": "code",
            "execution_count": 101,
            "metadata": {},
            "outputs": [
                {
                    "data": {
                        "text/html": [
                            "<div>\n",
                            "<style scoped>\n",
                            "    .dataframe tbody tr th:only-of-type {\n",
                            "        vertical-align: middle;\n",
                            "    }\n",
                            "\n",
                            "    .dataframe tbody tr th {\n",
                            "        vertical-align: top;\n",
                            "    }\n",
                            "\n",
                            "    .dataframe thead th {\n",
                            "        text-align: right;\n",
                            "    }\n",
                            "</style>\n",
                            "<table border=\"1\" class=\"dataframe\">\n",
                            "  <thead>\n",
                            "    <tr style=\"text-align: right;\">\n",
                            "      <th>Y</th>\n",
                            "      <th>Female</th>\n",
                            "      <th>Male</th>\n",
                            "      <th>All</th>\n",
                            "    </tr>\n",
                            "    <tr>\n",
                            "      <th>X</th>\n",
                            "      <th></th>\n",
                            "      <th></th>\n",
                            "      <th></th>\n",
                            "    </tr>\n",
                            "  </thead>\n",
                            "  <tbody>\n",
                            "    <tr>\n",
                            "      <th>high</th>\n",
                            "      <td>44.285714</td>\n",
                            "      <td>75.714286</td>\n",
                            "      <td>120.0</td>\n",
                            "    </tr>\n",
                            "    <tr>\n",
                            "      <th>low</th>\n",
                            "      <td>14.392857</td>\n",
                            "      <td>24.607143</td>\n",
                            "      <td>39.0</td>\n",
                            "    </tr>\n",
                            "    <tr>\n",
                            "      <th>normal</th>\n",
                            "      <td>34.321429</td>\n",
                            "      <td>58.678571</td>\n",
                            "      <td>93.0</td>\n",
                            "    </tr>\n",
                            "    <tr>\n",
                            "      <th>All</th>\n",
                            "      <td>93.000000</td>\n",
                            "      <td>159.000000</td>\n",
                            "      <td>252.0</td>\n",
                            "    </tr>\n",
                            "  </tbody>\n",
                            "</table>\n",
                            "</div>"
                        ],
                        "text/plain": [
                            "Y          Female        Male    All\n",
                            "X                                   \n",
                            "high    44.285714   75.714286  120.0\n",
                            "low     14.392857   24.607143   39.0\n",
                            "normal  34.321429   58.678571   93.0\n",
                            "All     93.000000  159.000000  252.0"
                        ]
                    },
                    "execution_count": 101,
                    "metadata": {},
                    "output_type": "execute_result"
                }
            ],
            "source": [
                "theoretical_table[\"All\"] = theoretical_table.sum(axis=1)\n",
                "theoretical_table.loc[\"All\"] = theoretical_table.sum()\n",
                "theoretical_table"
            ]
        },
        {
            "cell_type": "code",
            "execution_count": 102,
            "metadata": {},
            "outputs": [
                {
                    "name": "stdout",
                    "output_type": "stream",
                    "text": [
                        "| X\\Y | Female | Male | All |\n",
                        "|---|---|---|---|\n",
                        "| high | 44.29 | 75.71 | 120.0 |\n",
                        "| low | 14.39 | 24.61 | 39.0 |\n",
                        "| normal | 34.32 | 58.68 | 93.0 |\n",
                        "| All | 93.0 | 159.0 | 252.0 |\n",
                        "\n"
                    ]
                }
            ],
            "source": [
                "print(dataframe_to_markdown(theoretical_table))"
            ]
        },
        {
            "cell_type": "markdown",
            "metadata": {},
            "source": [
                "| X\\Y    | Female | Male  | All   |\n",
                "| ------ | ------ | ----- | ----- |\n",
                "| high   | 44.29  | 75.71 | 120.0 |\n",
                "| low    | 14.39  | 24.61 | 39.0  |\n",
                "| normal | 34.32  | 58.68 | 93.0  |\n",
                "| All    | 93.0   | 159.0 | 252.0 |"
            ]
        },
        {
            "cell_type": "markdown",
            "metadata": {},
            "source": [
                "| Вариант X\\Вариант Y | $y^{(1)}$ | $y^{(2)}$ | $\\sum$ |\n",
                "| ------------------- | --------- | --------- | ------ |\n",
                "| $x^{(1)}$           | 44.29     | 75.71     | 120    |\n",
                "| $x^{(2)}$           | 14.39     | 24.61     | 39     |\n",
                "| $x^{(3)}$           | 34.32     | 58.68     | 93     |\n",
                "| $\\sum$              | 93        | 159       | 252    |\n",
                "        "
            ]
        },
        {
            "cell_type": "markdown",
            "metadata": {},
            "source": [
                "## Проверить статистические гипотезы"
            ]
        },
        {
            "cell_type": "code",
            "execution_count": 103,
            "metadata": {},
            "outputs": [
                {
                    "data": {
                        "text/plain": [
                            "Chi2ContingencyResult(statistic=np.float64(29.327732209282477), pvalue=np.float64(4.281183740842417e-07), dof=2, expected_freq=array([[44.28571429, 75.71428571],\n",
                            "       [14.39285714, 24.60714286],\n",
                            "       [34.32142857, 58.67857143]]))"
                        ]
                    },
                    "execution_count": 103,
                    "metadata": {},
                    "output_type": "execute_result"
                }
            ],
            "source": [
                "alphas = [0.01, 0.05, 0.1]\n",
                "\n",
                "res = stats.chi2_contingency(emperical_table.iloc[:-1, :-1])\n",
                "res"
            ]
        },
        {
            "cell_type": "code",
            "execution_count": 104,
            "metadata": {},
            "outputs": [
                {
                    "data": {
                        "text/markdown": [
                            "### $\\chi^2$-test"
                        ],
                        "text/plain": [
                            "<IPython.core.display.Markdown object>"
                        ]
                    },
                    "metadata": {},
                    "output_type": "display_data"
                },
                {
                    "data": {
                        "text/markdown": [
                            "$H_0:\\ F_Y(y \\mid_{X = x^{(1)}}) = F_Y(y \\mid_{X = x^{(2)}}) = \\dots = F_Y(y \\mid_{X = x^{(k_1)}}) = F_Y(y)$"
                        ],
                        "text/plain": [
                            "<IPython.core.display.Markdown object>"
                        ]
                    },
                    "metadata": {},
                    "output_type": "display_data"
                },
                {
                    "data": {
                        "text/markdown": [
                            "$z_{выб} =$ 29.33"
                        ],
                        "text/plain": [
                            "<IPython.core.display.Markdown object>"
                        ]
                    },
                    "metadata": {},
                    "output_type": "display_data"
                },
                {
                    "data": {
                        "text/markdown": [
                            "$p =$ 0.00"
                        ],
                        "text/plain": [
                            "<IPython.core.display.Markdown object>"
                        ]
                    },
                    "metadata": {},
                    "output_type": "display_data"
                },
                {
                    "data": {
                        "text/markdown": [
                            "При $\\alpha = 0.01$ $H_0$ отклоняется"
                        ],
                        "text/plain": [
                            "<IPython.core.display.Markdown object>"
                        ]
                    },
                    "metadata": {},
                    "output_type": "display_data"
                },
                {
                    "data": {
                        "text/markdown": [
                            "При $\\alpha = 0.05$ $H_0$ отклоняется"
                        ],
                        "text/plain": [
                            "<IPython.core.display.Markdown object>"
                        ]
                    },
                    "metadata": {},
                    "output_type": "display_data"
                },
                {
                    "data": {
                        "text/markdown": [
                            "При $\\alpha = 0.1$ $H_0$ отклоняется"
                        ],
                        "text/plain": [
                            "<IPython.core.display.Markdown object>"
                        ]
                    },
                    "metadata": {},
                    "output_type": "display_data"
                }
            ],
            "source": [
                "z = res.statistic\n",
                "p = res.pvalue\n",
                "\n",
                "mprint(\n",
                "    r\"### $\\chi^2$-test\",\n",
                "    f\"$H_0:\\\\ F_Y(y \\\\mid_{{X = x^{{(1)}}}}) = F_Y(y \\\\mid_{{X = x^{{(2)}}}}) = \\\\dots = F_Y(y \\\\mid_{{X = x^{{(k_1)}}}}) = F_Y(y)$\",\n",
                "    f\"$z_{{выб}} =$ {z:.2f}\",\n",
                "    f\"$p =$ {p:.2f}\",\n",
                ")\n",
                "\n",
                "for alpha in alphas:\n",
                "    mprint(f\"При $\\\\alpha = {alpha}$ {verdict(alpha, p)}\")"
            ]
        },
        {
            "cell_type": "markdown",
            "metadata": {},
            "source": [
                "| Уровень значимости | Выборочное значение статистического критерия | $p$-value | Статистическое решение | Вывод                                                                    |\n",
                "| ------------------ | -------------------------------------------- | --------- | ---------------------- | ------------------------------------------------------------------------ |\n",
                "| 0.01               | 29.33                                        | 0.00       | $H_0$ отклоняется      | $\\exists i, j: F_Y(y \\mid_{X = x^{(i)}}) \\neq F_Y(y \\mid_{X = x^{(j)})}$ |\n",
                "| 0.05               | 29.33                                        | 0.00       | $H_0$ отклоняется      | $\\exists i, j: F_Y(y \\mid_{X = x^{(i)}}) \\neq F_Y(y \\mid_{X = x^{(j)})}$ |\n",
                "| 0.1                | 29.33                                        | 0.00       | $H_0$ отклоняется      | $\\exists i, j: F_Y(y \\mid_{X = x^{(i)}}) \\neq F_Y(y \\mid_{X = x^{(j)})}$ |"
            ]
        },
        {
            "cell_type": "markdown",
            "metadata": {},
            "source": [
                "## Вывод (в терминах предметной области)"
            ]
        },
        {
            "cell_type": "markdown",
            "metadata": {},
            "source": [
                "В результате проведённого в п.6 статистического анализа обнаружено, что между факторным признаком `B3` и результативным признаком `B5` присутствует статистическая связь. Под действием `B3` оказывается влияние на распределение `B5`."
            ]
        },
        {
            "cell_type": "markdown",
            "metadata": {},
            "source": [
                "<a id=\"7\"></a>"
            ]
        },
        {
            "cell_type": "markdown",
            "metadata": {},
            "source": [
                "# Раздел 7. Дисперсионный анализ"
            ]
        },
        {
            "cell_type": "markdown",
            "metadata": {},
            "source": [
                "## Условие"
            ]
        },
        {
            "cell_type": "markdown",
            "metadata": {},
            "source": [
                "Факторный признак $x$ – `B6` (Town)\n",
                "\n",
                "Результативный признак $y$ – `B1` (Body density determined from underwater weighing)\n",
                "\n",
                "Число вариантов факторного признака – $k = 4$\n",
                "\n",
                "Объёмы выборок – $n_1 = n_2 = n = 252$\n",
                "\n",
                "Статистическая гипотеза – $H_0:\\ F_Y(y \\mid_{X = x_1}) = F_Y(y \\mid_{X = x_2}) = \\dots = F_Y(y \\mid_{X = x_k}) = F_Y(y); \\quad H':\\ \\exists i, j: F_Y(y \\mid_{X = x_i}) \\neq F_Y(y \\mid_{X = x_j})$"
            ]
        },
        {
            "cell_type": "markdown",
            "metadata": {},
            "source": [
                "## Определения"
            ]
        },
        {
            "cell_type": "code",
            "execution_count": 105,
            "metadata": {},
            "outputs": [
                {
                    "data": {
                        "text/plain": [
                            "(0    Somerville\n",
                            " 1    Somerville\n",
                            " 2    Somerville\n",
                            " 3    Somerville\n",
                            " 4    Somerville\n",
                            " Name: B6, dtype: object,\n",
                            " 0    1.0708\n",
                            " 1    1.0853\n",
                            " 2    1.0414\n",
                            " 3    1.0751\n",
                            " 4    1.0340\n",
                            " Name: B1, dtype: float64)"
                        ]
                    },
                    "execution_count": 105,
                    "metadata": {},
                    "output_type": "execute_result"
                }
            ],
            "source": [
                "X, Y = data(\"7\")\n",
                "X.head(), Y.head()"
            ]
        },
        {
            "cell_type": "code",
            "execution_count": 106,
            "metadata": {},
            "outputs": [
                {
                    "name": "stdout",
                    "output_type": "stream",
                    "text": [
                        "252 252\n"
                    ]
                }
            ],
            "source": [
                "print(n1 := len(X), n2 := len(Y))\n",
                "if n1 == n2:\n",
                "    n = n1"
            ]
        },
        {
            "cell_type": "code",
            "execution_count": 107,
            "metadata": {},
            "outputs": [
                {
                    "name": "stdout",
                    "output_type": "stream",
                    "text": [
                        "4\n"
                    ]
                }
            ],
            "source": [
                "print(k := len(X.unique()))"
            ]
        },
        {
            "cell_type": "markdown",
            "metadata": {},
            "source": [
                "## Рассчитать групповые выборочные характеристики"
            ]
        },
        {
            "cell_type": "code",
            "execution_count": 108,
            "metadata": {},
            "outputs": [
                {
                    "data": {
                        "text/html": [
                            "<div>\n",
                            "<style scoped>\n",
                            "    .dataframe tbody tr th:only-of-type {\n",
                            "        vertical-align: middle;\n",
                            "    }\n",
                            "\n",
                            "    .dataframe tbody tr th {\n",
                            "        vertical-align: top;\n",
                            "    }\n",
                            "\n",
                            "    .dataframe thead th {\n",
                            "        text-align: right;\n",
                            "    }\n",
                            "</style>\n",
                            "<table border=\"1\" class=\"dataframe\">\n",
                            "  <thead>\n",
                            "    <tr style=\"text-align: right;\">\n",
                            "      <th></th>\n",
                            "      <th>Y</th>\n",
                            "    </tr>\n",
                            "    <tr>\n",
                            "      <th>X</th>\n",
                            "      <th></th>\n",
                            "    </tr>\n",
                            "  </thead>\n",
                            "  <tbody>\n",
                            "    <tr>\n",
                            "      <th>Arlington</th>\n",
                            "      <td>[1.0524, 1.0356, 1.028, 1.043, 1.0396, 1.0317,...</td>\n",
                            "    </tr>\n",
                            "    <tr>\n",
                            "      <th>Norwood</th>\n",
                            "      <td>[1.0648, 1.0575, 1.0472, 1.0452, 1.0398, 1.043...</td>\n",
                            "    </tr>\n",
                            "    <tr>\n",
                            "      <th>Revere</th>\n",
                            "      <td>[1.0926, 1.0983, 1.0521, 1.0603, 1.0414, 1.076...</td>\n",
                            "    </tr>\n",
                            "    <tr>\n",
                            "      <th>Somerville</th>\n",
                            "      <td>[1.0708, 1.0853, 1.0414, 1.0751, 1.034, 1.0502...</td>\n",
                            "    </tr>\n",
                            "  </tbody>\n",
                            "</table>\n",
                            "</div>"
                        ],
                        "text/plain": [
                            "                                                            Y\n",
                            "X                                                            \n",
                            "Arlington   [1.0524, 1.0356, 1.028, 1.043, 1.0396, 1.0317,...\n",
                            "Norwood     [1.0648, 1.0575, 1.0472, 1.0452, 1.0398, 1.043...\n",
                            "Revere      [1.0926, 1.0983, 1.0521, 1.0603, 1.0414, 1.076...\n",
                            "Somerville  [1.0708, 1.0853, 1.0414, 1.0751, 1.034, 1.0502..."
                        ]
                    },
                    "execution_count": 108,
                    "metadata": {},
                    "output_type": "execute_result"
                }
            ],
            "source": [
                "df = pd.DataFrame({\"X\": X, \"Y\": Y}).groupby(\"X\")[\"Y\"].apply(np.array).to_frame()\n",
                "df"
            ]
        },
        {
            "cell_type": "code",
            "execution_count": 109,
            "metadata": {},
            "outputs": [
                {
                    "data": {
                        "text/html": [
                            "<div>\n",
                            "<style scoped>\n",
                            "    .dataframe tbody tr th:only-of-type {\n",
                            "        vertical-align: middle;\n",
                            "    }\n",
                            "\n",
                            "    .dataframe tbody tr th {\n",
                            "        vertical-align: top;\n",
                            "    }\n",
                            "\n",
                            "    .dataframe thead th {\n",
                            "        text-align: right;\n",
                            "    }\n",
                            "</style>\n",
                            "<table border=\"1\" class=\"dataframe\">\n",
                            "  <thead>\n",
                            "    <tr style=\"text-align: right;\">\n",
                            "      <th></th>\n",
                            "      <th>$x^{(i)}$</th>\n",
                            "      <th>$n_i$</th>\n",
                            "      <th>$\\overline{y_i}$</th>\n",
                            "      <th>$s_i^2$</th>\n",
                            "    </tr>\n",
                            "    <tr>\n",
                            "      <th>№ п/п</th>\n",
                            "      <th></th>\n",
                            "      <th></th>\n",
                            "      <th></th>\n",
                            "      <th></th>\n",
                            "    </tr>\n",
                            "  </thead>\n",
                            "  <tbody>\n",
                            "    <tr>\n",
                            "      <th>1</th>\n",
                            "      <td>Arlington</td>\n",
                            "      <td>73</td>\n",
                            "      <td>1.053964</td>\n",
                            "      <td>0.000241</td>\n",
                            "    </tr>\n",
                            "    <tr>\n",
                            "      <th>2</th>\n",
                            "      <td>Norwood</td>\n",
                            "      <td>41</td>\n",
                            "      <td>1.054844</td>\n",
                            "      <td>0.000236</td>\n",
                            "    </tr>\n",
                            "    <tr>\n",
                            "      <th>3</th>\n",
                            "      <td>Revere</td>\n",
                            "      <td>82</td>\n",
                            "      <td>1.054324</td>\n",
                            "      <td>0.000437</td>\n",
                            "    </tr>\n",
                            "    <tr>\n",
                            "      <th>4</th>\n",
                            "      <td>Somerville</td>\n",
                            "      <td>56</td>\n",
                            "      <td>1.060036</td>\n",
                            "      <td>0.000471</td>\n",
                            "    </tr>\n",
                            "  </tbody>\n",
                            "</table>\n",
                            "</div>"
                        ],
                        "text/plain": [
                            "        $x^{(i)}$  $n_i$  $\\overline{y_i}$   $s_i^2$\n",
                            "№ п/п                                               \n",
                            "1       Arlington     73          1.053964  0.000241\n",
                            "2         Norwood     41          1.054844  0.000236\n",
                            "3          Revere     82          1.054324  0.000437\n",
                            "4      Somerville     56          1.060036  0.000471"
                        ]
                    },
                    "execution_count": 109,
                    "metadata": {},
                    "output_type": "execute_result"
                }
            ],
            "source": [
                "groups = pd.DataFrame(index=pd.Index(range(1, k + 1), name=\"№ п/п\"))\n",
                "groups[r\"$x^{(i)}$\"] = df.index\n",
                "groups[r\"$n_i$\"] = df[\"Y\"].apply(len).values\n",
                "groups[r\"$\\overline{y_i}$\"] = df[\"Y\"].apply(np.mean).values\n",
                "groups[r\"$s_i^2$\"] = df[\"Y\"].apply(np.var, ddof=0).values\n",
                "groups"
            ]
        },
        {
            "cell_type": "code",
            "execution_count": 110,
            "metadata": {},
            "outputs": [
                {
                    "name": "stdout",
                    "output_type": "stream",
                    "text": [
                        "| № п/п | $x^{(i)}$ | $n_i$ | $\\overline{y_i}$ | $s_i^2$ |\n",
                        "|---|---|---|---|---|\n",
                        "| 1 | Arlington | 73 | 1.05 | 0.0 |\n",
                        "| 2 | Norwood | 41 | 1.05 | 0.0 |\n",
                        "| 3 | Revere | 82 | 1.05 | 0.0 |\n",
                        "| 4 | Somerville | 56 | 1.06 | 0.0 |\n",
                        "\n"
                    ]
                }
            ],
            "source": [
                "print(dataframe_to_markdown(groups))"
            ]
        },
        {
            "cell_type": "markdown",
            "metadata": {},
            "source": [
                "| № п/п | $x^{(i)}$  | $n_i$ | $\\overline{y_i}$ | $s_i^2$ |\n",
                "| ----- | ---------- | ----- | ---------------- | ------- |\n",
                "| 1     | Arlington  | 73    | 1.05             | 0.0     |\n",
                "| 2     | Norwood    | 41    | 1.05             | 0.0     |\n",
                "| 3     | Revere     | 82    | 1.05             | 0.0     |\n",
                "| 4     | Somerville | 56    | 1.06             | 0.0     |"
            ]
        },
        {
            "cell_type": "markdown",
            "metadata": {},
            "source": [
                "## Привести формулы расчёта показателей вариации, используемых в дисперсионном анализе"
            ]
        },
        {
            "cell_type": "markdown",
            "metadata": {},
            "source": [
                "| Источник вариации      | Показатель вариации                                                                                                                                                                                     | Число степеней свободы | Несмещённая оценка                         |\n",
                "| ---------------------- | ------------------------------------------------------------------------------------------------------------------------------------------------------------------------------------------------------- | ---------------------- | ------------------------------------------ |\n",
                "| Группировочный признак | $\\tilde{D}_{\\text{межгр}} = \\dfrac{1}{n}\\sum\\limits_{i=1}^{k}n_i(\\overline{y_i} - \\overline{y})^2$                                                                                                      | $k - 1$                | $\\dfrac{n}{k - 1}\\tilde{D}_{\\text{межгр}}$ |\n",
                "| Остаточные факторы     | $\\tilde{D}_{\\text{внутр}} = \\dfrac{1}{n}\\sum\\limits_{i=1}^{k}n_i\\tilde{\\sigma_i}^2$, где $\\tilde{\\sigma_i}^2 =  \\dfrac{1}{n_i}\\sum\\limits_{j=1}^{n_i}(y_{ij} - \\overline{y_i}^2)$ - групповая дисперсия | $n - k$                | $\\dfrac{n}{n - k}\\tilde{D}_{\\text{внутр}}$ |\n",
                "| Все факторы            | $\\tilde{D}_{\\text{общ}} = \\dfrac{1}{n}\\sum\\limits_{i=1}^{k}\\sum\\limits_{j=1}^{n_i}(y_{ij}-\\overline{y})^2$                                                                                              | $n - 1 $               | $\\dfrac{n}{n - 1}\\tilde{D}_{\\text{общ}}$   |"
            ]
        },
        {
            "cell_type": "markdown",
            "metadata": {},
            "source": [
                "## Рассчитать показатели вариации, используемые в дисперсионном анализе"
            ]
        },
        {
            "cell_type": "code",
            "execution_count": 111,
            "metadata": {},
            "outputs": [
                {
                    "data": {
                        "text/markdown": [
                            "$\\tilde{D}_{\\text{межгр}} = 0.00$"
                        ],
                        "text/plain": [
                            "<IPython.core.display.Markdown object>"
                        ]
                    },
                    "metadata": {},
                    "output_type": "display_data"
                },
                {
                    "data": {
                        "text/markdown": [
                            "$\\tilde{D}_{\\text{внутр}} = 0.00$"
                        ],
                        "text/plain": [
                            "<IPython.core.display.Markdown object>"
                        ]
                    },
                    "metadata": {},
                    "output_type": "display_data"
                },
                {
                    "data": {
                        "text/markdown": [
                            "$\\tilde{D}_{\\text{общ}} = 0.00$"
                        ],
                        "text/plain": [
                            "<IPython.core.display.Markdown object>"
                        ]
                    },
                    "metadata": {},
                    "output_type": "display_data"
                },
                {
                    "data": {
                        "text/markdown": [
                            "$\\tilde{D}_{\\text{межгр, несмещ}} = 0.00$"
                        ],
                        "text/plain": [
                            "<IPython.core.display.Markdown object>"
                        ]
                    },
                    "metadata": {},
                    "output_type": "display_data"
                },
                {
                    "data": {
                        "text/markdown": [
                            "$\\tilde{D}_{\\text{внутр, несмещ}} = 0.00$"
                        ],
                        "text/plain": [
                            "<IPython.core.display.Markdown object>"
                        ]
                    },
                    "metadata": {},
                    "output_type": "display_data"
                },
                {
                    "data": {
                        "text/markdown": [
                            "$\\tilde{D}_{\\text{общ, несмещ}} = 0.00$"
                        ],
                        "text/plain": [
                            "<IPython.core.display.Markdown object>"
                        ]
                    },
                    "metadata": {},
                    "output_type": "display_data"
                }
            ],
            "source": [
                "S_general = float(Y.var(ddof=0))\n",
                "S_inside = 1 / n * sum(groups[r\"$n_i$\"] * groups[r\"$s_i^2$\"])\n",
                "S_between = (\n",
                "    1 / n * sum(groups[r\"$n_i$\"] * (groups[r\"$\\overline{y_i}$\"] - Y.mean()) ** 2)\n",
                ")\n",
                "\n",
                "S_general_unbiased = S_general * n / (n - 1)\n",
                "S_inside_unbiased = S_inside * n / (n - k)\n",
                "S_between_unbiased = S_between * n / (k - 1)\n",
                "\n",
                "mprint(\n",
                "    f\"$\\\\tilde{{D}}_{{\\\\text{{межгр}}}} = {S_between:.2f}$\",\n",
                "    f\"$\\\\tilde{{D}}_{{\\\\text{{внутр}}}} = {S_inside:.2f}$\",\n",
                "    f\"$\\\\tilde{{D}}_{{\\\\text{{общ}}}} = {S_general:.2f}$\",\n",
                "    f\"$\\\\tilde{{D}}_{{\\\\text{{межгр, несмещ}}}} = {S_between_unbiased:.2f}$\",\n",
                "    f\"$\\\\tilde{{D}}_{{\\\\text{{внутр, несмещ}}}} = {S_inside_unbiased:.2f}$\",\n",
                "    f\"$\\\\tilde{{D}}_{{\\\\text{{общ, несмещ}}}} = {S_general_unbiased:.2f}$\",\n",
                ")"
            ]
        },
        {
            "cell_type": "markdown",
            "metadata": {},
            "source": [
                "| Источник вариации      | Показатель вариации               | Число степеней свободы | Несмещённая оценка                                |\n",
                "| ---------------------- | --------------------------------- | ---------------------- | ------------------------------------------------- |\n",
                "| Группировочный признак | $\\tilde{D}_{\\text{межгр}} = 0.00$ | $k - 1 = 3$            | $\\dfrac{n}{k - 1}\\tilde{D}_{\\text{межгр}} = 0.00$ |\n",
                "| Остаточные факторы     | $\\tilde{D}_{\\text{внутр}} = 0.00$ | $n - k = 248$          | $\\dfrac{n}{n - k}\\tilde{D}_{\\text{внутр}} = 0.00$ |\n",
                "| Все факторы            | $\\tilde{D}_{\\text{общ}} = 0.00$   | $n - 1 = 251$          | $\\dfrac{n}{n - 1}\\tilde{D}_{\\text{общ}} = 0.00$   |"
            ]
        },
        {
            "cell_type": "markdown",
            "metadata": {},
            "source": [
                "## Проверить правило сложения дисперсий"
            ]
        },
        {
            "cell_type": "code",
            "execution_count": 112,
            "metadata": {},
            "outputs": [
                {
                    "data": {
                        "text/markdown": [
                            "$\\tilde{D}_{\\text{межгр}} = 0.00$"
                        ],
                        "text/plain": [
                            "<IPython.core.display.Markdown object>"
                        ]
                    },
                    "metadata": {},
                    "output_type": "display_data"
                },
                {
                    "data": {
                        "text/markdown": [
                            "$\\tilde{D}_{\\text{внутр}} = 0.00$"
                        ],
                        "text/plain": [
                            "<IPython.core.display.Markdown object>"
                        ]
                    },
                    "metadata": {},
                    "output_type": "display_data"
                },
                {
                    "data": {
                        "text/markdown": [
                            "$\\tilde{D}_{\\text{общ}} = 0.00$"
                        ],
                        "text/plain": [
                            "<IPython.core.display.Markdown object>"
                        ]
                    },
                    "metadata": {},
                    "output_type": "display_data"
                },
                {
                    "data": {
                        "text/markdown": [
                            "$\\tilde{D}_{\\text{межгр}} + \\tilde{D}_{\\text{внутр}} = 0.00$"
                        ],
                        "text/plain": [
                            "<IPython.core.display.Markdown object>"
                        ]
                    },
                    "metadata": {},
                    "output_type": "display_data"
                },
                {
                    "name": "stdout",
                    "output_type": "stream",
                    "text": [
                        "True\n"
                    ]
                }
            ],
            "source": [
                "mprint(\n",
                "    f\"$\\\\tilde{{D}}_{{\\\\text{{межгр}}}} = {S_between:.2f}$\",\n",
                "    f\"$\\\\tilde{{D}}_{{\\\\text{{внутр}}}} = {S_inside:.2f}$\",\n",
                "    f\"$\\\\tilde{{D}}_{{\\\\text{{общ}}}} = {S_general:.2f}$\",\n",
                "    f\"$\\\\tilde{{D}}_{{\\\\text{{межгр}}}} + \\\\tilde{{D}}_{{\\\\text{{внутр}}}} = {S_between + S_inside:.2f}$\",\n",
                ")\n",
                "print(S_between + S_inside - S_general < 1e-10)"
            ]
        },
        {
            "cell_type": "markdown",
            "metadata": {},
            "source": [
                "| Показатель | $\\tilde{D}_{\\text{межгр}}$ | $\\tilde{D}_{\\text{внутр}}$ | $\\tilde{D}_{\\text{общ}}$ | $\\tilde{D}_{\\text{межгр}} + \\tilde{D}_{\\text{внутр}}$ |\n",
                "| ---------- | -------------------------- | -------------------------- | ------------------------ | ----------------------------------------------------- |\n",
                "| Значение   | 0.00                       | 0.00                       | 0.00                     | 0.00                                                  |\n"
            ]
        },
        {
            "cell_type": "markdown",
            "metadata": {},
            "source": [
                "## Рассчитать показатели тесноты связи между факторным и результативным признаками"
            ]
        },
        {
            "cell_type": "code",
            "execution_count": 113,
            "metadata": {},
            "outputs": [
                {
                    "data": {
                        "text/markdown": [
                            "$\\tilde{\\eta^2} = 0.02$"
                        ],
                        "text/plain": [
                            "<IPython.core.display.Markdown object>"
                        ]
                    },
                    "metadata": {},
                    "output_type": "display_data"
                },
                {
                    "data": {
                        "text/markdown": [
                            "$\\tilde{\\eta} = 0.13$"
                        ],
                        "text/plain": [
                            "<IPython.core.display.Markdown object>"
                        ]
                    },
                    "metadata": {},
                    "output_type": "display_data"
                }
            ],
            "source": [
                "eta_squared = S_between / S_general\n",
                "\n",
                "eta = m.sqrt(eta_squared)\n",
                "\n",
                "mprint(\n",
                "    f\"$\\\\tilde{{\\\\eta^2}} = {eta_squared:.2f}$\",\n",
                "    f\"$\\\\tilde{{\\\\eta}} = {eta:.2f}$\",\n",
                ")"
            ]
        },
        {
            "cell_type": "markdown",
            "metadata": {},
            "source": [
                "| Показатель                            | Формула расчета                                                                                          | Значение |\n",
                "| ------------------------------------- | -------------------------------------------------------------------------------------------------------- | -------- |\n",
                "| Эмпирический коэффициент детерминации | $\\tilde{\\eta}^2 = \\dfrac{\\tilde{D}_{\\text{межгр}}}{\\tilde{D}_{\\text{общ}}}$                              | 0.02     |\n",
                "| Эмпирическое корреляционное отношение | $\\tilde{\\eta} = \\sqrt{\\tilde{\\eta}^2} = \\sqrt{\\dfrac{\\tilde{D}_{\\text{межгр}}}{\\tilde{D}_{\\text{общ}}}}$ | 0.13     |\n"
            ]
        },
        {
            "cell_type": "markdown",
            "metadata": {},
            "source": [
                "## Охарактеризовать тип связи между факторным и результативным признаками"
            ]
        },
        {
            "cell_type": "markdown",
            "metadata": {},
            "source": [
                "По шкале Чеддока наблюдается слабая степень статистической связи между факторным признаком `B6` и результативным признаком `B1`."
            ]
        },
        {
            "cell_type": "markdown",
            "metadata": {},
            "source": [
                "## Указать формулы расчёта показателей, используемых при проверке статистической гипотезы дисперсионного анализа"
            ]
        },
        {
            "cell_type": "markdown",
            "metadata": {},
            "source": [
                "|                                                                                  | Выражение                                                                        | Пояснение использованных обозначений                         |\n",
                "| -------------------------------------------------------------------------------- | -------------------------------------------------------------------------------- | ------------------------------------------------------------ |\n",
                "| Формула рассчёта статистики критерия                                             | $Z = \\dfrac{n-k}{k-1}\\dfrac{\\tilde{D}_{\\text{межгр}}}{\\tilde{D}_{\\text{внутр}}}$ | $k$ - число групп $\\\\$ $n$ - объём выборки $y_1, \\dots, y_n$ |\n",
                "| Закон распределения статистики критерия при условии истинности основной гипотезы | $F(k-1, n-k)$                                                                    |                                                              |\n",
                "| Формула расчета критической точки                                                | $F_{1-\\alpha, k-1, n-k}$                                                         | Правосторонняя критическая область                           |\n",
                "| Формула расчета p-value                                                          | $1 - F_Z(z_{\\text{выб}} \\mid H_0)$                                               |                                                              |\n"
            ]
        },
        {
            "cell_type": "markdown",
            "metadata": {},
            "source": [
                "## Проверить статистическую гипотезу дисперсионного анализа"
            ]
        },
        {
            "cell_type": "code",
            "execution_count": 114,
            "metadata": {},
            "outputs": [
                {
                    "data": {
                        "text/markdown": [
                            "### ANOVA"
                        ],
                        "text/plain": [
                            "<IPython.core.display.Markdown object>"
                        ]
                    },
                    "metadata": {},
                    "output_type": "display_data"
                },
                {
                    "data": {
                        "text/markdown": [
                            "$H_0: m_1 = m_2 = m_3$"
                        ],
                        "text/plain": [
                            "<IPython.core.display.Markdown object>"
                        ]
                    },
                    "metadata": {},
                    "output_type": "display_data"
                },
                {
                    "data": {
                        "text/markdown": [
                            "$z_{выб} = 1.34$"
                        ],
                        "text/plain": [
                            "<IPython.core.display.Markdown object>"
                        ]
                    },
                    "metadata": {},
                    "output_type": "display_data"
                },
                {
                    "data": {
                        "text/markdown": [
                            "$p = 0.26$"
                        ],
                        "text/plain": [
                            "<IPython.core.display.Markdown object>"
                        ]
                    },
                    "metadata": {},
                    "output_type": "display_data"
                },
                {
                    "data": {
                        "text/markdown": [
                            "При $\\alpha = 0.01$ $H_0$ принимается"
                        ],
                        "text/plain": [
                            "<IPython.core.display.Markdown object>"
                        ]
                    },
                    "metadata": {},
                    "output_type": "display_data"
                },
                {
                    "data": {
                        "text/markdown": [
                            "При $\\alpha = 0.05$ $H_0$ принимается"
                        ],
                        "text/plain": [
                            "<IPython.core.display.Markdown object>"
                        ]
                    },
                    "metadata": {},
                    "output_type": "display_data"
                },
                {
                    "data": {
                        "text/markdown": [
                            "При $\\alpha = 0.1$ $H_0$ принимается"
                        ],
                        "text/plain": [
                            "<IPython.core.display.Markdown object>"
                        ]
                    },
                    "metadata": {},
                    "output_type": "display_data"
                }
            ],
            "source": [
                "alphas = [0.01, 0.05, 0.1]\n",
                "\n",
                "z, p_value = stats.f_oneway(*df[\"Y\"])\n",
                "\n",
                "mprint(\n",
                "    r\"### ANOVA\",\n",
                "    f\"$H_0: m_1 = m_2 = m_3$\",\n",
                "    f\"$z_{{выб}} = {z:.2f}$\",\n",
                "    f\"$p = {p_value:.2f}$\",\n",
                ")\n",
                "\n",
                "for alpha in alphas:\n",
                "    mprint(f\"При $\\\\alpha = {alpha}$ {verdict(alpha, p_value)}\")"
            ]
        },
        {
            "cell_type": "markdown",
            "metadata": {},
            "source": [
                "| Уровень значимости | Выборочное значение статистического критерия | $p$-value | Статистическое решение | Вывод                                                                                    |\n",
                "| ------------------ | -------------------------------------------- | --------- | ---------------------- | ---------------------------------------------------------------------------------------- |\n",
                "| 0.01               | 1.34                                         | 0.26      | $H_0$ принимается      | $F_Y(y \\mid_{X = x_1}) = F_Y(y \\mid_{X = x_2}) = \\dots = F_Y(y \\mid_{X = x_k}) = F_Y(y)$ |\n",
                "| 0.05               | 1.34                                         | 0.26      | $H_0$ принимается      | $F_Y(y \\mid_{X = x_1}) = F_Y(y \\mid_{X = x_2}) = \\dots = F_Y(y \\mid_{X = x_k}) = F_Y(y)$ |\n",
                "| 0.1                | 1.34                                         | 0.26      | $H_0$ принимается      | $F_Y(y \\mid_{X = x_1}) = F_Y(y \\mid_{X = x_2}) = \\dots = F_Y(y \\mid_{X = x_k}) = F_Y(y)$ |"
            ]
        },
        {
            "cell_type": "markdown",
            "metadata": {},
            "source": [
                "## Вывод (в терминах предметной области)"
            ]
        },
        {
            "cell_type": "markdown",
            "metadata": {},
            "source": [
                "В результате проведённого в п.7 статистического анализа обнаружено, что между факторным признаком `B6` и результативным признаком `B1` отсутствует статистическая связь. Под действием `B6` не оказывается влияние на распределение `B1`."
            ]
        },
        {
            "cell_type": "markdown",
            "metadata": {},
            "source": [
                "<a id=\"8\"></a>"
            ]
        },
        {
            "cell_type": "markdown",
            "metadata": {},
            "source": [
                "# Раздел 8. Корреляционный анализ"
            ]
        },
        {
            "cell_type": "markdown",
            "metadata": {},
            "source": [
                "<a id=\"81\"></a>"
            ]
        },
        {
            "cell_type": "markdown",
            "metadata": {},
            "source": [
                "## 8.1 Расчёт парных коэффициентов корреляции"
            ]
        },
        {
            "cell_type": "markdown",
            "metadata": {},
            "source": [
                "### Условие"
            ]
        },
        {
            "cell_type": "markdown",
            "metadata": {},
            "source": [
                "Анализируемый признак 1 – `B11` (Abdomen circumference (cm))\n",
                "\n",
                "Анализируемый признак 2 – `B12` (Hip circumference (cm))\n",
                "\n",
                "Объёмы выборок – $n_1 = n_2 = n = 252$"
            ]
        },
        {
            "cell_type": "markdown",
            "metadata": {},
            "source": [
                "### Определения"
            ]
        },
        {
            "cell_type": "code",
            "execution_count": 115,
            "metadata": {},
            "outputs": [
                {
                    "data": {
                        "text/plain": [
                            "(0     85.2\n",
                            " 1     83.0\n",
                            " 2     87.9\n",
                            " 3     86.4\n",
                            " 4    100.0\n",
                            " Name: B11, dtype: float64,\n",
                            " 0     94.5\n",
                            " 1     98.7\n",
                            " 2     99.2\n",
                            " 3    101.2\n",
                            " 4    101.9\n",
                            " Name: B12, dtype: float64)"
                        ]
                    },
                    "execution_count": 115,
                    "metadata": {},
                    "output_type": "execute_result"
                }
            ],
            "source": [
                "X, Y = data(\"8.1\")\n",
                "X.head(), Y.head()"
            ]
        },
        {
            "cell_type": "code",
            "execution_count": 116,
            "metadata": {},
            "outputs": [
                {
                    "name": "stdout",
                    "output_type": "stream",
                    "text": [
                        "252 252\n"
                    ]
                }
            ],
            "source": [
                "print(n1 := len(X), n2 := len(Y))\n",
                "\n",
                "if n1 == n2:\n",
                "    n = n1"
            ]
        },
        {
            "cell_type": "markdown",
            "metadata": {},
            "source": [
                "### Рассчитать точечные оценки коэффициентов корреляции"
            ]
        },
        {
            "cell_type": "code",
            "execution_count": 117,
            "metadata": {},
            "outputs": [
                {
                    "data": {
                        "text/markdown": [
                            "$\\rho_{XY} = 0.87$"
                        ],
                        "text/plain": [
                            "<IPython.core.display.Markdown object>"
                        ]
                    },
                    "metadata": {},
                    "output_type": "display_data"
                },
                {
                    "data": {
                        "text/markdown": [
                            "$\\rho^{(sp)}_{XY} = 0.85$"
                        ],
                        "text/plain": [
                            "<IPython.core.display.Markdown object>"
                        ]
                    },
                    "metadata": {},
                    "output_type": "display_data"
                },
                {
                    "data": {
                        "text/markdown": [
                            "$\\tau_{XY} = 0.66$"
                        ],
                        "text/plain": [
                            "<IPython.core.display.Markdown object>"
                        ]
                    },
                    "metadata": {},
                    "output_type": "display_data"
                }
            ],
            "source": [
                "rho_XY = stats.pearsonr(X, Y)[0]\n",
                "rho_sp_XY = stats.spearmanr(X, Y)[0]\n",
                "tau_XY = stats.kendalltau(X, Y)[0]\n",
                "\n",
                "mprint(\n",
                "    f\"$\\\\rho_{{XY}} = {rho_XY:.2f}$\",\n",
                "    f\"$\\\\rho^{{(sp)}}_{{XY}} = {rho_sp_XY:.2f}$\",\n",
                "    f\"$\\\\tau_{{XY}} = {tau_XY:.2f}$\",\n",
                ")"
            ]
        },
        {
            "cell_type": "markdown",
            "metadata": {},
            "source": [
                "|                                             | Формула расчёта                                                                                                                                                                                                                                                                                                                                                                                                                                                                    | Значение |\n",
                "| ------------------------------------------- | ---------------------------------------------------------------------------------------------------------------------------------------------------------------------------------------------------------------------------------------------------------------------------------------------------------------------------------------------------------------------------------------------------------------------------------------------------------------------------------- | -------- |\n",
                "| Линейный коэффициент корреляции             | $\\tilde{\\rho}_{XY} = \\dfrac{\\tilde{cov}(X, Y)}{\\tilde{\\sigma}_X \\cdot \\tilde{\\sigma}_Y} = \\dfrac{\\sum\\limits_{i=1}^{n}(x_i - \\overline{x})(y_i - \\overline{y})}{\\sqrt{\\sum\\limits_{i=1}^{n}(x_i - \\overline x)^2 \\cdot \\sum\\limits_{i=1}^{n} (y_i - \\overline y)^2}}$                                                                                                                                                                                                              | 0.87     |\n",
                "| Ранговый коэффициент корреляции по Спирмену | $\\tilde{\\rho}^{(sp)}_{XY} = \\tilde{\\rho}_{RS}$, где $R$ и $S$ - ранги для выборок $X$ и $Y$ соответственно. $\\\\$ Можно показать, что $\\tilde{\\rho}^{(sp)}_{XY} = 1 - \\dfrac{6S}{n(n^2 - 1)}$, где $S = \\sum\\limits_{i=1}^{n} (r_i - s_i)^2$                                                                                                                                                                                                                                        | 0.85     |\n",
                "| Ранговый коэффициент корреляции по Кендаллу | $\\tilde{\\tau}_{XY} = \\dfrac{N_+ - N_-}{n(n-1)/2}$,  где $\\\\$ $N_+,\\  N_-$ - количество пар точек $(x_i, y_i)$ таких, что $\\\\$ $(x_i - x_j)(y_i - y_j) > 0,\\ (x_i - x_j)(y_i - y_j) < 0$ соответственно. $\\\\$ Другой вариант расчёта:   $\\tilde{\\tau}_{XY} = \\dfrac{4R}{n(n-1)} - 1$, где $\\\\$ $R = \\sum\\limits_{i=1}^{n}\\sum\\limits_{j=i+1}^{n}1[s_j > s_i]$ - число инверсий в выборке $(r_1, s_1), \\dots, (r_n, s_n)$, $\\\\$ предварительно отсортированной по возрастанию $r_i$. | 0.66     |\n"
            ]
        },
        {
            "cell_type": "markdown",
            "metadata": {},
            "source": [
                "### Привести формулы расчёта доверительного интервала для линейного коэффициента корреляции"
            ]
        },
        {
            "cell_type": "markdown",
            "metadata": {},
            "source": [
                "Для выборок объёмов $n > 500$ и объёма $n \\leq 500$ формулы расчёта различаются. Привожу для случая $n \\leq 500$, так как у нас именно такая ситуация."
            ]
        },
        {
            "cell_type": "markdown",
            "metadata": {},
            "source": [
                "| Граница доверительного интервала | Формула расчёта |\n",
                "| -------------------------------- | --------------- |\n",
                "| Нижняя граница                   |$\\th{\\left(\\dfrac{1}{2}\\ln{\\dfrac{1 + \\tilde{\\rho}}{1 - \\tilde{\\rho}}} + \\dfrac{\\tilde{\\rho}}{2(n-1)}-\\dfrac{u_{1 - \\frac{\\alpha}{2}}}{\\sqrt{n-3}}\\right)}$|\n",
                "| Верхняя граница                  |  $\\th{\\left(\\dfrac{1}{2}\\ln{\\dfrac{1 + \\tilde{\\rho}}{1 - \\tilde{\\rho}}} + \\dfrac{\\tilde{\\rho}}{2(n-1)}+\\dfrac{u_{1 - \\frac{\\alpha}{2}}}{\\sqrt{n-3}}\\right)}$               |\n"
            ]
        },
        {
            "cell_type": "markdown",
            "metadata": {},
            "source": [
                "### Рассчитать доверительные интервалы для линейного коэффициента корреляции"
            ]
        },
        {
            "cell_type": "code",
            "execution_count": 118,
            "metadata": {},
            "outputs": [
                {
                    "data": {
                        "text/html": [
                            "<div>\n",
                            "<style scoped>\n",
                            "    .dataframe tbody tr th:only-of-type {\n",
                            "        vertical-align: middle;\n",
                            "    }\n",
                            "\n",
                            "    .dataframe tbody tr th {\n",
                            "        vertical-align: top;\n",
                            "    }\n",
                            "\n",
                            "    .dataframe thead th {\n",
                            "        text-align: right;\n",
                            "    }\n",
                            "</style>\n",
                            "<table border=\"1\" class=\"dataframe\">\n",
                            "  <thead>\n",
                            "    <tr style=\"text-align: right;\">\n",
                            "      <th></th>\n",
                            "      <th>$\\alpha = 0.01$</th>\n",
                            "      <th>$\\alpha = 0.05$</th>\n",
                            "      <th>$\\alpha = 0.1$</th>\n",
                            "    </tr>\n",
                            "    <tr>\n",
                            "      <th>Граница доверительного интервала</th>\n",
                            "      <th></th>\n",
                            "      <th></th>\n",
                            "      <th></th>\n",
                            "    </tr>\n",
                            "  </thead>\n",
                            "  <tbody>\n",
                            "    <tr>\n",
                            "      <th>Нижняя граница</th>\n",
                            "      <td>0.830131</td>\n",
                            "      <td>0.841878</td>\n",
                            "      <td>0.847597</td>\n",
                            "    </tr>\n",
                            "    <tr>\n",
                            "      <th>Верхняя граница</th>\n",
                            "      <td>0.907828</td>\n",
                            "      <td>0.900717</td>\n",
                            "      <td>0.896880</td>\n",
                            "    </tr>\n",
                            "  </tbody>\n",
                            "</table>\n",
                            "</div>"
                        ],
                        "text/plain": [
                            "                                  $\\alpha = 0.01$  $\\alpha = 0.05$  \\\n",
                            "Граница доверительного интервала                                     \n",
                            "Нижняя граница                           0.830131         0.841878   \n",
                            "Верхняя граница                          0.907828         0.900717   \n",
                            "\n",
                            "                                  $\\alpha = 0.1$  \n",
                            "Граница доверительного интервала                  \n",
                            "Нижняя граница                          0.847597  \n",
                            "Верхняя граница                         0.896880  "
                        ]
                    },
                    "execution_count": 118,
                    "metadata": {},
                    "output_type": "execute_result"
                }
            ],
            "source": [
                "intervals = pd.DataFrame(\n",
                "    index=pd.Index(\n",
                "        [\"Нижняя граница\", \"Верхняя граница\"], name=\"Граница доверительного интервала\"\n",
                "    )\n",
                ")\n",
                "alphas = [0.01, 0.05, 0.1]\n",
                "for alpha in alphas:\n",
                "    u = stats.norm.ppf(1 - alpha / 2)\n",
                "    z1 = (\n",
                "        1 / 2 * m.log((1 + rho_XY) / (1 - rho_XY))\n",
                "        + rho_XY / (2 * (n - 1))\n",
                "        - u / m.sqrt(n - 3)\n",
                "    )\n",
                "    z2 = (\n",
                "        1 / 2 * m.log((1 + rho_XY) / (1 - rho_XY))\n",
                "        + rho_XY / (2 * (n - 1))\n",
                "        + u / m.sqrt(n - 3)\n",
                "    )\n",
                "    intervals[f\"$\\\\alpha = {alpha}$\"] = [m.tanh(z1), m.tanh(z2)]\n",
                "intervals"
            ]
        },
        {
            "cell_type": "code",
            "execution_count": 119,
            "metadata": {},
            "outputs": [
                {
                    "name": "stdout",
                    "output_type": "stream",
                    "text": [
                        "| Граница доверительного интервала | $\\alpha = 0.01$ | $\\alpha = 0.05$ | $\\alpha = 0.1$ |\n",
                        "|---|---|---|---|\n",
                        "| Нижняя граница | 0.83 | 0.84 | 0.85 |\n",
                        "| Верхняя граница | 0.91 | 0.9 | 0.9 |\n",
                        "\n"
                    ]
                }
            ],
            "source": [
                "print(dataframe_to_markdown(intervals))"
            ]
        },
        {
            "cell_type": "markdown",
            "metadata": {},
            "source": [
                "| Граница доверительного интервала | $\\alpha = 0.01$ | $\\alpha = 0.05$ | $\\alpha = 0.1$ |\n",
                "| -------------------------------- | --------------- | --------------- | -------------- |\n",
                "| Нижняя граница                   | 0.83            | 0.84            | 0.85           |\n",
                "| Верхняя граница                  | 0.91            | 0.9             | 0.9            |"
            ]
        },
        {
            "cell_type": "markdown",
            "metadata": {},
            "source": [
                "### Указать формулы расчёта показателей, используемых при проверке значимости коэффициентов корреляции"
            ]
        },
        {
            "cell_type": "markdown",
            "metadata": {},
            "source": [
                "| Статистическая гипотеза                                      | Формула расчёта статистики критерия                                                                          | Закон распределения статистики критерия при условии истинности основной |\n",
                "| ------------------------------------------------------------ | ------------------------------------------------------------------------------------------------------------ | ----------------------------------------------------------------------- |\n",
                "| $H_0:\\ \\rho_{XY} = 0 \\\\ H':\\ \\rho_{XY} \\neq 0$               | $Z =  \\dfrac{\\tilde{\\rho}_{XY} \\cdot \\sqrt{n-2}}{\\sqrt{1 - \\tilde{\\rho}_{XY}^2}}$                            | $T(n - 2)$                                                              |\n",
                "| $H_0:\\ \\rho_{XY}^{(sp)} = 0 \\\\ H':\\ \\rho_{XY}^{(sp)} \\neq 0$ | $Z =  \\dfrac{\\tilde{\\rho}_{XY}^{(sp)} \\cdot \\sqrt{n-2}}{\\sqrt{1 - \\left(\\tilde{\\rho}_{XY}^{(sp)}\\right)^2}}$ | $T(n - 2)$                                                              |\n",
                "| $H_0:\\ \\tau_{XY} = 0 \\\\ H':\\ \\tau_{XY} \\neq 0$               | $\\sqrt{\\dfrac{9n(n+1)}{2(2n+5)}}\\cdot \\tilde{\\tau}_{XY}$                                                     | $N(0, 1)$                                                               |\n"
            ]
        },
        {
            "cell_type": "markdown",
            "metadata": {},
            "source": [
                "### Проверить значимость коэффициентов корреляции"
            ]
        },
        {
            "cell_type": "code",
            "execution_count": 120,
            "metadata": {},
            "outputs": [
                {
                    "data": {
                        "text/markdown": [
                            "### Проверка значимости КК"
                        ],
                        "text/plain": [
                            "<IPython.core.display.Markdown object>"
                        ]
                    },
                    "metadata": {},
                    "output_type": "display_data"
                },
                {
                    "data": {
                        "text/markdown": [
                            "---"
                        ],
                        "text/plain": [
                            "<IPython.core.display.Markdown object>"
                        ]
                    },
                    "metadata": {},
                    "output_type": "display_data"
                },
                {
                    "data": {
                        "text/markdown": [
                            "### $\\rho_{XY}$"
                        ],
                        "text/plain": [
                            "<IPython.core.display.Markdown object>"
                        ]
                    },
                    "metadata": {},
                    "output_type": "display_data"
                },
                {
                    "data": {
                        "text/markdown": [
                            "$H_0$: $\\rho_{XY} = 0$, $H_1$: $\\rho_{XY} \\neq 0$"
                        ],
                        "text/plain": [
                            "<IPython.core.display.Markdown object>"
                        ]
                    },
                    "metadata": {},
                    "output_type": "display_data"
                },
                {
                    "data": {
                        "text/markdown": [
                            "$z_{выб} =$ 28.45, "
                        ],
                        "text/plain": [
                            "<IPython.core.display.Markdown object>"
                        ]
                    },
                    "metadata": {},
                    "output_type": "display_data"
                },
                {
                    "data": {
                        "text/markdown": [
                            "$p =$ 0.00"
                        ],
                        "text/plain": [
                            "<IPython.core.display.Markdown object>"
                        ]
                    },
                    "metadata": {},
                    "output_type": "display_data"
                },
                {
                    "data": {
                        "text/markdown": [
                            "$H_0$ отклоняется"
                        ],
                        "text/plain": [
                            "<IPython.core.display.Markdown object>"
                        ]
                    },
                    "metadata": {},
                    "output_type": "display_data"
                },
                {
                    "data": {
                        "text/markdown": [
                            "---"
                        ],
                        "text/plain": [
                            "<IPython.core.display.Markdown object>"
                        ]
                    },
                    "metadata": {},
                    "output_type": "display_data"
                },
                {
                    "data": {
                        "text/markdown": [
                            "### $\\rho_{XY}^{(sp)}$"
                        ],
                        "text/plain": [
                            "<IPython.core.display.Markdown object>"
                        ]
                    },
                    "metadata": {},
                    "output_type": "display_data"
                },
                {
                    "data": {
                        "text/markdown": [
                            "$H_0$: $\\rho_{XY}^{(sp)} = 0$, $H_1$: $\\rho_{XY}^{(sp)} \\neq 0$"
                        ],
                        "text/plain": [
                            "<IPython.core.display.Markdown object>"
                        ]
                    },
                    "metadata": {},
                    "output_type": "display_data"
                },
                {
                    "data": {
                        "text/markdown": [
                            "$z_{выб} =$ 25.00, "
                        ],
                        "text/plain": [
                            "<IPython.core.display.Markdown object>"
                        ]
                    },
                    "metadata": {},
                    "output_type": "display_data"
                },
                {
                    "data": {
                        "text/markdown": [
                            "$p =$ 0.00"
                        ],
                        "text/plain": [
                            "<IPython.core.display.Markdown object>"
                        ]
                    },
                    "metadata": {},
                    "output_type": "display_data"
                },
                {
                    "data": {
                        "text/markdown": [
                            "$H_0$ отклоняется"
                        ],
                        "text/plain": [
                            "<IPython.core.display.Markdown object>"
                        ]
                    },
                    "metadata": {},
                    "output_type": "display_data"
                },
                {
                    "data": {
                        "text/markdown": [
                            "---"
                        ],
                        "text/plain": [
                            "<IPython.core.display.Markdown object>"
                        ]
                    },
                    "metadata": {},
                    "output_type": "display_data"
                },
                {
                    "data": {
                        "text/markdown": [
                            "### $\\tau_{XY}$"
                        ],
                        "text/plain": [
                            "<IPython.core.display.Markdown object>"
                        ]
                    },
                    "metadata": {},
                    "output_type": "display_data"
                },
                {
                    "data": {
                        "text/markdown": [
                            "$H_0$: $\\tau_{XY} = 0$, $H_1$: $\\tau_{XY} \\neq 0$"
                        ],
                        "text/plain": [
                            "<IPython.core.display.Markdown object>"
                        ]
                    },
                    "metadata": {},
                    "output_type": "display_data"
                },
                {
                    "data": {
                        "text/markdown": [
                            "$z_{выб} =$ 15.71, "
                        ],
                        "text/plain": [
                            "<IPython.core.display.Markdown object>"
                        ]
                    },
                    "metadata": {},
                    "output_type": "display_data"
                },
                {
                    "data": {
                        "text/markdown": [
                            "$p =$ 0.00"
                        ],
                        "text/plain": [
                            "<IPython.core.display.Markdown object>"
                        ]
                    },
                    "metadata": {},
                    "output_type": "display_data"
                },
                {
                    "data": {
                        "text/markdown": [
                            "$H_0$ отклоняется"
                        ],
                        "text/plain": [
                            "<IPython.core.display.Markdown object>"
                        ]
                    },
                    "metadata": {},
                    "output_type": "display_data"
                }
            ],
            "source": [
                "alpha = 0.1\n",
                "\n",
                "z_rho_XY = rho_XY * m.sqrt(n - 2) / m.sqrt(1 - rho_XY**2)\n",
                "p_rho_XY = stats.pearsonr(X, Y)[1]\n",
                "\n",
                "z_rho_sp_XY = rho_sp_XY * m.sqrt(n - 2) / m.sqrt(1 - rho_sp_XY**2)\n",
                "p_rho_sp_XY = stats.spearmanr(X, Y)[1]\n",
                "\n",
                "z_tau_XY = tau_XY * m.sqrt(9 * n * (n + 1)) / m.sqrt(2 * (2 * n + 5))\n",
                "p_tau_XY = stats.kendalltau(X, Y)[1]\n",
                "\n",
                "mprint(\n",
                "    r\"### Проверка значимости КК\",\n",
                "    r\"---\",\n",
                "    r\"### $\\rho_{XY}$\",\n",
                "    f\"$H_0$: $\\\\rho_{{XY}} = 0$, $H_1$: $\\\\rho_{{XY}} \\\\neq 0$\",\n",
                "    f\"$z_{{выб}} =$ {z_rho_XY:.2f}, \",\n",
                "    f\"$p =$ {p_rho_XY:.2f}\",\n",
                "    verdict(alpha, p_rho_XY),\n",
                "    r\"---\",\n",
                "    r\"### $\\rho_{XY}^{(sp)}$\",\n",
                "    f\"$H_0$: $\\\\rho_{{XY}}^{{(sp)}} = 0$, $H_1$: $\\\\rho_{{XY}}^{{(sp)}} \\\\neq 0$\",\n",
                "    f\"$z_{{выб}} =$ {z_rho_sp_XY:.2f}, \",\n",
                "    f\"$p =$ {p_rho_sp_XY:.2f}\",\n",
                "    verdict(alpha, p_rho_sp_XY),\n",
                "    r\"---\",\n",
                "    r\"### $\\tau_{XY}$\",\n",
                "    f\"$H_0$: $\\\\tau_{{XY}} = 0$, $H_1$: $\\\\tau_{{XY}} \\\\neq 0$\",\n",
                "    f\"$z_{{выб}} =$ {z_tau_XY:.2f}, \",\n",
                "    f\"$p =$ {p_tau_XY:.2f}\",\n",
                "    verdict(alpha, p_tau_XY),\n",
                ")"
            ]
        },
        {
            "cell_type": "markdown",
            "metadata": {},
            "source": [
                "| Статистическая гипотеза                                      | Уровень значимости | Выборочное значение статистики критерия | $p$-value | Статистическое решение | Вывод                     |\n",
                "| ------------------------------------------------------------ | ------------------ | --------------------------------------- | --------- | ---------------------- | ------------------------- |\n",
                "| $H_0:\\ \\rho_{XY} = 0 \\\\ H':\\ \\rho_{XY} \\neq 0$               | 0.01               | 28.45                                   | 0.00      | $H_0$ отклоняется      | $\\rho_{XY} \\neq 0$        |\n",
                "| $H_0:\\ \\rho_{XY}^{(sp)} = 0 \\\\ H':\\ \\rho_{XY}^{(sp)} \\neq 0$ | 0.01               | 25.00                                   | 0.00      | $H_0$ отклоняется      | $\\rho_{XY}^{(sp)} \\neq 0$ |\n",
                "| $H_0:\\ \\tau_{XY} = 0 \\\\ H':\\ \\tau_{XY} \\neq 0$               | 0.01               | 15.71                                   | 0.00      | $H_0$ отклоняется      | $\\tau_{XY} \\neq 0$        |\n"
            ]
        },
        {
            "cell_type": "markdown",
            "metadata": {},
            "source": [
                "<a id=\"82\"></a>"
            ]
        },
        {
            "cell_type": "markdown",
            "metadata": {},
            "source": [
                "## 8.2 Расчёт множественных коэффициентов корреляции"
            ]
        },
        {
            "cell_type": "markdown",
            "metadata": {},
            "source": [
                "### Условие"
            ]
        },
        {
            "cell_type": "markdown",
            "metadata": {},
            "source": [
                "Анализируемый признак 1 – `B7` (Weight (lbs))\n",
                "\n",
                "Анализируемый признак 2 – `B8` (Height (inches))\n",
                "\n",
                "Анализируемый признак 3 – `B9` (Neck circumference (cm))\n",
                "\n",
                "Объёмы выборок – $n = 252$"
            ]
        },
        {
            "cell_type": "markdown",
            "metadata": {},
            "source": [
                "### Определения"
            ]
        },
        {
            "cell_type": "code",
            "execution_count": 121,
            "metadata": {},
            "outputs": [
                {
                    "data": {
                        "text/html": [
                            "<div>\n",
                            "<style scoped>\n",
                            "    .dataframe tbody tr th:only-of-type {\n",
                            "        vertical-align: middle;\n",
                            "    }\n",
                            "\n",
                            "    .dataframe tbody tr th {\n",
                            "        vertical-align: top;\n",
                            "    }\n",
                            "\n",
                            "    .dataframe thead th {\n",
                            "        text-align: right;\n",
                            "    }\n",
                            "</style>\n",
                            "<table border=\"1\" class=\"dataframe\">\n",
                            "  <thead>\n",
                            "    <tr style=\"text-align: right;\">\n",
                            "      <th></th>\n",
                            "      <th>B7</th>\n",
                            "      <th>B8</th>\n",
                            "      <th>B9</th>\n",
                            "    </tr>\n",
                            "  </thead>\n",
                            "  <tbody>\n",
                            "    <tr>\n",
                            "      <th>0</th>\n",
                            "      <td>154.25</td>\n",
                            "      <td>67.75</td>\n",
                            "      <td>36.2</td>\n",
                            "    </tr>\n",
                            "    <tr>\n",
                            "      <th>1</th>\n",
                            "      <td>173.25</td>\n",
                            "      <td>72.25</td>\n",
                            "      <td>38.5</td>\n",
                            "    </tr>\n",
                            "    <tr>\n",
                            "      <th>2</th>\n",
                            "      <td>154.00</td>\n",
                            "      <td>66.25</td>\n",
                            "      <td>34.0</td>\n",
                            "    </tr>\n",
                            "    <tr>\n",
                            "      <th>3</th>\n",
                            "      <td>184.75</td>\n",
                            "      <td>72.25</td>\n",
                            "      <td>37.4</td>\n",
                            "    </tr>\n",
                            "    <tr>\n",
                            "      <th>4</th>\n",
                            "      <td>184.25</td>\n",
                            "      <td>71.25</td>\n",
                            "      <td>34.4</td>\n",
                            "    </tr>\n",
                            "  </tbody>\n",
                            "</table>\n",
                            "</div>"
                        ],
                        "text/plain": [
                            "       B7     B8    B9\n",
                            "0  154.25  67.75  36.2\n",
                            "1  173.25  72.25  38.5\n",
                            "2  154.00  66.25  34.0\n",
                            "3  184.75  72.25  37.4\n",
                            "4  184.25  71.25  34.4"
                        ]
                    },
                    "execution_count": 121,
                    "metadata": {},
                    "output_type": "execute_result"
                }
            ],
            "source": [
                "X = pd.concat(data(\"8.2\"), axis=1)\n",
                "X.head()"
            ]
        },
        {
            "cell_type": "code",
            "execution_count": 122,
            "metadata": {},
            "outputs": [
                {
                    "name": "stdout",
                    "output_type": "stream",
                    "text": [
                        "252\n"
                    ]
                }
            ],
            "source": [
                "print(n := len(X))"
            ]
        },
        {
            "cell_type": "code",
            "execution_count": 123,
            "metadata": {},
            "outputs": [
                {
                    "name": "stdout",
                    "output_type": "stream",
                    "text": [
                        "3\n"
                    ]
                }
            ],
            "source": [
                "print(k := X.shape[1])"
            ]
        },
        {
            "cell_type": "markdown",
            "metadata": {},
            "source": [
                "### Рассчитать матрицу ранговых коэффициентов корреляции по Кендаллу"
            ]
        },
        {
            "cell_type": "code",
            "execution_count": 124,
            "metadata": {},
            "outputs": [],
            "source": [
                "kendall_matrix = pd.DataFrame(\n",
                "    np.zeros((X.shape[1], X.shape[1])), index=X.columns, columns=X.columns\n",
                ")\n",
                "kendall_matrix.index.name = \"Признак\"\n",
                "kendall_matrix.columns.name = \"Признак\"\n",
                "\n",
                "p_value_matrix = pd.DataFrame(\n",
                "    np.zeros((X.shape[1], X.shape[1])), index=X.columns, columns=X.columns\n",
                ")\n",
                "p_value_matrix.index.name = \"Признак\"\n",
                "p_value_matrix.columns.name = \"Признак\"\n",
                "\n",
                "for i, col1 in enumerate(X.columns):\n",
                "    for j, col2 in enumerate(X.columns):\n",
                "        if i >= j:\n",
                "            tau, p_value = stats.kendalltau(X[col1], X[col2])\n",
                "            kendall_matrix.loc[col1, col2] = kendall_matrix.loc[col2, col1] = tau\n",
                "            p_value_matrix.loc[col1, col2] = p_value_matrix.loc[col2, col1] = p_value"
            ]
        },
        {
            "cell_type": "code",
            "execution_count": 125,
            "metadata": {},
            "outputs": [
                {
                    "data": {
                        "text/html": [
                            "<div>\n",
                            "<style scoped>\n",
                            "    .dataframe tbody tr th:only-of-type {\n",
                            "        vertical-align: middle;\n",
                            "    }\n",
                            "\n",
                            "    .dataframe tbody tr th {\n",
                            "        vertical-align: top;\n",
                            "    }\n",
                            "\n",
                            "    .dataframe thead th {\n",
                            "        text-align: right;\n",
                            "    }\n",
                            "</style>\n",
                            "<table border=\"1\" class=\"dataframe\">\n",
                            "  <thead>\n",
                            "    <tr style=\"text-align: right;\">\n",
                            "      <th>Признак</th>\n",
                            "      <th>B7</th>\n",
                            "      <th>B8</th>\n",
                            "      <th>B9</th>\n",
                            "    </tr>\n",
                            "    <tr>\n",
                            "      <th>Признак</th>\n",
                            "      <th></th>\n",
                            "      <th></th>\n",
                            "      <th></th>\n",
                            "    </tr>\n",
                            "  </thead>\n",
                            "  <tbody>\n",
                            "    <tr>\n",
                            "      <th>B7</th>\n",
                            "      <td>1.000000</td>\n",
                            "      <td>0.365796</td>\n",
                            "      <td>0.618035</td>\n",
                            "    </tr>\n",
                            "    <tr>\n",
                            "      <th>B8</th>\n",
                            "      <td>0.365796</td>\n",
                            "      <td>1.000000</td>\n",
                            "      <td>0.221413</td>\n",
                            "    </tr>\n",
                            "    <tr>\n",
                            "      <th>B9</th>\n",
                            "      <td>0.618035</td>\n",
                            "      <td>0.221413</td>\n",
                            "      <td>1.000000</td>\n",
                            "    </tr>\n",
                            "  </tbody>\n",
                            "</table>\n",
                            "</div>"
                        ],
                        "text/plain": [
                            "Признак        B7        B8        B9\n",
                            "Признак                              \n",
                            "B7       1.000000  0.365796  0.618035\n",
                            "B8       0.365796  1.000000  0.221413\n",
                            "B9       0.618035  0.221413  1.000000"
                        ]
                    },
                    "execution_count": 125,
                    "metadata": {},
                    "output_type": "execute_result"
                }
            ],
            "source": [
                "kendall_matrix"
            ]
        },
        {
            "cell_type": "code",
            "execution_count": 126,
            "metadata": {},
            "outputs": [
                {
                    "name": "stdout",
                    "output_type": "stream",
                    "text": [
                        "| Признак\\Признак | B7 | B8 | B9 |\n",
                        "|---|---|---|---|\n",
                        "| B7 | 1.0 | 0.37 | 0.62 |\n",
                        "| B8 | 0.37 | 1.0 | 0.22 |\n",
                        "| B9 | 0.62 | 0.22 | 1.0 |\n",
                        "\n"
                    ]
                }
            ],
            "source": [
                "print(dataframe_to_markdown(kendall_matrix))"
            ]
        },
        {
            "cell_type": "markdown",
            "metadata": {},
            "source": [
                "| Признак\\Признак | B7   | B8   | B9   |\n",
                "| --------------- | ---- | ---- | ---- |\n",
                "| B7              | 1.0  | 0.37 | 0.62 |\n",
                "| B8              | 0.37 | 1.0  | 0.22 |\n",
                "| B9              | 0.62 | 0.22 | 1.0  |"
            ]
        },
        {
            "cell_type": "markdown",
            "metadata": {},
            "source": [
                "### Рассчитать матрицу значений $p$-value для ранговых коэффициентов корреляции по Кендаллу"
            ]
        },
        {
            "cell_type": "markdown",
            "metadata": {},
            "source": [
                "Статистическая гипотеза: $H_0:\\ \\tau = 0; \\ \\ \\ H':\\ \\tau \\neq 0$"
            ]
        },
        {
            "cell_type": "code",
            "execution_count": 127,
            "metadata": {},
            "outputs": [
                {
                    "data": {
                        "text/html": [
                            "<div>\n",
                            "<style scoped>\n",
                            "    .dataframe tbody tr th:only-of-type {\n",
                            "        vertical-align: middle;\n",
                            "    }\n",
                            "\n",
                            "    .dataframe tbody tr th {\n",
                            "        vertical-align: top;\n",
                            "    }\n",
                            "\n",
                            "    .dataframe thead th {\n",
                            "        text-align: right;\n",
                            "    }\n",
                            "</style>\n",
                            "<table border=\"1\" class=\"dataframe\">\n",
                            "  <thead>\n",
                            "    <tr style=\"text-align: right;\">\n",
                            "      <th>Признак</th>\n",
                            "      <th>B7</th>\n",
                            "      <th>B8</th>\n",
                            "      <th>B9</th>\n",
                            "    </tr>\n",
                            "    <tr>\n",
                            "      <th>Признак</th>\n",
                            "      <th></th>\n",
                            "      <th></th>\n",
                            "      <th></th>\n",
                            "    </tr>\n",
                            "  </thead>\n",
                            "  <tbody>\n",
                            "    <tr>\n",
                            "      <th>B7</th>\n",
                            "      <td>3.806261e-123</td>\n",
                            "      <td>1.399359e-17</td>\n",
                            "      <td>1.135869e-47</td>\n",
                            "    </tr>\n",
                            "    <tr>\n",
                            "      <th>B8</th>\n",
                            "      <td>1.399359e-17</td>\n",
                            "      <td>9.544108e-118</td>\n",
                            "      <td>2.786061e-07</td>\n",
                            "    </tr>\n",
                            "    <tr>\n",
                            "      <th>B9</th>\n",
                            "      <td>1.135869e-47</td>\n",
                            "      <td>2.786061e-07</td>\n",
                            "      <td>1.851066e-120</td>\n",
                            "    </tr>\n",
                            "  </tbody>\n",
                            "</table>\n",
                            "</div>"
                        ],
                        "text/plain": [
                            "Признак             B7             B8             B9\n",
                            "Признак                                             \n",
                            "B7       3.806261e-123   1.399359e-17   1.135869e-47\n",
                            "B8        1.399359e-17  9.544108e-118   2.786061e-07\n",
                            "B9        1.135869e-47   2.786061e-07  1.851066e-120"
                        ]
                    },
                    "execution_count": 127,
                    "metadata": {},
                    "output_type": "execute_result"
                }
            ],
            "source": [
                "p_value_matrix"
            ]
        },
        {
            "cell_type": "code",
            "execution_count": 128,
            "metadata": {},
            "outputs": [
                {
                    "name": "stdout",
                    "output_type": "stream",
                    "text": [
                        "| Признак\\Признак | B7 | B8 | B9 |\n",
                        "|---|---|---|---|\n",
                        "| B7 | 0.0 | 0.0 | 0.0 |\n",
                        "| B8 | 0.0 | 0.0 | 0.0 |\n",
                        "| B9 | 0.0 | 0.0 | 0.0 |\n",
                        "\n"
                    ]
                }
            ],
            "source": [
                "print(dataframe_to_markdown(p_value_matrix))"
            ]
        },
        {
            "cell_type": "markdown",
            "metadata": {},
            "source": [
                "| Признак\\Признак | B7  | B8  | B9  |\n",
                "| --------------- | --- | --- | --- |\n",
                "| B7              | -   | 0.0 | 0.0 |\n",
                "| B8              | 0.0 | -   | 0.0 |\n",
                "| B9              | 0.0 | 0.0 | -   |"
            ]
        },
        {
            "cell_type": "markdown",
            "metadata": {},
            "source": [
                "### Рассчитать точечную оценку коэффициента конкордации"
            ]
        },
        {
            "cell_type": "markdown",
            "metadata": {},
            "source": [
                "Как это делать во время семестра нам не пояснили, поэтому я подсмотрел всё [здесь](http://www.machinelearning.ru/wiki/index.php?title=Конкордация_Кенделла)."
            ]
        },
        {
            "cell_type": "markdown",
            "metadata": {},
            "source": [
                "$k = 3$ - число выборок.\n",
                "\n",
                "$n = 252$ - объём каждой выборки.\n",
                "\n",
                "$\\tilde{W} = \\dfrac{12}{k^2(n^3 - n)}\\sum\\limits_{i=1}^{n}\\left(\\sum\\limits_{j=1}^{k}r_{ij} - \\dfrac{k(n+1)}{2}\\right)^2$, где $r_{ij}$ - ранг $i$-го объекта в $j$-й выборке."
            ]
        },
        {
            "cell_type": "code",
            "execution_count": 129,
            "metadata": {},
            "outputs": [
                {
                    "data": {
                        "text/html": [
                            "<div>\n",
                            "<style scoped>\n",
                            "    .dataframe tbody tr th:only-of-type {\n",
                            "        vertical-align: middle;\n",
                            "    }\n",
                            "\n",
                            "    .dataframe tbody tr th {\n",
                            "        vertical-align: top;\n",
                            "    }\n",
                            "\n",
                            "    .dataframe thead th {\n",
                            "        text-align: right;\n",
                            "    }\n",
                            "</style>\n",
                            "<table border=\"1\" class=\"dataframe\">\n",
                            "  <thead>\n",
                            "    <tr style=\"text-align: right;\">\n",
                            "      <th>Выборка</th>\n",
                            "      <th>B7</th>\n",
                            "      <th>B8</th>\n",
                            "      <th>B9</th>\n",
                            "    </tr>\n",
                            "    <tr>\n",
                            "      <th>№ объекта</th>\n",
                            "      <th></th>\n",
                            "      <th></th>\n",
                            "      <th></th>\n",
                            "    </tr>\n",
                            "  </thead>\n",
                            "  <tbody>\n",
                            "    <tr>\n",
                            "      <th>0</th>\n",
                            "      <td>47.0</td>\n",
                            "      <td>48.5</td>\n",
                            "      <td>56.0</td>\n",
                            "    </tr>\n",
                            "    <tr>\n",
                            "      <th>1</th>\n",
                            "      <td>118.5</td>\n",
                            "      <td>191.5</td>\n",
                            "      <td>156.5</td>\n",
                            "    </tr>\n",
                            "    <tr>\n",
                            "      <th>2</th>\n",
                            "      <td>46.0</td>\n",
                            "      <td>16.0</td>\n",
                            "      <td>10.0</td>\n",
                            "    </tr>\n",
                            "    <tr>\n",
                            "      <th>3</th>\n",
                            "      <td>159.0</td>\n",
                            "      <td>191.5</td>\n",
                            "      <td>98.5</td>\n",
                            "    </tr>\n",
                            "    <tr>\n",
                            "      <th>4</th>\n",
                            "      <td>157.0</td>\n",
                            "      <td>155.0</td>\n",
                            "      <td>16.0</td>\n",
                            "    </tr>\n",
                            "    <tr>\n",
                            "      <th>...</th>\n",
                            "      <td>...</td>\n",
                            "      <td>...</td>\n",
                            "      <td>...</td>\n",
                            "    </tr>\n",
                            "    <tr>\n",
                            "      <th>247</th>\n",
                            "      <td>11.0</td>\n",
                            "      <td>25.0</td>\n",
                            "      <td>22.5</td>\n",
                            "    </tr>\n",
                            "    <tr>\n",
                            "      <th>248</th>\n",
                            "      <td>201.0</td>\n",
                            "      <td>113.0</td>\n",
                            "      <td>225.5</td>\n",
                            "    </tr>\n",
                            "    <tr>\n",
                            "      <th>249</th>\n",
                            "      <td>164.0</td>\n",
                            "      <td>14.5</td>\n",
                            "      <td>174.5</td>\n",
                            "    </tr>\n",
                            "    <tr>\n",
                            "      <th>250</th>\n",
                            "      <td>173.0</td>\n",
                            "      <td>137.0</td>\n",
                            "      <td>174.5</td>\n",
                            "    </tr>\n",
                            "    <tr>\n",
                            "      <th>251</th>\n",
                            "      <td>214.0</td>\n",
                            "      <td>122.5</td>\n",
                            "      <td>220.5</td>\n",
                            "    </tr>\n",
                            "  </tbody>\n",
                            "</table>\n",
                            "<p>252 rows × 3 columns</p>\n",
                            "</div>"
                        ],
                        "text/plain": [
                            "Выборка       B7     B8     B9\n",
                            "№ объекта                     \n",
                            "0           47.0   48.5   56.0\n",
                            "1          118.5  191.5  156.5\n",
                            "2           46.0   16.0   10.0\n",
                            "3          159.0  191.5   98.5\n",
                            "4          157.0  155.0   16.0\n",
                            "...          ...    ...    ...\n",
                            "247         11.0   25.0   22.5\n",
                            "248        201.0  113.0  225.5\n",
                            "249        164.0   14.5  174.5\n",
                            "250        173.0  137.0  174.5\n",
                            "251        214.0  122.5  220.5\n",
                            "\n",
                            "[252 rows x 3 columns]"
                        ]
                    },
                    "execution_count": 129,
                    "metadata": {},
                    "output_type": "execute_result"
                }
            ],
            "source": [
                "ranks = X.rank()\n",
                "ranks.columns.name = \"Выборка\"\n",
                "ranks.index.name = \"№ объекта\"\n",
                "ranks"
            ]
        },
        {
            "cell_type": "code",
            "execution_count": 130,
            "metadata": {},
            "outputs": [
                {
                    "name": "stdout",
                    "output_type": "stream",
                    "text": [
                        "W = 0.70\n"
                    ]
                }
            ],
            "source": [
                "W = 12 / (k**2 * (n**3 - n)) * sum((ranks.sum(axis=1) - k * (n + 1) / 2) ** 2)\n",
                "\n",
                "print(f\"{W = :.2f}\")"
            ]
        },
        {
            "cell_type": "markdown",
            "metadata": {},
            "source": [
                "|                         | Формула расчёта                                                                                                                                                                                                                     | Значение |\n",
                "| ----------------------- | ----------------------------------------------------------------------------------------------------------------------------------------------------------------------------------------------------------------------------------- | -------- |\n",
                "| Коэффициент конкордации | $\\tilde{W} = \\dfrac{12}{k^2(n^3 - n)}\\sum\\limits_{i=1}^{n}\\left(\\sum\\limits_{j=1}^{k}r_{ij} - \\dfrac{k(n+1)}{2}\\right)^2$, где $\\\\r_{ij}$ - ранг $i$-го объекта в $j$-й выборке. $\\\\k$ - количество выборок. $\\\\n$ - объём выборок. | 0.70     |\n"
            ]
        },
        {
            "cell_type": "markdown",
            "metadata": {},
            "source": [
                "### Указать формулы расчёта показателей, используемых при проверке значимости коэффициента конкордации"
            ]
        },
        {
            "cell_type": "markdown",
            "metadata": {},
            "source": [
                "Статистическая гипотеза: $H_0:\\ W = 0; \\quad H':\\ W \\neq 0$."
            ]
        },
        {
            "cell_type": "markdown",
            "metadata": {},
            "source": [
                "|                                                                                  | Выражение                        | Пояснение использованных обозначений                                                                       |\n",
                "| -------------------------------------------------------------------------------- | -------------------------------- | ---------------------------------------------------------------------------------------------------------- |\n",
                "| Формула расчёта статистики критерия                                              | $Z = n(k-1)\\tilde{W}$            | $\\tilde W$ - точечная оценка коэффициента конкордации. $\\\\n$ - объём выборок. $\\\\k$ - количество выборок |\n",
                "| Закон распределения статистики критерия при условии истинности основной гипотезы | $\\chi^2(n-1)$                    |                                                                                                            |\n",
                "| Формула расчёта критической точки                                                | $\\chi^2_{1 - \\alpha, n-1}$       | Правосторонняя критическая область                                                                         |\n",
                "| Формула расчёта $p$-value                                                        | $1 - F_Z(z_{\\text{выб}} \\mid H_0)$ |                                                                                                            |\n"
            ]
        },
        {
            "cell_type": "markdown",
            "metadata": {},
            "source": [
                "### Проверить значимость коэффициента конкордации"
            ]
        },
        {
            "cell_type": "code",
            "execution_count": 131,
            "metadata": {},
            "outputs": [
                {
                    "data": {
                        "text/markdown": [
                            "### Проверка значимости $W$"
                        ],
                        "text/plain": [
                            "<IPython.core.display.Markdown object>"
                        ]
                    },
                    "metadata": {},
                    "output_type": "display_data"
                },
                {
                    "data": {
                        "text/markdown": [
                            "$H_0$: $W = 0$, $H_1$: $W \\neq 0$"
                        ],
                        "text/plain": [
                            "<IPython.core.display.Markdown object>"
                        ]
                    },
                    "metadata": {},
                    "output_type": "display_data"
                },
                {
                    "data": {
                        "text/markdown": [
                            "$z_{выб} =$ 351.65"
                        ],
                        "text/plain": [
                            "<IPython.core.display.Markdown object>"
                        ]
                    },
                    "metadata": {},
                    "output_type": "display_data"
                },
                {
                    "data": {
                        "text/markdown": [
                            "$p =$ 0.00"
                        ],
                        "text/plain": [
                            "<IPython.core.display.Markdown object>"
                        ]
                    },
                    "metadata": {},
                    "output_type": "display_data"
                },
                {
                    "data": {
                        "text/markdown": [
                            "При $\\alpha = 0.01$ $H_0$ отклоняется"
                        ],
                        "text/plain": [
                            "<IPython.core.display.Markdown object>"
                        ]
                    },
                    "metadata": {},
                    "output_type": "display_data"
                },
                {
                    "data": {
                        "text/markdown": [
                            "При $\\alpha = 0.05$ $H_0$ отклоняется"
                        ],
                        "text/plain": [
                            "<IPython.core.display.Markdown object>"
                        ]
                    },
                    "metadata": {},
                    "output_type": "display_data"
                },
                {
                    "data": {
                        "text/markdown": [
                            "При $\\alpha = 0.1$ $H_0$ отклоняется"
                        ],
                        "text/plain": [
                            "<IPython.core.display.Markdown object>"
                        ]
                    },
                    "metadata": {},
                    "output_type": "display_data"
                }
            ],
            "source": [
                "alphas = [0.01, 0.05, 0.1]\n",
                "\n",
                "z = n * (k - 1) * W\n",
                "p_value = stats.chi2.sf(z, df=n - 1)\n",
                "\n",
                "mprint(\n",
                "    r\"### Проверка значимости $W$\",\n",
                "    f\"$H_0$: $W = 0$, $H_1$: $W \\\\neq 0$\",\n",
                "    f\"$z_{{выб}} =$ {z:.2f}\",\n",
                "    f\"$p =$ {p_value:.2f}\",\n",
                ")\n",
                "\n",
                "for alpha in alphas:\n",
                "    mprint(f\"При $\\\\alpha = {alpha}$ {verdict(alpha, p_value)}\")"
            ]
        },
        {
            "cell_type": "markdown",
            "metadata": {},
            "source": [
                "| Уровень значимости | Выборочное значение статистического критерия | $p$-value | Статистическое решение | Вывод      |\n",
                "| ------------------ | -------------------------------------------- | --------- | ---------------------- | ---------- |\n",
                "| 0.01               | 351.65                                       | 0.00      | $H_0$ отклоняется      | $W \\neq 0$ |\n",
                "| 0.05               | 351.65                                       | 0.00      | $H_0$ отклоняется      | $W \\neq 0$ |\n",
                "| 0.1                | 351.65                                       | 0.00      | $H_0$ отклоняется      | $W \\neq 0$ |"
            ]
        },
        {
            "cell_type": "markdown",
            "metadata": {},
            "source": [
                "## Вывод (в терминах предметной области)"
            ]
        },
        {
            "cell_type": "markdown",
            "metadata": {},
            "source": [
                "В результате проведённого в п.8 статистического анализа обнаружено, что между признаками `B11` и `B12` существует сильная положительная, в первую очередь линейная, связь. Между признаками `B7`, `B8` и `B9` также наблюдается положительная монотонная корреляционная связь. `B7` и `B9` имеют наиболее сильную положительную монотонную связь, а `B8` с остальными имеет более слабую связь."
            ]
        },
        {
            "cell_type": "markdown",
            "metadata": {},
            "source": [
                "<a id=\"9\"></a>"
            ]
        },
        {
            "cell_type": "markdown",
            "metadata": {},
            "source": [
                "# Раздел 9. Регрессионный анализ"
            ]
        },
        {
            "cell_type": "markdown",
            "metadata": {},
            "source": [
                "<a id=\"91\"></a>"
            ]
        },
        {
            "cell_type": "markdown",
            "metadata": {},
            "source": [
                "## 9.1 Простейшая линейная регрессионная модель"
            ]
        },
        {
            "cell_type": "markdown",
            "metadata": {},
            "source": [
                "### Условие"
            ]
        },
        {
            "cell_type": "markdown",
            "metadata": {},
            "source": [
                "Факторный признак $x$ - `B1` (Body density determined from underwater weighing)\n",
                "\n",
                "Результативный признак $y$ - `B2` (Percent body fat from Siri's equation)\n",
                "\n",
                "Уравнение регрессии - $f(x) = \\beta_0 + \\beta_1x$"
            ]
        },
        {
            "cell_type": "markdown",
            "metadata": {},
            "source": [
                "### Определения"
            ]
        },
        {
            "cell_type": "code",
            "execution_count": 132,
            "metadata": {},
            "outputs": [
                {
                    "data": {
                        "text/plain": [
                            "(0    1.0708\n",
                            " 1    1.0853\n",
                            " 2    1.0414\n",
                            " 3    1.0751\n",
                            " 4    1.0340\n",
                            " Name: B1, dtype: float64,\n",
                            " 0    12.3\n",
                            " 1     6.1\n",
                            " 2    25.3\n",
                            " 3    10.4\n",
                            " 4    28.7\n",
                            " Name: B2, dtype: float64)"
                        ]
                    },
                    "execution_count": 132,
                    "metadata": {},
                    "output_type": "execute_result"
                }
            ],
            "source": [
                "X, Y = data(\"9.1\")\n",
                "X.head(), Y.head()"
            ]
        },
        {
            "cell_type": "code",
            "execution_count": 133,
            "metadata": {},
            "outputs": [
                {
                    "name": "stdout",
                    "output_type": "stream",
                    "text": [
                        "252 252\n"
                    ]
                }
            ],
            "source": [
                "print(n1 := len(X), n2 := len(Y))\n",
                "\n",
                "if n1 == n2:\n",
                "    n = n1"
            ]
        },
        {
            "cell_type": "code",
            "execution_count": 134,
            "metadata": {},
            "outputs": [],
            "source": [
                "k = 2"
            ]
        },
        {
            "cell_type": "markdown",
            "metadata": {},
            "source": [
                "### 9.1.1. Точечные оценки линейной регрессионной модели"
            ]
        },
        {
            "cell_type": "markdown",
            "metadata": {},
            "source": [
                "#### Рассчитать точечные оценки параметров линейной регрессионной модели"
            ]
        },
        {
            "cell_type": "code",
            "execution_count": 135,
            "metadata": {},
            "outputs": [
                {
                    "data": {
                        "text/markdown": [
                            "$\\tilde{\\beta_0} =$ 477.65"
                        ],
                        "text/plain": [
                            "<IPython.core.display.Markdown object>"
                        ]
                    },
                    "metadata": {},
                    "output_type": "display_data"
                },
                {
                    "data": {
                        "text/markdown": [
                            "$\\tilde{\\beta_1} =$ -434.36"
                        ],
                        "text/plain": [
                            "<IPython.core.display.Markdown object>"
                        ]
                    },
                    "metadata": {},
                    "output_type": "display_data"
                }
            ],
            "source": [
                "result = stats.linregress(X, Y)\n",
                "slope, intercept, r_value, p_value, slope_std_err, intercept_std_err = (\n",
                "    result.slope,\n",
                "    result.intercept,\n",
                "    result.rvalue,\n",
                "    result.pvalue,\n",
                "    result.stderr,\n",
                "    result.intercept_stderr,\n",
                ")\n",
                "\n",
                "mprint(\n",
                "    f\"$\\\\tilde{{\\\\beta_0}} =$ {intercept:.2f}\",\n",
                "    f\"$\\\\tilde{{\\\\beta_1}} =$ {slope:.2f}\",\n",
                ")"
            ]
        },
        {
            "cell_type": "markdown",
            "metadata": {},
            "source": [
                "| Параметр  | Формула расчета                                                                                      | Значение |\n",
                "| --------- | ---------------------------------------------------------------------------------------------------- | -------- |\n",
                "| $\\beta_0$ | $\\overline y - \\tilde{\\rho}_{XY} \\cdot \\dfrac{\\tilde{\\sigma}_Y}{\\tilde{\\sigma}_X} \\cdot \\overline x$ | 477.65   |\n",
                "| $\\beta_1$ | $\\tilde{\\rho}_{XY} \\cdot \\dfrac{\\tilde{\\sigma}_Y}{\\tilde{\\sigma}_X}$                                 | -434.36  |\n"
            ]
        },
        {
            "cell_type": "markdown",
            "metadata": {},
            "source": [
                "#### Записать точечную оценку уравнения регрессии"
            ]
        },
        {
            "cell_type": "markdown",
            "metadata": {},
            "source": [
                "$\\tilde{f}(x) = \\tilde{\\beta_0} + \\tilde{\\beta_1}x = 477.65 - 434.36x$"
            ]
        },
        {
            "cell_type": "code",
            "execution_count": 136,
            "metadata": {},
            "outputs": [],
            "source": [
                "def f(x):\n",
                "    return intercept + slope * x"
            ]
        },
        {
            "cell_type": "markdown",
            "metadata": {},
            "source": [
                "#### Привести формулы расчёта показателей вариации, используемых в регрессионном анализе"
            ]
        },
        {
            "cell_type": "markdown",
            "metadata": {},
            "source": [
                "| Источник вариации   | Показатель вариации                                                                 | Число степеней свободы | Несмещённая оценка                          |\n",
                "| ------------------- | ----------------------------------------------------------------------------------- | ---------------------- | ------------------------------------------- |\n",
                "| Регрессия           | $\\tilde{D}_{Y \\mid X} = \\dfrac{1}{n}\\sum\\limits_{i=1}^{n}(\\tilde f(x_i) - \\overline y)^2$  | $k - 1$                | $\\dfrac{n}{k - 1}\\tilde{D}_{Y \\mid X}$      |\n",
                "| Остаточные признаки | $\\tilde{D}_{Y\\text{ ост}} = \\dfrac{1}{n}\\sum\\limits_{i=1}^{n}(\\tilde f(x_i) - y_i)^2$      | $n - k$                | $\\dfrac{n}{n - k}\\tilde{D}_{Y\\text{ ост}}$  |\n",
                "| Все признаки        | $\\tilde{D}_{Y \\text{ общ}} = \\dfrac{1}{n}\\sum\\limits_{i=1}^{n}(y_i-\\overline{y})^2$ | $n - 1 $               | $\\dfrac{n}{n - 1}\\tilde{D}_{Y \\text{ общ}}$ |\n",
                "\n",
                "$k$ - число оцениваемых параметров функции регрессии $f(x)$."
            ]
        },
        {
            "cell_type": "markdown",
            "metadata": {},
            "source": [
                "#### Рассчитать показатели вариации, используемые в регрессионном анализе"
            ]
        },
        {
            "cell_type": "code",
            "execution_count": 137,
            "metadata": {},
            "outputs": [
                {
                    "data": {
                        "text/markdown": [
                            "$\\tilde{D}_{Y \\mid X} =$ 68.06"
                        ],
                        "text/plain": [
                            "<IPython.core.display.Markdown object>"
                        ]
                    },
                    "metadata": {},
                    "output_type": "display_data"
                },
                {
                    "data": {
                        "text/markdown": [
                            "$\\tilde{D}_{Y ост} =$ 1.69"
                        ],
                        "text/plain": [
                            "<IPython.core.display.Markdown object>"
                        ]
                    },
                    "metadata": {},
                    "output_type": "display_data"
                },
                {
                    "data": {
                        "text/markdown": [
                            "$\\tilde{D}_{Y общ} =$ 69.76"
                        ],
                        "text/plain": [
                            "<IPython.core.display.Markdown object>"
                        ]
                    },
                    "metadata": {},
                    "output_type": "display_data"
                },
                {
                    "data": {
                        "text/markdown": [
                            "$\\tilde{D}_{Y \\mid X, несмещ} =$ 17152.07"
                        ],
                        "text/plain": [
                            "<IPython.core.display.Markdown object>"
                        ]
                    },
                    "metadata": {},
                    "output_type": "display_data"
                },
                {
                    "data": {
                        "text/markdown": [
                            "$\\tilde{D}_{Y ост, несмещ} =$ 1.71"
                        ],
                        "text/plain": [
                            "<IPython.core.display.Markdown object>"
                        ]
                    },
                    "metadata": {},
                    "output_type": "display_data"
                },
                {
                    "data": {
                        "text/markdown": [
                            "$\\tilde{D}_{Y общ, несмещ} =$ 70.04"
                        ],
                        "text/plain": [
                            "<IPython.core.display.Markdown object>"
                        ]
                    },
                    "metadata": {},
                    "output_type": "display_data"
                }
            ],
            "source": [
                "D_YX = sum((f(X) - Y.mean()) ** 2) / n\n",
                "D_resY = sum((f(X) - Y) ** 2) / n\n",
                "D_Y = Y.var(ddof=0)\n",
                "\n",
                "D_YX_unbiased = D_YX * n / (k - 1)\n",
                "D_resY_unbiased = D_resY * n / (n - k)\n",
                "D_Y_unbiased = D_Y * n / (n - 1)\n",
                "\n",
                "mprint(\n",
                "    f\"$\\\\tilde{{D}}_{{Y \\\\mid X}} =$ {D_YX:.2f}\",\n",
                "    f\"$\\\\tilde{{D}}_{{Y ост}} =$ {D_resY:.2f}\",\n",
                "    f\"$\\\\tilde{{D}}_{{Y общ}} =$ {D_Y:.2f}\",\n",
                "    f\"$\\\\tilde{{D}}_{{Y \\\\mid X, несмещ}} =$ {D_YX_unbiased:.2f}\",\n",
                "    f\"$\\\\tilde{{D}}_{{Y ост, несмещ}} =$ {D_resY_unbiased:.2f}\",\n",
                "    f\"$\\\\tilde{{D}}_{{Y общ, несмещ}} =$ {D_Y_unbiased:.2f}\",\n",
                ")"
            ]
        },
        {
            "cell_type": "markdown",
            "metadata": {},
            "source": [
                "| Источник вариации   | Показатель вариации                 | Число степеней свободы | Несмещённая оценка                                  |\n",
                "| ------------------- | ----------------------------------- | ---------------------- | --------------------------------------------------- |\n",
                "| Регрессия           | $\\tilde{D}_{Y \\mid X} = 68.06$      | $k - 1 = 1$            | $\\dfrac{n}{k - 1}\\tilde{D}_{Y \\mid X} = 17152.07$   |\n",
                "| Остаточные признаки | $\\tilde{D}_{Y\\text{ ост}} = 1.69$   | $n - k = 250$          | $\\dfrac{n}{n - k}\\tilde{D}_{Y\\text{ ост}} = 1.71$   |\n",
                "| Все признаки        | $\\tilde{D}_{Y \\text{ общ}} = 69.76$ | $n - 1 = 251$          | $\\dfrac{n}{n - 1}\\tilde{D}_{Y \\text{ общ}} = 70.04$ |\n"
            ]
        },
        {
            "cell_type": "markdown",
            "metadata": {},
            "source": [
                "#### Проверить правило сложения дисперсий"
            ]
        },
        {
            "cell_type": "code",
            "execution_count": 138,
            "metadata": {},
            "outputs": [
                {
                    "data": {
                        "text/markdown": [
                            "$\\tilde{D}_{Y \\mid X} =$ 68.06"
                        ],
                        "text/plain": [
                            "<IPython.core.display.Markdown object>"
                        ]
                    },
                    "metadata": {},
                    "output_type": "display_data"
                },
                {
                    "data": {
                        "text/markdown": [
                            "$\\tilde{D}_{Y ост} =$ 1.69"
                        ],
                        "text/plain": [
                            "<IPython.core.display.Markdown object>"
                        ]
                    },
                    "metadata": {},
                    "output_type": "display_data"
                },
                {
                    "data": {
                        "text/markdown": [
                            "$\\tilde{D}_{Y общ} =$ 69.76"
                        ],
                        "text/plain": [
                            "<IPython.core.display.Markdown object>"
                        ]
                    },
                    "metadata": {},
                    "output_type": "display_data"
                },
                {
                    "data": {
                        "text/markdown": [
                            "$\\tilde{D}_{Y \\mid X} + \\tilde{D}_{Y ост} =$ 69.76"
                        ],
                        "text/plain": [
                            "<IPython.core.display.Markdown object>"
                        ]
                    },
                    "metadata": {},
                    "output_type": "display_data"
                },
                {
                    "name": "stdout",
                    "output_type": "stream",
                    "text": [
                        "True\n"
                    ]
                }
            ],
            "source": [
                "mprint(\n",
                "    f\"$\\\\tilde{{D}}_{{Y \\\\mid X}} =$ {D_YX:.2f}\",\n",
                "    f\"$\\\\tilde{{D}}_{{Y ост}} =$ {D_resY:.2f}\",\n",
                "    f\"$\\\\tilde{{D}}_{{Y общ}} =$ {D_Y:.2f}\",\n",
                "    f\"$\\\\tilde{{D}}_{{Y \\\\mid X}} + \\\\tilde{{D}}_{{Y ост}} =$ {D_YX + D_resY:.2f}\",\n",
                ")\n",
                "print(D_YX + D_resY - D_Y < 1e-10)"
            ]
        },
        {
            "cell_type": "markdown",
            "metadata": {},
            "source": [
                "| Показатель | $\\tilde{D}_{Y \\mid X}$ | $\\tilde{D}_{Y\\text{ ост}}$ | $\\tilde{D}_{Y \\text{ общ}}$ | $\\tilde{D}_{Y \\mid X} + \\tilde{D}_{Y\\text{ ост}}$ |\n",
                "| ---------- | ---------------------- | -------------------------- | --------------------------- | ------------------------------------------------- |\n",
                "| Значение   | 68.06                  | 1.69                       | 69.76                       | 69.76                                             |\n"
            ]
        },
        {
            "cell_type": "markdown",
            "metadata": {},
            "source": [
                "#### Рассчитать показатели тесноты связи между факторным и результативным признаками"
            ]
        },
        {
            "cell_type": "code",
            "execution_count": 139,
            "metadata": {},
            "outputs": [
                {
                    "data": {
                        "text/markdown": [
                            "$\\tilde{R^2} = 0.98$"
                        ],
                        "text/plain": [
                            "<IPython.core.display.Markdown object>"
                        ]
                    },
                    "metadata": {},
                    "output_type": "display_data"
                },
                {
                    "data": {
                        "text/markdown": [
                            "$\\tilde{R} = -0.99$"
                        ],
                        "text/plain": [
                            "<IPython.core.display.Markdown object>"
                        ]
                    },
                    "metadata": {},
                    "output_type": "display_data"
                }
            ],
            "source": [
                "mprint(\n",
                "    f\"$\\\\tilde{{R^2}} = {r_value ** 2:.2f}$\",\n",
                "    f\"$\\\\tilde{{R}} = {r_value:.2f}$\",\n",
                ")"
            ]
        },
        {
            "cell_type": "markdown",
            "metadata": {},
            "source": [
                "| Показатель               | Формула расчета                                                                                  | Значение |\n",
                "| ------------------------ | ------------------------------------------------------------------------------------------------ | -------- |\n",
                "| Коэффициент детерминации | $\\tilde{R^2} = \\dfrac{\\tilde{D}_{Y \\mid X}}{\\tilde{D}_{Y \\text{ общ}}}$                          | 0.98     |\n",
                "| Корреляционное отношение | $\\tilde R = \\sqrt{\\tilde{R^2}} = \\sqrt{\\dfrac{\\tilde{D}_{Y \\mid X}}{\\tilde{D}_{Y \\text{ общ}}}}$ | 0.99     |\n"
            ]
        },
        {
            "cell_type": "markdown",
            "metadata": {},
            "source": [
                "#### Охарактеризовать тип связи между факторным и результативным признаками, определяемой рассчитанной линейной регрессией."
            ]
        },
        {
            "cell_type": "markdown",
            "metadata": {},
            "source": [
                "Наблюдается очень сильная (почти функциональная) корреляционная связь между факторным признаком `B1` и результативным признаком `B2`."
            ]
        },
        {
            "cell_type": "markdown",
            "metadata": {},
            "source": [
                "### 9.1.2. Интервальные оценки линейной регрессионной модели"
            ]
        },
        {
            "cell_type": "markdown",
            "metadata": {},
            "source": [
                "#### Привести формулы расчёта доверительных интервалов для параметров линейной регрессионной модели"
            ]
        },
        {
            "cell_type": "markdown",
            "metadata": {},
            "source": [
                "| Параметр  | Границы доверительного интервала | Формула расчета                                                                                                                                             |\n",
                "| --------- | -------------------------------- | ----------------------------------------------------------------------------------------------------------------------------------------------------------- |\n",
                "| $\\beta_0$ | Нижняя граница                   | $\\tilde{\\beta}_0 - t_{1 - \\frac{\\alpha}{2},\\ (n-2)} \\cdot \\sqrt{\\tilde{D}_{Y ост}^{несмещ}} \\cdot \\sqrt{\\dfrac{\\sum\\limits_{i=1}^n x_i^2}{n^2\\tilde{D}_X}}$ |\n",
                "| $\\beta_0$ | Верхняя граница                  | $\\tilde{\\beta}_0 + t_{1 - \\frac{\\alpha}{2},\\ (n-2)} \\cdot \\sqrt{\\tilde{D}_{Y ост}^{несмещ}} \\cdot \\sqrt{\\dfrac{\\sum\\limits_{i=1}^n x_i^2}{n^2\\tilde{D}_X}}$ |\n",
                "| $\\beta_1$ | Нижняя граница                   | $\\tilde{\\beta}_1 - t_{1 - \\frac{\\alpha}{2},\\ (n-2)} \\cdot \\sqrt{\\tilde{D}_{Y ост}^{несмещ}} \\cdot \\sqrt{\\dfrac{1}{n\\tilde{D}_X}}$                           |\n",
                "| $\\beta_1$ | Верхняя граница                  | $\\tilde{\\beta}_1 + t_{1 - \\frac{\\alpha}{2},\\ (n-2)} \\cdot \\sqrt{\\tilde{D}_{Y ост}^{несмещ}} \\cdot \\sqrt{\\dfrac{1}{n\\tilde{D}_X}}$                           |\n"
            ]
        },
        {
            "cell_type": "markdown",
            "metadata": {},
            "source": [
                "#### Рассчитать доверительные интервалы для параметров линейной регрессионной модели"
            ]
        },
        {
            "cell_type": "code",
            "execution_count": 140,
            "metadata": {},
            "outputs": [
                {
                    "data": {
                        "text/html": [
                            "<div>\n",
                            "<style scoped>\n",
                            "    .dataframe tbody tr th:only-of-type {\n",
                            "        vertical-align: middle;\n",
                            "    }\n",
                            "\n",
                            "    .dataframe tbody tr th {\n",
                            "        vertical-align: top;\n",
                            "    }\n",
                            "\n",
                            "    .dataframe thead th {\n",
                            "        text-align: right;\n",
                            "    }\n",
                            "</style>\n",
                            "<table border=\"1\" class=\"dataframe\">\n",
                            "  <thead>\n",
                            "    <tr style=\"text-align: right;\">\n",
                            "      <th></th>\n",
                            "      <th>Границы доверительного интервала</th>\n",
                            "      <th>$\\alpha =$ 0.01</th>\n",
                            "      <th>$\\alpha =$ 0.05</th>\n",
                            "      <th>$\\alpha =$ 0.1</th>\n",
                            "    </tr>\n",
                            "    <tr>\n",
                            "      <th>Параметр</th>\n",
                            "      <th></th>\n",
                            "      <th></th>\n",
                            "      <th></th>\n",
                            "      <th></th>\n",
                            "    </tr>\n",
                            "  </thead>\n",
                            "  <tbody>\n",
                            "    <tr>\n",
                            "      <th>$\\beta_0$</th>\n",
                            "      <td>Нижняя граница</td>\n",
                            "      <td>465.773091</td>\n",
                            "      <td>468.638099</td>\n",
                            "      <td>470.095573</td>\n",
                            "    </tr>\n",
                            "    <tr>\n",
                            "      <th>$\\beta_0$</th>\n",
                            "      <td>Верхняя граница</td>\n",
                            "      <td>489.526660</td>\n",
                            "      <td>486.661653</td>\n",
                            "      <td>485.204179</td>\n",
                            "    </tr>\n",
                            "    <tr>\n",
                            "      <th>$\\beta1$</th>\n",
                            "      <td>Нижняя граница</td>\n",
                            "      <td>-445.609715</td>\n",
                            "      <td>-442.895984</td>\n",
                            "      <td>-441.515466</td>\n",
                            "    </tr>\n",
                            "    <tr>\n",
                            "      <th>$\\beta1$</th>\n",
                            "      <td>Верхняя граница</td>\n",
                            "      <td>-423.110365</td>\n",
                            "      <td>-425.824096</td>\n",
                            "      <td>-427.204614</td>\n",
                            "    </tr>\n",
                            "  </tbody>\n",
                            "</table>\n",
                            "</div>"
                        ],
                        "text/plain": [
                            "          Границы доверительного интервала  $\\alpha =$ 0.01  $\\alpha =$ 0.05  \\\n",
                            "Параметр                                                                       \n",
                            "$\\beta_0$                   Нижняя граница       465.773091       468.638099   \n",
                            "$\\beta_0$                  Верхняя граница       489.526660       486.661653   \n",
                            "$\\beta1$                    Нижняя граница      -445.609715      -442.895984   \n",
                            "$\\beta1$                   Верхняя граница      -423.110365      -425.824096   \n",
                            "\n",
                            "           $\\alpha =$ 0.1  \n",
                            "Параметр                   \n",
                            "$\\beta_0$      470.095573  \n",
                            "$\\beta_0$      485.204179  \n",
                            "$\\beta1$      -441.515466  \n",
                            "$\\beta1$      -427.204614  "
                        ]
                    },
                    "execution_count": 140,
                    "metadata": {},
                    "output_type": "execute_result"
                }
            ],
            "source": [
                "intervals = pd.DataFrame(\n",
                "    index=pd.Index([r\"$\\beta_0$\"] * 2 + [r\"$\\beta1$\"] * 2, name=\"Параметр\")\n",
                ")\n",
                "intervals[\"Границы доверительного интервала\"] = [\n",
                "    \"Нижняя граница\",\n",
                "    \"Верхняя граница\",\n",
                "] * 2\n",
                "\n",
                "alphas = [0.01, 0.05, 0.1]\n",
                "for alpha in alphas:\n",
                "    intervals[f\"$\\\\alpha =$ {alpha}\"] = list(\n",
                "        stats.t.interval(1 - alpha, df=n - 2, scale=intercept_std_err, loc=intercept)\n",
                "    ) + list(stats.t.interval(1 - alpha, df=n - 2, scale=slope_std_err, loc=slope))\n",
                "\n",
                "intervals"
            ]
        },
        {
            "cell_type": "code",
            "execution_count": 141,
            "metadata": {},
            "outputs": [
                {
                    "name": "stdout",
                    "output_type": "stream",
                    "text": [
                        "| Параметр | Границы доверительного интервала | $\\alpha =$ 0.01 | $\\alpha =$ 0.05 | $\\alpha =$ 0.1 |\n",
                        "|---|---|---|---|---|\n",
                        "| $\\beta_0$ | Нижняя граница | 465.77 | 468.64 | 470.1 |\n",
                        "| $\\beta_0$ | Верхняя граница | 489.53 | 486.66 | 485.2 |\n",
                        "| $\\beta1$ | Нижняя граница | -445.61 | -442.9 | -441.52 |\n",
                        "| $\\beta1$ | Верхняя граница | -423.11 | -425.82 | -427.2 |\n",
                        "\n"
                    ]
                }
            ],
            "source": [
                "print(dataframe_to_markdown(intervals))"
            ]
        },
        {
            "cell_type": "markdown",
            "metadata": {},
            "source": [
                "| Параметр  | Границы доверительного интервала | $\\alpha =$ 0.01 | $\\alpha =$ 0.05 | $\\alpha =$ 0.1 |\n",
                "| --------- | -------------------------------- | --------------- | --------------- | -------------- |\n",
                "| $\\beta_0$ | Нижняя граница                   | 465.77          | 468.64          | 470.1          |\n",
                "| $\\beta_0$ | Верхняя граница                  | 489.53          | 486.66          | 485.2          |\n",
                "| $\\beta1$  | Нижняя граница                   | -445.61         | -442.9          | -441.52        |\n",
                "| $\\beta1$  | Верхняя граница                  | -423.11         | -425.82         | -427.2         |"
            ]
        },
        {
            "cell_type": "markdown",
            "metadata": {},
            "source": [
                "#### Привести формулы расчёта доверительного интервала для значений регрессии $f(x)$"
            ]
        },
        {
            "cell_type": "markdown",
            "metadata": {},
            "source": [
                "| Границы доверительного интервала | Формула расчета                                                                                                                                                                          |\n",
                "| -------------------------------- | ---------------------------------------------------------------------------------------------------------------------------------------------------------------------------------------- |\n",
                "| Нижняя граница $f_{low}(x)$      | $(\\tilde{\\beta}_0 + \\tilde{\\beta}_1x) - t_{1 - \\frac{\\alpha}{2},\\ (n-2)} \\cdot \\sqrt{\\tilde{D}_{Y ост}^{несмещ}} \\cdot \\sqrt{\\dfrac{1}{n} + \\dfrac{(x - \\overline x)^2}{n \\tilde{D}_X}}$ |\n",
                "| Верхняя граница $f_{high}(x)$    | $(\\tilde{\\beta}_0 + \\tilde{\\beta}_1x) + t_{1 - \\frac{\\alpha}{2},\\ (n-2)} \\cdot \\sqrt{\\tilde{D}_{Y ост}^{несмещ}} \\cdot \\sqrt{\\dfrac{1}{n} + \\dfrac{(x - \\overline x)^2}{n \\tilde{D}_X}}$ |\n"
            ]
        },
        {
            "cell_type": "markdown",
            "metadata": {},
            "source": [
                "#### Построить диаграмму рассеяния признаков $x$ и $y$. Нанести на диаграмму функцию регрессии $f(x)$, а также нижние и верхние границы линии регрессии $f_{low}(x)$ и $f_{high}(x)$ на уровне значимости $\\alpha = 0.1$."
            ]
        },
        {
            "cell_type": "code",
            "execution_count": 142,
            "metadata": {},
            "outputs": [],
            "source": [
                "alpha = 0.1"
            ]
        },
        {
            "cell_type": "code",
            "execution_count": 143,
            "metadata": {},
            "outputs": [],
            "source": [
                "def f_intervals(x):\n",
                "    std_err = m.sqrt(D_resY_unbiased) * m.sqrt(\n",
                "        1 / n + (x - X.mean()) ** 2 / (n * X.var(ddof=0))\n",
                "    )\n",
                "    return stats.t.interval(\n",
                "        1 - alpha, df=n - 2, loc=(intercept + slope * x), scale=std_err\n",
                "    )"
            ]
        },
        {
            "cell_type": "code",
            "execution_count": 144,
            "metadata": {},
            "outputs": [
                {
                    "data": {
                        "text/html": [
                            "<div>\n",
                            "<style scoped>\n",
                            "    .dataframe tbody tr th:only-of-type {\n",
                            "        vertical-align: middle;\n",
                            "    }\n",
                            "\n",
                            "    .dataframe tbody tr th {\n",
                            "        vertical-align: top;\n",
                            "    }\n",
                            "\n",
                            "    .dataframe thead th {\n",
                            "        text-align: right;\n",
                            "    }\n",
                            "</style>\n",
                            "<table border=\"1\" class=\"dataframe\">\n",
                            "  <thead>\n",
                            "    <tr style=\"text-align: right;\">\n",
                            "      <th></th>\n",
                            "      <th>x</th>\n",
                            "      <th>y</th>\n",
                            "      <th>f(x)</th>\n",
                            "      <th>f_low(x)</th>\n",
                            "      <th>f_high(x)</th>\n",
                            "    </tr>\n",
                            "  </thead>\n",
                            "  <tbody>\n",
                            "    <tr>\n",
                            "      <th>215</th>\n",
                            "      <td>0.9950</td>\n",
                            "      <td>47.5</td>\n",
                            "      <td>45.461636</td>\n",
                            "      <td>45.007396</td>\n",
                            "      <td>45.915876</td>\n",
                            "    </tr>\n",
                            "    <tr>\n",
                            "      <th>35</th>\n",
                            "      <td>1.0101</td>\n",
                            "      <td>40.1</td>\n",
                            "      <td>38.902799</td>\n",
                            "      <td>38.550172</td>\n",
                            "      <td>39.255427</td>\n",
                            "    </tr>\n",
                            "    <tr>\n",
                            "      <th>191</th>\n",
                            "      <td>1.0140</td>\n",
                            "      <td>38.1</td>\n",
                            "      <td>37.208795</td>\n",
                            "      <td>36.881741</td>\n",
                            "      <td>37.535849</td>\n",
                            "    </tr>\n",
                            "    <tr>\n",
                            "      <th>168</th>\n",
                            "      <td>1.0180</td>\n",
                            "      <td>34.3</td>\n",
                            "      <td>35.471355</td>\n",
                            "      <td>35.170100</td>\n",
                            "      <td>35.772610</td>\n",
                            "    </tr>\n",
                            "    <tr>\n",
                            "      <th>38</th>\n",
                            "      <td>1.0202</td>\n",
                            "      <td>35.2</td>\n",
                            "      <td>34.515763</td>\n",
                            "      <td>34.228469</td>\n",
                            "      <td>34.803057</td>\n",
                            "    </tr>\n",
                            "    <tr>\n",
                            "      <th>...</th>\n",
                            "      <td>...</td>\n",
                            "      <td>...</td>\n",
                            "      <td>...</td>\n",
                            "      <td>...</td>\n",
                            "      <td>...</td>\n",
                            "    </tr>\n",
                            "    <tr>\n",
                            "      <th>25</th>\n",
                            "      <td>1.0911</td>\n",
                            "      <td>3.7</td>\n",
                            "      <td>3.719636</td>\n",
                            "      <td>3.431381</td>\n",
                            "      <td>4.007891</td>\n",
                            "    </tr>\n",
                            "    <tr>\n",
                            "      <th>170</th>\n",
                            "      <td>1.0926</td>\n",
                            "      <td>3.0</td>\n",
                            "      <td>3.068096</td>\n",
                            "      <td>2.770333</td>\n",
                            "      <td>3.365860</td>\n",
                            "    </tr>\n",
                            "    <tr>\n",
                            "      <th>171</th>\n",
                            "      <td>1.0983</td>\n",
                            "      <td>0.7</td>\n",
                            "      <td>0.592244</td>\n",
                            "      <td>0.257672</td>\n",
                            "      <td>0.926815</td>\n",
                            "    </tr>\n",
                            "    <tr>\n",
                            "      <th>95</th>\n",
                            "      <td>1.0991</td>\n",
                            "      <td>17.4</td>\n",
                            "      <td>0.244756</td>\n",
                            "      <td>-0.095054</td>\n",
                            "      <td>0.584566</td>\n",
                            "    </tr>\n",
                            "    <tr>\n",
                            "      <th>181</th>\n",
                            "      <td>1.1089</td>\n",
                            "      <td>0.0</td>\n",
                            "      <td>-4.011973</td>\n",
                            "      <td>-4.417025</td>\n",
                            "      <td>-3.606920</td>\n",
                            "    </tr>\n",
                            "  </tbody>\n",
                            "</table>\n",
                            "<p>252 rows × 5 columns</p>\n",
                            "</div>"
                        ],
                        "text/plain": [
                            "          x     y       f(x)   f_low(x)  f_high(x)\n",
                            "215  0.9950  47.5  45.461636  45.007396  45.915876\n",
                            "35   1.0101  40.1  38.902799  38.550172  39.255427\n",
                            "191  1.0140  38.1  37.208795  36.881741  37.535849\n",
                            "168  1.0180  34.3  35.471355  35.170100  35.772610\n",
                            "38   1.0202  35.2  34.515763  34.228469  34.803057\n",
                            "..      ...   ...        ...        ...        ...\n",
                            "25   1.0911   3.7   3.719636   3.431381   4.007891\n",
                            "170  1.0926   3.0   3.068096   2.770333   3.365860\n",
                            "171  1.0983   0.7   0.592244   0.257672   0.926815\n",
                            "95   1.0991  17.4   0.244756  -0.095054   0.584566\n",
                            "181  1.1089   0.0  -4.011973  -4.417025  -3.606920\n",
                            "\n",
                            "[252 rows x 5 columns]"
                        ]
                    },
                    "execution_count": 144,
                    "metadata": {},
                    "output_type": "execute_result"
                }
            ],
            "source": [
                "table = pd.DataFrame(\n",
                "    np.column_stack(\n",
                "        [\n",
                "            X,\n",
                "            Y,\n",
                "            f(X),\n",
                "            X.apply(f_intervals).apply(lambda x: x[0]),\n",
                "            X.apply(f_intervals).apply(lambda x: x[1]),\n",
                "        ]\n",
                "    ),\n",
                "    columns=[\"x\", \"y\", \"f(x)\", \"f_low(x)\", \"f_high(x)\"],\n",
                ")\n",
                "table.sort_values(\"x\", inplace=True)\n",
                "table"
            ]
        },
        {
            "cell_type": "code",
            "execution_count": 145,
            "metadata": {},
            "outputs": [
                {
                    "data": {
                        "image/png": "[encoded data removed]",
                        "text/plain": [
                            "<Figure size 800x550 with 1 Axes>"
                        ]
                    },
                    "metadata": {},
                    "output_type": "display_data"
                }
            ],
            "source": [
                "plt.scatter(X, Y, label=\"Выборка\", color=\"orange\")\n",
                "plt.plot(\n",
                "    table[\"x\"],\n",
                "    table[\"f(x)\"],\n",
                "    label=\"Линейная регрессия\",\n",
                "    color=\"blue\",\n",
                ")\n",
                "\n",
                "plt.plot(\n",
                "    table[\"x\"], table[\"f_low(x)\"], label=r\"f_{low}(x)\", color=\"red\", linestyle=\"--\"\n",
                ")\n",
                "plt.plot(\n",
                "    table[\"x\"], table[\"f_high(x)\"], label=r\"f_{high}(x)\", color=\"red\", linestyle=\"--\"\n",
                ")\n",
                "\n",
                "plt.legend()\n",
                "plt.xlabel(\"$X$\", fontsize=14)\n",
                "plt.ylabel(\"$Y$\", fontsize=14)\n",
                "plt.title(\n",
                "    r\"Линейная регрессия и доверительные интервалы для неё на уровне значимости $\\alpha$ = 0.1\"\n",
                ")\n",
                "plt.show()"
            ]
        },
        {
            "cell_type": "markdown",
            "metadata": {},
            "source": [
                "#### Построить график остатков $\\varepsilon(x) = y - f(x)$"
            ]
        },
        {
            "cell_type": "code",
            "execution_count": 146,
            "metadata": {},
            "outputs": [
                {
                    "data": {
                        "image/png": "[encoded data removed]",
                        "text/plain": [
                            "<Figure size 800x550 with 1 Axes>"
                        ]
                    },
                    "metadata": {},
                    "output_type": "display_data"
                }
            ],
            "source": [
                "plt.plot(table[\"x\"], table[\"y\"] - table[\"f(x)\"], color=\"black\")\n",
                "plt.xlabel(\"$X$\", fontsize=14)\n",
                "plt.ylabel(r\"$\\varepsilon(x)$\", fontsize=14)\n",
                "plt.title(r\"График остатков $\\varepsilon(x) = y - f(x)$\")\n",
                "plt.show()"
            ]
        },
        {
            "cell_type": "markdown",
            "metadata": {},
            "source": [
                "### 9.1.3. Проверка значимости линейной регрессионной модели"
            ]
        },
        {
            "cell_type": "markdown",
            "metadata": {},
            "source": [
                "Статистическая гипотеза $H_0:\\ \\beta_1 = 0; \\quad H':\\ \\beta_1 \\neq 0$."
            ]
        },
        {
            "cell_type": "markdown",
            "metadata": {},
            "source": [
                "#### Указать формулы расчёта показателей, используемых при проверке значимости линейной регрессионной модели"
            ]
        },
        {
            "cell_type": "markdown",
            "metadata": {},
            "source": [
                "|                                                                                  | Выражение                                                       | Пояснение использованных обозначений                |\n",
                "| -------------------------------------------------------------------------------- | --------------------------------------------------------------- | --------------------------------------------------- |\n",
                "| Формула расчёта статистики критерия                                              | $Z = \\dfrac{\\tilde{D}_{Y \\mid X}}{\\tilde{D}_{Y ост} / (n - 2)}$ | $n$ - объём выборки $(x_1, y_1), \\dots, (x_n, y_n)$ |\n",
                "| Закон распределения статистики критерия при условии истинности основной гипотезы | $F(1,\\ n-2)$                                                    |                                                     |\n",
                "| Формулы расчёта критической точки                                                | $F_{1 - \\alpha,\\ 1,\\ n-2}$                                      | Правосторонняя критическая область.                 |\n",
                "| Формула расчёта $p$-value                                                        | $1 - F_Z(z_{\\text{выб}} \\mid H_0)$                              |                                                     |"
            ]
        },
        {
            "cell_type": "markdown",
            "metadata": {},
            "source": [
                "#### Проверить значимость линейной регрессионной модели"
            ]
        },
        {
            "cell_type": "markdown",
            "metadata": {},
            "source": [
                "`r_value` - выборочное значение коэффициента корреляции Пирсона $\\tilde \\rho^2_{XY}$. При линейной регрессии квадрат этого значения равен коэффициенту детерминации: $\\tilde{\\rho}_{XY}^2 = \\tilde{R}^2$.\n",
                "\n",
                "Статистику критерия же можно переписать как $Z = \\dfrac{\\tilde R^2}{(1 - \\tilde R^2) / (n - 2)}$. Значение `p_value` у нас уже есть из функции `stats.linregress`."
            ]
        },
        {
            "cell_type": "code",
            "execution_count": 147,
            "metadata": {},
            "outputs": [
                {
                    "data": {
                        "text/markdown": [
                            "### Проверка значимости линейной регрессии"
                        ],
                        "text/plain": [
                            "<IPython.core.display.Markdown object>"
                        ]
                    },
                    "metadata": {},
                    "output_type": "display_data"
                },
                {
                    "data": {
                        "text/markdown": [
                            "$H_0$: $\\beta_1 = 0$, $H_1$: $\\beta_1 \\neq 0$"
                        ],
                        "text/plain": [
                            "<IPython.core.display.Markdown object>"
                        ]
                    },
                    "metadata": {},
                    "output_type": "display_data"
                },
                {
                    "data": {
                        "text/markdown": [
                            "$z_{выб} =$ 10044.03"
                        ],
                        "text/plain": [
                            "<IPython.core.display.Markdown object>"
                        ]
                    },
                    "metadata": {},
                    "output_type": "display_data"
                },
                {
                    "data": {
                        "text/markdown": [
                            "$p =$ 0.00"
                        ],
                        "text/plain": [
                            "<IPython.core.display.Markdown object>"
                        ]
                    },
                    "metadata": {},
                    "output_type": "display_data"
                },
                {
                    "data": {
                        "text/markdown": [
                            "При $\\alpha = 0.01$ $H_0$ отклоняется"
                        ],
                        "text/plain": [
                            "<IPython.core.display.Markdown object>"
                        ]
                    },
                    "metadata": {},
                    "output_type": "display_data"
                },
                {
                    "data": {
                        "text/markdown": [
                            "При $\\alpha = 0.05$ $H_0$ отклоняется"
                        ],
                        "text/plain": [
                            "<IPython.core.display.Markdown object>"
                        ]
                    },
                    "metadata": {},
                    "output_type": "display_data"
                },
                {
                    "data": {
                        "text/markdown": [
                            "При $\\alpha = 0.1$ $H_0$ отклоняется"
                        ],
                        "text/plain": [
                            "<IPython.core.display.Markdown object>"
                        ]
                    },
                    "metadata": {},
                    "output_type": "display_data"
                }
            ],
            "source": [
                "alphas = [0.01, 0.05, 0.1]\n",
                "\n",
                "z = r_value**2 * (n - 2) / (1 - r_value**2)\n",
                "\n",
                "mprint(\n",
                "    r\"### Проверка значимости линейной регрессии\",\n",
                "    f\"$H_0$: $\\\\beta_1 = 0$, $H_1$: $\\\\beta_1 \\\\neq 0$\",\n",
                "    f\"$z_{{выб}} =$ {z:.2f}\",\n",
                "    f\"$p =$ {p_value:.2f}\",\n",
                ")\n",
                "\n",
                "for alpha in alphas:\n",
                "    mprint(f\"При $\\\\alpha = {alpha}$ {verdict(alpha, p_value)}\")"
            ]
        },
        {
            "cell_type": "markdown",
            "metadata": {},
            "source": [
                "| Уровень значимости | Выборочное значение статистики критерия | $p$-value | Статистическое решение | Вывод            |\n",
                "| ------------------ | --------------------------------------- | --------- | ---------------------- | ---------------- |\n",
                "| 0.01               | 10044.03                                | 0.00      | $H_0$ отклоняется      | $\\beta_1 \\neq 0$ |\n",
                "| 0.05               | 10044.03                                | 0.00      | $H_0$ отклоняется      | $\\beta_1 \\neq 0$ |\n",
                "| 0.1                | 10044.03                                | 0.00      | $H_0$ отклоняется      | $\\beta_1 \\neq 0$ |"
            ]
        },
        {
            "cell_type": "markdown",
            "metadata": {},
            "source": [
                "<a id=\"92\"></a>"
            ]
        },
        {
            "cell_type": "markdown",
            "metadata": {},
            "source": [
                "## 9.2 Линейная регрессионная модель общего вида"
            ]
        },
        {
            "cell_type": "markdown",
            "metadata": {},
            "source": [
                "### Условие"
            ]
        },
        {
            "cell_type": "markdown",
            "metadata": {},
            "source": [
                "Факторный признак $x$ - `B1` (Body density determined from underwater weighing)\n",
                "\n",
                "Результативный признак $y$ - `B2` (Percent body fat from Siri's equation)\n",
                "\n",
                "Уравнение регрессии (квадратичное по $x$) - $f(x) = \\beta_0 + \\beta_1x + \\beta_2x^2$"
            ]
        },
        {
            "cell_type": "markdown",
            "metadata": {},
            "source": [
                "### Определения"
            ]
        },
        {
            "cell_type": "code",
            "execution_count": 148,
            "metadata": {},
            "outputs": [
                {
                    "data": {
                        "text/plain": [
                            "(0    1.0708\n",
                            " 1    1.0853\n",
                            " 2    1.0414\n",
                            " 3    1.0751\n",
                            " 4    1.0340\n",
                            " Name: B1, dtype: float64,\n",
                            " 0    12.3\n",
                            " 1     6.1\n",
                            " 2    25.3\n",
                            " 3    10.4\n",
                            " 4    28.7\n",
                            " Name: B2, dtype: float64)"
                        ]
                    },
                    "execution_count": 148,
                    "metadata": {},
                    "output_type": "execute_result"
                }
            ],
            "source": [
                "X, Y = data(\"9.2\")\n",
                "X.head(), Y.head()"
            ]
        },
        {
            "cell_type": "code",
            "execution_count": 149,
            "metadata": {},
            "outputs": [
                {
                    "name": "stdout",
                    "output_type": "stream",
                    "text": [
                        "252 252\n"
                    ]
                }
            ],
            "source": [
                "print(n1 := len(X), n2 := len(Y))\n",
                "\n",
                "if n1 == n2:\n",
                "    n = n1"
            ]
        },
        {
            "cell_type": "code",
            "execution_count": 150,
            "metadata": {},
            "outputs": [],
            "source": [
                "k = 3"
            ]
        },
        {
            "cell_type": "markdown",
            "metadata": {},
            "source": [
                "### 9.2.1. Точечные оценки линейной регрессионной модели"
            ]
        },
        {
            "cell_type": "markdown",
            "metadata": {},
            "source": [
                "#### Рассчитать точечные оценки параметров линейной регрессионной модели"
            ]
        },
        {
            "cell_type": "markdown",
            "metadata": {},
            "source": [
                "Построим `design matrix` = $\\begin{pmatrix}1 & x_1 & x_1^2 \\\\ 1 & x_2 & x_2^2 \\\\ \\vdots & \\vdots & \\vdots \\\\ 1 & x_n & x_n^2\\end{pmatrix}$."
            ]
        },
        {
            "cell_type": "code",
            "execution_count": 151,
            "metadata": {},
            "outputs": [
                {
                    "data": {
                        "text/plain": [
                            "0    1.0708\n",
                            "1    1.0853\n",
                            "2    1.0414\n",
                            "3    1.0751\n",
                            "4    1.0340\n",
                            "Name: B1, dtype: float64"
                        ]
                    },
                    "execution_count": 151,
                    "metadata": {},
                    "output_type": "execute_result"
                }
            ],
            "source": [
                "X.head()"
            ]
        },
        {
            "cell_type": "code",
            "execution_count": 152,
            "metadata": {},
            "outputs": [
                {
                    "data": {
                        "text/plain": [
                            "array([[1.0708],\n",
                            "       [1.0853],\n",
                            "       [1.0414],\n",
                            "       [1.0751],\n",
                            "       [1.034 ]])"
                        ]
                    },
                    "execution_count": 152,
                    "metadata": {},
                    "output_type": "execute_result"
                }
            ],
            "source": [
                "X.values.reshape(-1, 1)[:5]"
            ]
        },
        {
            "cell_type": "code",
            "execution_count": 153,
            "metadata": {},
            "outputs": [
                {
                    "data": {
                        "text/plain": [
                            "array([[1.        , 1.0708    , 1.14661264],\n",
                            "       [1.        , 1.0853    , 1.17787609],\n",
                            "       [1.        , 1.0414    , 1.08451396],\n",
                            "       [1.        , 1.0751    , 1.15584001],\n",
                            "       [1.        , 1.034     , 1.069156  ]])"
                        ]
                    },
                    "execution_count": 153,
                    "metadata": {},
                    "output_type": "execute_result"
                }
            ],
            "source": [
                "design_matrix = np.column_stack([X**i for i in range(3)])\n",
                "design_matrix[:5]"
            ]
        },
        {
            "cell_type": "markdown",
            "metadata": {},
            "source": [
                "Построим МНК-оценки параметров $\\beta_0, \\beta_1, \\beta_2$ по формуле $\\tilde{\\beta}_{\\downarrow} = (F^T F)^{-1} F^T y_{\\downarrow}$, где $F$ - `design matrix`, $y_{\\downarrow}$ - вектор значений результативного признака."
            ]
        },
        {
            "cell_type": "code",
            "execution_count": 154,
            "metadata": {},
            "outputs": [
                {
                    "data": {
                        "text/markdown": [
                            "$\\tilde{\\beta_0} =$ 1644.23"
                        ],
                        "text/plain": [
                            "<IPython.core.display.Markdown object>"
                        ]
                    },
                    "metadata": {},
                    "output_type": "display_data"
                },
                {
                    "data": {
                        "text/markdown": [
                            "$\\tilde{\\beta_1} =$ -2645.80"
                        ],
                        "text/plain": [
                            "<IPython.core.display.Markdown object>"
                        ]
                    },
                    "metadata": {},
                    "output_type": "display_data"
                },
                {
                    "data": {
                        "text/markdown": [
                            "$\\tilde{\\beta_2} =$ 1047.70"
                        ],
                        "text/plain": [
                            "<IPython.core.display.Markdown object>"
                        ]
                    },
                    "metadata": {},
                    "output_type": "display_data"
                }
            ],
            "source": [
                "model = sm.OLS(Y, design_matrix).fit()\n",
                "\n",
                "mprint(\n",
                "    f\"$\\\\tilde{{\\\\beta_0}} =$ {model.params.iloc[0]:.2f}\",\n",
                "    f\"$\\\\tilde{{\\\\beta_1}} =$ {model.params.iloc[1]:.2f}\",\n",
                "    f\"$\\\\tilde{{\\\\beta_2}} =$ {model.params.iloc[2]:.2f}\",\n",
                ")"
            ]
        },
        {
            "cell_type": "markdown",
            "metadata": {},
            "source": [
                "| Параметр                                                                                                       | Формула расчета                                                                                                                                               | Значение                                                       |\n",
                "| -------------------------------------------------------------------------------------------------------------- | ------------------------------------------------------------------------------------------------------------------------------------------------------------- | -------------------------------------------------------------- |\n",
                "| $\\tilde \\beta_{\\downarrow} = \\begin{pmatrix} \\tilde \\beta_0 \\\\ \\tilde \\beta_1 \\\\ \\tilde \\beta_2 \\end{pmatrix}$ | $\\tilde{\\beta}_{\\downarrow} = (F^T F)^{-1} F^T y_{\\downarrow}$, где $F$ - регрессионная матрица, $y_{\\downarrow}$ - вектор значений результативного признака. | $\\begin{pmatrix} 1644.23 \\\\ -2645.80 \\\\ 1047.70 \\end{pmatrix}$ |\n"
            ]
        },
        {
            "cell_type": "markdown",
            "metadata": {},
            "source": [
                "#### Рассчитать точечную оценку уравнения регрессии"
            ]
        },
        {
            "cell_type": "markdown",
            "metadata": {},
            "source": [
                "$\\tilde f(x) = \\tilde \\beta_0 + \\tilde \\beta_1x + \\tilde \\beta_2x^2 = 1644.23 - 2645.80x + 1047.70x^2$"
            ]
        },
        {
            "cell_type": "code",
            "execution_count": 155,
            "metadata": {},
            "outputs": [],
            "source": [
                "predictions = model.predict(design_matrix)"
            ]
        },
        {
            "cell_type": "markdown",
            "metadata": {},
            "source": [
                "#### Рассчитать показатели вариации, используемые в регрессионном анализе"
            ]
        },
        {
            "cell_type": "code",
            "execution_count": 156,
            "metadata": {},
            "outputs": [
                {
                    "data": {
                        "text/markdown": [
                            "$\\tilde{D}_{Y \\mid X} =$ 68.30"
                        ],
                        "text/plain": [
                            "<IPython.core.display.Markdown object>"
                        ]
                    },
                    "metadata": {},
                    "output_type": "display_data"
                },
                {
                    "data": {
                        "text/markdown": [
                            "$\\tilde{D}_{Y ост} =$ 1.46"
                        ],
                        "text/plain": [
                            "<IPython.core.display.Markdown object>"
                        ]
                    },
                    "metadata": {},
                    "output_type": "display_data"
                },
                {
                    "data": {
                        "text/markdown": [
                            "$\\tilde{D}_{Y общ} =$ 69.76"
                        ],
                        "text/plain": [
                            "<IPython.core.display.Markdown object>"
                        ]
                    },
                    "metadata": {},
                    "output_type": "display_data"
                },
                {
                    "data": {
                        "text/markdown": [
                            "$\\tilde{D}_{Y \\mid X, несмещ} =$ 8606.14"
                        ],
                        "text/plain": [
                            "<IPython.core.display.Markdown object>"
                        ]
                    },
                    "metadata": {},
                    "output_type": "display_data"
                },
                {
                    "data": {
                        "text/markdown": [
                            "$\\tilde{D}_{Y ост, несмещ} =$ 1.47"
                        ],
                        "text/plain": [
                            "<IPython.core.display.Markdown object>"
                        ]
                    },
                    "metadata": {},
                    "output_type": "display_data"
                },
                {
                    "data": {
                        "text/markdown": [
                            "$\\tilde{D}_{Y общ, несмещ} =$ 70.04"
                        ],
                        "text/plain": [
                            "<IPython.core.display.Markdown object>"
                        ]
                    },
                    "metadata": {},
                    "output_type": "display_data"
                }
            ],
            "source": [
                "D_YX = sum((predictions - Y.mean()) ** 2) / n\n",
                "D_resY = sum((predictions - Y) ** 2) / n\n",
                "D_Y = Y.var(ddof=0)\n",
                "\n",
                "D_YX_unbiased = D_YX * n / (k - 1)\n",
                "D_resY_unbiased = D_resY * n / (n - k)\n",
                "D_Y_unbiased = D_Y * n / (n - 1)\n",
                "\n",
                "mprint(\n",
                "    f\"$\\\\tilde{{D}}_{{Y \\\\mid X}} =$ {D_YX:.2f}\",\n",
                "    f\"$\\\\tilde{{D}}_{{Y ост}} =$ {D_resY:.2f}\",\n",
                "    f\"$\\\\tilde{{D}}_{{Y общ}} =$ {D_Y:.2f}\",\n",
                "    f\"$\\\\tilde{{D}}_{{Y \\\\mid X, несмещ}} =$ {D_YX_unbiased:.2f}\",\n",
                "    f\"$\\\\tilde{{D}}_{{Y ост, несмещ}} =$ {D_resY_unbiased:.2f}\",\n",
                "    f\"$\\\\tilde{{D}}_{{Y общ, несмещ}} =$ {D_Y_unbiased:.2f}\",\n",
                ")"
            ]
        },
        {
            "cell_type": "markdown",
            "metadata": {},
            "source": [
                "| Источник вариации   | Показатель вариации                 | Число степеней свободы | Несмещённая оценка                                  |\n",
                "| ------------------- | ----------------------------------- | ---------------------- | --------------------------------------------------- |\n",
                "| Регрессия           | $\\tilde{D}_{Y \\mid X} = 68.30$      | $k - 1 = 2$            | $\\dfrac{n}{k - 1}\\tilde{D}_{Y \\mid X} = 8606.14$    |\n",
                "| Остаточные признаки | $\\tilde{D}_{Y\\text{ ост}} = 1.46$   | $n - k = 249$          | $\\dfrac{n}{n - k}\\tilde{D}_{Y\\text{ ост}} = 1.47$   |\n",
                "| Все признаки        | $\\tilde{D}_{Y \\text{ общ}} = 69.76$ | $n - 1 = 251$          | $\\dfrac{n}{n - 1}\\tilde{D}_{Y \\text{ общ}} = 70.04$ |\n",
                "\n",
                "$k$ — число оцениваемых параметров функции регрессии."
            ]
        },
        {
            "cell_type": "markdown",
            "metadata": {},
            "source": [
                "#### Проверить правило сложения дисперсий"
            ]
        },
        {
            "cell_type": "code",
            "execution_count": 157,
            "metadata": {},
            "outputs": [
                {
                    "data": {
                        "text/markdown": [
                            "$\\tilde{D}_{Y \\mid X} =$ 68.30"
                        ],
                        "text/plain": [
                            "<IPython.core.display.Markdown object>"
                        ]
                    },
                    "metadata": {},
                    "output_type": "display_data"
                },
                {
                    "data": {
                        "text/markdown": [
                            "$\\tilde{D}_{Y ост} =$ 1.46"
                        ],
                        "text/plain": [
                            "<IPython.core.display.Markdown object>"
                        ]
                    },
                    "metadata": {},
                    "output_type": "display_data"
                },
                {
                    "data": {
                        "text/markdown": [
                            "$\\tilde{D}_{Y общ} =$ 69.76"
                        ],
                        "text/plain": [
                            "<IPython.core.display.Markdown object>"
                        ]
                    },
                    "metadata": {},
                    "output_type": "display_data"
                },
                {
                    "data": {
                        "text/markdown": [
                            "$\\tilde{D}_{Y \\mid X} + \\tilde{D}_{Y ост} = 69.76$"
                        ],
                        "text/plain": [
                            "<IPython.core.display.Markdown object>"
                        ]
                    },
                    "metadata": {},
                    "output_type": "display_data"
                },
                {
                    "name": "stdout",
                    "output_type": "stream",
                    "text": [
                        "True\n"
                    ]
                }
            ],
            "source": [
                "mprint(\n",
                "    f\"$\\\\tilde{{D}}_{{Y \\\\mid X}} =$ {D_YX:.2f}\",\n",
                "    f\"$\\\\tilde{{D}}_{{Y ост}} =$ {D_resY:.2f}\",\n",
                "    f\"$\\\\tilde{{D}}_{{Y общ}} =$ {D_Y:.2f}\",\n",
                "    f\"$\\\\tilde{{D}}_{{Y \\\\mid X}} + \\\\tilde{{D}}_{{Y ост}} = {D_YX + D_resY:.2f}$\",\n",
                ")\n",
                "print(D_YX + D_resY - D_Y < 1e-10)"
            ]
        },
        {
            "cell_type": "markdown",
            "metadata": {},
            "source": [
                "| Показатель | $\\tilde{D}_{Y \\mid X}$ | $\\tilde{D}_{Y\\text{ ост}}$ | $\\tilde{D}_{Y \\text{ общ}}$ | $\\tilde{D}_{Y \\mid X} + \\tilde{D}_{Y\\text{ ост}}$ |\n",
                "| ---------- | ---------------------- | -------------------------- | --------------------------- | ------------------------------------------------- |\n",
                "| Значение   | 68.30                  | 1.46                       | 69.76                       | 69.76                                             |\n"
            ]
        },
        {
            "cell_type": "markdown",
            "metadata": {},
            "source": [
                "#### Рассчитать показатели тесноты связи между факторным и результативным признаками"
            ]
        },
        {
            "cell_type": "code",
            "execution_count": 158,
            "metadata": {},
            "outputs": [
                {
                    "data": {
                        "text/markdown": [
                            "$\\tilde{R^2} =$ 0.98"
                        ],
                        "text/plain": [
                            "<IPython.core.display.Markdown object>"
                        ]
                    },
                    "metadata": {},
                    "output_type": "display_data"
                },
                {
                    "data": {
                        "text/markdown": [
                            "$\\tilde{R} =$ 0.99"
                        ],
                        "text/plain": [
                            "<IPython.core.display.Markdown object>"
                        ]
                    },
                    "metadata": {},
                    "output_type": "display_data"
                }
            ],
            "source": [
                "mprint(\n",
                "    f\"$\\\\tilde{{R^2}} =$ {model.rsquared:.2f}\",\n",
                "    f\"$\\\\tilde{{R}} =$ {m.sqrt(model.rsquared):.2f}\",\n",
                ")"
            ]
        },
        {
            "cell_type": "markdown",
            "metadata": {},
            "source": [
                "| Показатель               | Формула расчета                                                                                  | Значение |\n",
                "| ------------------------ | ------------------------------------------------------------------------------------------------ | -------- |\n",
                "| Коэффициент детерминации | $\\tilde{R^2} = \\dfrac{\\tilde{D}_{Y \\mid X}}{\\tilde{D}_{Y \\text{ общ}}}$                          | 0.98     |\n",
                "| Корреляционное отношение | $\\tilde R = \\sqrt{\\tilde{R^2}} = \\sqrt{\\dfrac{\\tilde{D}_{Y \\mid X}}{\\tilde{D}_{Y \\text{ общ}}}}$ | 0.99     |\n"
            ]
        },
        {
            "cell_type": "markdown",
            "metadata": {},
            "source": [
                "#### Охарактеризовать тип связи между факторным и результативным признаками, определяемой рассчитанной линейной регрессией."
            ]
        },
        {
            "cell_type": "markdown",
            "metadata": {},
            "source": [
                "Наблюдается очень сильная (почти функциональная) корреляционная связь между факторным признаком `B1` и результативным признаком `B2`."
            ]
        },
        {
            "cell_type": "markdown",
            "metadata": {},
            "source": [
                "### 9.2.2. Интервальные оценки линейной регрессионной модели"
            ]
        },
        {
            "cell_type": "markdown",
            "metadata": {},
            "source": [
                "#### Привести формулы расчёта доверительных интервалов для значений регрессии $f(x)$"
            ]
        },
        {
            "cell_type": "markdown",
            "metadata": {},
            "source": [
                "| Границы доверительного интервала | Формула расчета                                                                                                                                                                |\n",
                "| -------------------------------- | ------------------------------------------------------------------------------------------------------------------------------------------------------------------------------ |\n",
                "| Нижняя граница $f_{low}(x)$      | $\\tilde f(x) - t_{1 - \\frac{\\alpha}{2},\\ (n-k)} \\cdot \\sqrt{\\tilde{D}_{Y ост}^{несмещ}} \\cdot \\sqrt{\\overrightarrow \\varphi(x)\\left(F^TF\\right)^{-1} \\varphi_{\\downarrow}(x)}$ |\n",
                "| Верхняя граница $f_{high}(x)$    | $\\tilde f(x) + t_{1 - \\frac{\\alpha}{2},\\ (n-k)} \\cdot \\sqrt{\\tilde{D}_{Y ост}^{несмещ}} \\cdot \\sqrt{\\overrightarrow \\varphi(x)\\left(F^TF\\right)^{-1} \\varphi_{\\downarrow}(x)}$ |"
            ]
        },
        {
            "cell_type": "markdown",
            "metadata": {},
            "source": [
                "#### Построить диаграмму рассеяния признаков $x$ и $y$. Нанести на диаграмму функцию регрессии $f(x)$, а также нижние и верхние границы линии регрессии $f_{low}(x)$ и $f_{high}(x)$ на уровне значимости $\\alpha = 0.1$."
            ]
        },
        {
            "cell_type": "code",
            "execution_count": 159,
            "metadata": {},
            "outputs": [],
            "source": [
                "alpha = 0.1"
            ]
        },
        {
            "cell_type": "code",
            "execution_count": 160,
            "metadata": {},
            "outputs": [
                {
                    "data": {
                        "text/html": [
                            "<div>\n",
                            "<style scoped>\n",
                            "    .dataframe tbody tr th:only-of-type {\n",
                            "        vertical-align: middle;\n",
                            "    }\n",
                            "\n",
                            "    .dataframe tbody tr th {\n",
                            "        vertical-align: top;\n",
                            "    }\n",
                            "\n",
                            "    .dataframe thead th {\n",
                            "        text-align: right;\n",
                            "    }\n",
                            "</style>\n",
                            "<table border=\"1\" class=\"dataframe\">\n",
                            "  <thead>\n",
                            "    <tr style=\"text-align: right;\">\n",
                            "      <th></th>\n",
                            "      <th>x</th>\n",
                            "      <th>y</th>\n",
                            "      <th>f(x)</th>\n",
                            "      <th>f_low(x)</th>\n",
                            "      <th>f_high(x)</th>\n",
                            "    </tr>\n",
                            "  </thead>\n",
                            "  <tbody>\n",
                            "    <tr>\n",
                            "      <th>215</th>\n",
                            "      <td>0.9950</td>\n",
                            "      <td>47.5</td>\n",
                            "      <td>48.903692</td>\n",
                            "      <td>47.919852</td>\n",
                            "      <td>49.887533</td>\n",
                            "    </tr>\n",
                            "    <tr>\n",
                            "      <th>35</th>\n",
                            "      <td>1.0101</td>\n",
                            "      <td>40.1</td>\n",
                            "      <td>40.673185</td>\n",
                            "      <td>40.110841</td>\n",
                            "      <td>41.235528</td>\n",
                            "    </tr>\n",
                            "    <tr>\n",
                            "      <th>191</th>\n",
                            "      <td>1.0140</td>\n",
                            "      <td>38.1</td>\n",
                            "      <td>38.625059</td>\n",
                            "      <td>38.149669</td>\n",
                            "      <td>39.100448</td>\n",
                            "    </tr>\n",
                            "    <tr>\n",
                            "      <th>168</th>\n",
                            "      <td>1.0180</td>\n",
                            "      <td>34.3</td>\n",
                            "      <td>36.557524</td>\n",
                            "      <td>36.161372</td>\n",
                            "      <td>36.953676</td>\n",
                            "    </tr>\n",
                            "    <tr>\n",
                            "      <th>38</th>\n",
                            "      <td>1.0202</td>\n",
                            "      <td>35.2</td>\n",
                            "      <td>35.434670</td>\n",
                            "      <td>35.077616</td>\n",
                            "      <td>35.791725</td>\n",
                            "    </tr>\n",
                            "    <tr>\n",
                            "      <th>...</th>\n",
                            "      <td>...</td>\n",
                            "      <td>...</td>\n",
                            "      <td>...</td>\n",
                            "      <td>...</td>\n",
                            "      <td>...</td>\n",
                            "    </tr>\n",
                            "    <tr>\n",
                            "      <th>25</th>\n",
                            "      <td>1.0911</td>\n",
                            "      <td>3.7</td>\n",
                            "      <td>4.678158</td>\n",
                            "      <td>4.313571</td>\n",
                            "      <td>5.042746</td>\n",
                            "    </tr>\n",
                            "    <tr>\n",
                            "      <th>170</th>\n",
                            "      <td>1.0926</td>\n",
                            "      <td>3.0</td>\n",
                            "      <td>4.141236</td>\n",
                            "      <td>3.749756</td>\n",
                            "      <td>4.532717</td>\n",
                            "    </tr>\n",
                            "    <tr>\n",
                            "      <th>171</th>\n",
                            "      <td>1.0983</td>\n",
                            "      <td>0.7</td>\n",
                            "      <td>2.143930</td>\n",
                            "      <td>1.636895</td>\n",
                            "      <td>2.650966</td>\n",
                            "    </tr>\n",
                            "    <tr>\n",
                            "      <th>95</th>\n",
                            "      <td>1.0991</td>\n",
                            "      <td>17.4</td>\n",
                            "      <td>1.869055</td>\n",
                            "      <td>1.344165</td>\n",
                            "      <td>2.393944</td>\n",
                            "    </tr>\n",
                            "    <tr>\n",
                            "      <th>181</th>\n",
                            "      <td>1.1089</td>\n",
                            "      <td>0.0</td>\n",
                            "      <td>-1.389337</td>\n",
                            "      <td>-2.164017</td>\n",
                            "      <td>-0.614657</td>\n",
                            "    </tr>\n",
                            "  </tbody>\n",
                            "</table>\n",
                            "<p>252 rows × 5 columns</p>\n",
                            "</div>"
                        ],
                        "text/plain": [
                            "          x     y       f(x)   f_low(x)  f_high(x)\n",
                            "215  0.9950  47.5  48.903692  47.919852  49.887533\n",
                            "35   1.0101  40.1  40.673185  40.110841  41.235528\n",
                            "191  1.0140  38.1  38.625059  38.149669  39.100448\n",
                            "168  1.0180  34.3  36.557524  36.161372  36.953676\n",
                            "38   1.0202  35.2  35.434670  35.077616  35.791725\n",
                            "..      ...   ...        ...        ...        ...\n",
                            "25   1.0911   3.7   4.678158   4.313571   5.042746\n",
                            "170  1.0926   3.0   4.141236   3.749756   4.532717\n",
                            "171  1.0983   0.7   2.143930   1.636895   2.650966\n",
                            "95   1.0991  17.4   1.869055   1.344165   2.393944\n",
                            "181  1.1089   0.0  -1.389337  -2.164017  -0.614657\n",
                            "\n",
                            "[252 rows x 5 columns]"
                        ]
                    },
                    "execution_count": 160,
                    "metadata": {},
                    "output_type": "execute_result"
                }
            ],
            "source": [
                "table = pd.DataFrame(\n",
                "    np.column_stack(\n",
                "        [X, Y, predictions, model.get_prediction(design_matrix).conf_int(alpha=alpha)]\n",
                "    ),\n",
                "    columns=[\n",
                "        \"x\",\n",
                "        \"y\",\n",
                "        \"f(x)\",\n",
                "        \"f_low(x)\",\n",
                "        \"f_high(x)\",\n",
                "    ],\n",
                ")\n",
                "table.sort_values(\"x\", inplace=True)\n",
                "table"
            ]
        },
        {
            "cell_type": "code",
            "execution_count": 161,
            "metadata": {},
            "outputs": [
                {
                    "data": {
                        "image/png": "[encoded data removed]",
                        "text/plain": [
                            "<Figure size 800x550 with 1 Axes>"
                        ]
                    },
                    "metadata": {},
                    "output_type": "display_data"
                }
            ],
            "source": [
                "plt.scatter(X, Y, label=\"Выборка\", color=\"orange\")\n",
                "plt.plot(\n",
                "    table[\"x\"],\n",
                "    table[\"f(x)\"],\n",
                "    label=\"Линейная регрессия\",\n",
                "    color=\"blue\",\n",
                ")\n",
                "\n",
                "plt.plot(\n",
                "    table[\"x\"], table[\"f_low(x)\"], label=r\"f_{low}(x)\", color=\"red\", linestyle=\"--\"\n",
                ")\n",
                "plt.plot(\n",
                "    table[\"x\"], table[\"f_high(x)\"], label=r\"f_{high}(x)\", color=\"red\", linestyle=\"--\"\n",
                ")\n",
                "\n",
                "plt.legend()\n",
                "plt.xlabel(\"$X$\", fontsize=14)\n",
                "plt.ylabel(\"$Y$\", fontsize=14)\n",
                "plt.title(\n",
                "    r\"Линейная регрессия и доверительные интервалы для неё на уровне значимости $\\alpha$ = 0.1\"\n",
                ")\n",
                "plt.show()"
            ]
        },
        {
            "cell_type": "markdown",
            "metadata": {},
            "source": [
                "#### Построить график остатков $\\varepsilon(x) = y - f(x)$"
            ]
        },
        {
            "cell_type": "code",
            "execution_count": 162,
            "metadata": {},
            "outputs": [
                {
                    "data": {
                        "image/png": "[encoded data removed]",
                        "text/plain": [
                            "<Figure size 800x550 with 1 Axes>"
                        ]
                    },
                    "metadata": {},
                    "output_type": "display_data"
                }
            ],
            "source": [
                "plt.plot(table[\"x\"], table[\"y\"] - table[\"f(x)\"], color=\"black\")\n",
                "plt.xlabel(\"$X$\", fontsize=14)\n",
                "plt.ylabel(r\"$\\varepsilon(x)$\", fontsize=14)\n",
                "plt.title(r\"График остатков $\\varepsilon(x) = y - f(x)$\")\n",
                "plt.show()"
            ]
        },
        {
            "cell_type": "markdown",
            "metadata": {},
            "source": [
                "### 9.2.3. Проверка значимости линейной регрессионной модели"
            ]
        },
        {
            "cell_type": "markdown",
            "metadata": {},
            "source": [
                "Статистическая гипотеза $H_0:\\ \\beta_1 = \\beta_2 = 0; \\quad H':\\ \\beta_1^2 + \\beta_2^2 > 0$."
            ]
        },
        {
            "cell_type": "markdown",
            "metadata": {},
            "source": [
                "#### Указать формулы расчёта показателей, используемых при проверке значимости линейной регрессионной модели"
            ]
        },
        {
            "cell_type": "markdown",
            "metadata": {},
            "source": [
                "|                                                                                  | Выражение                                                               | Пояснение использованных обозначений                |\n",
                "| -------------------------------------------------------------------------------- | ----------------------------------------------------------------------- | --------------------------------------------------- |\n",
                "| Формула расчёта статистики критерия                                              | $Z = \\dfrac{\\tilde{D}_{Y \\mid X}^{несмещ}}{\\tilde{D}_{Y ост}^{несмещ}}$ | $n$ - объём выборки $(x_1, y_1), \\dots, (x_n, y_n)$ |\n",
                "| Закон распределения статистики критерия при условии истинности основной гипотезы | $F(k-1,\\ n-2)$                                                          |                                                     |\n",
                "| Формулы расчёта критической точки                                                | $F_{1 - \\alpha,\\ k-1,\\ n-2}$                                            | Правосторонняя критическая область.                 |\n",
                "| Формула расчёта $p$-value                                                        | $1 - F_Z(z_{\\text{выб}} \\mid H_0)$                                      |                                                     |"
            ]
        },
        {
            "cell_type": "markdown",
            "metadata": {},
            "source": [
                "#### Проверить значимость линейной регрессионной модели"
            ]
        },
        {
            "cell_type": "code",
            "execution_count": 163,
            "metadata": {},
            "outputs": [
                {
                    "data": {
                        "text/markdown": [
                            "### Проверка значимости линейной регрессии"
                        ],
                        "text/plain": [
                            "<IPython.core.display.Markdown object>"
                        ]
                    },
                    "metadata": {},
                    "output_type": "display_data"
                },
                {
                    "data": {
                        "text/markdown": [
                            "$H_0$: $\\beta_1 = \\beta_2 = 0$, $H_1$: $\\beta_1^2 + \\beta_2^2 > 0$"
                        ],
                        "text/plain": [
                            "<IPython.core.display.Markdown object>"
                        ]
                    },
                    "metadata": {},
                    "output_type": "display_data"
                },
                {
                    "data": {
                        "text/markdown": [
                            "$z_{выб} =$ 5843.56"
                        ],
                        "text/plain": [
                            "<IPython.core.display.Markdown object>"
                        ]
                    },
                    "metadata": {},
                    "output_type": "display_data"
                },
                {
                    "data": {
                        "text/markdown": [
                            "$p =$ 0.00"
                        ],
                        "text/plain": [
                            "<IPython.core.display.Markdown object>"
                        ]
                    },
                    "metadata": {},
                    "output_type": "display_data"
                },
                {
                    "data": {
                        "text/markdown": [
                            "При $\\alpha = 0.01$ $H_0$ отклоняется"
                        ],
                        "text/plain": [
                            "<IPython.core.display.Markdown object>"
                        ]
                    },
                    "metadata": {},
                    "output_type": "display_data"
                },
                {
                    "data": {
                        "text/markdown": [
                            "При $\\alpha = 0.05$ $H_0$ отклоняется"
                        ],
                        "text/plain": [
                            "<IPython.core.display.Markdown object>"
                        ]
                    },
                    "metadata": {},
                    "output_type": "display_data"
                },
                {
                    "data": {
                        "text/markdown": [
                            "При $\\alpha = 0.1$ $H_0$ отклоняется"
                        ],
                        "text/plain": [
                            "<IPython.core.display.Markdown object>"
                        ]
                    },
                    "metadata": {},
                    "output_type": "display_data"
                }
            ],
            "source": [
                "alphas = [0.01, 0.05, 0.1]\n",
                "\n",
                "z = model.fvalue\n",
                "p_value = model.f_pvalue\n",
                "\n",
                "mprint(\n",
                "    r\"### Проверка значимости линейной регрессии\",\n",
                "    f\"$H_0$: $\\\\beta_1 = \\\\beta_2 = 0$, $H_1$: $\\\\beta_1^2 + \\\\beta_2^2 > 0$\",\n",
                "    f\"$z_{{выб}} =$ {z:.2f}\",\n",
                "    f\"$p =$ {p_value:.2f}\",\n",
                ")\n",
                "\n",
                "for alpha in alphas:\n",
                "    mprint(f\"При $\\\\alpha = {alpha}$ {verdict(alpha, p_value)}\")"
            ]
        },
        {
            "cell_type": "markdown",
            "metadata": {},
            "source": [
                "| Уровень значимости | Выборочное значение статистики критерия | $p$-value | Статистическое решение | Вывод                       |\n",
                "| ------------------ | --------------------------------------- | --------- | ---------------------- | --------------------------- |\n",
                "| 0.01               | 5843.56                                 | 0.00      | $H_0$ отклоняется      | $\\beta_1^2 + \\beta_2^2 > 0$ |\n",
                "| 0.05               | 5843.56                                 | 0.00      | $H_0$ отклоняется      | $\\beta_1^2 + \\beta_2^2 > 0$ |\n",
                "| 0.1                | 5843.56                                 | 0.00      | $H_0$ отклоняется      | $\\beta_1^2 + \\beta_2^2 > 0$ |"
            ]
        },
        {
            "cell_type": "markdown",
            "metadata": {},
            "source": [
                "<a id=\"93\"></a>"
            ]
        },
        {
            "cell_type": "markdown",
            "metadata": {},
            "source": [
                "## 9.3 Множественная линейная регрессионная модель"
            ]
        },
        {
            "cell_type": "markdown",
            "metadata": {},
            "source": [
                "### Условие"
            ]
        },
        {
            "cell_type": "markdown",
            "metadata": {},
            "source": [
                "Факторный признак 1 $x_1$ - `B1` (Body density determined from underwater weighing)\n",
                "\n",
                "Факторный признак 2 $x_2$ - `B4` (Age (years))\n",
                "\n",
                "Результативный признак $y$ - `B2` (Percent body fat from Siri's equation)\n",
                "\n",
                "Уравнение регрессии - $f(x) = \\beta_0 + \\beta_1x_1 + \\beta_2x_2$"
            ]
        },
        {
            "cell_type": "markdown",
            "metadata": {},
            "source": [
                "### Определения"
            ]
        },
        {
            "cell_type": "code",
            "execution_count": 164,
            "metadata": {},
            "outputs": [
                {
                    "data": {
                        "text/plain": [
                            "(0    1.0708\n",
                            " 1    1.0853\n",
                            " 2    1.0414\n",
                            " 3    1.0751\n",
                            " 4    1.0340\n",
                            " Name: B1, dtype: float64,\n",
                            " 0    23\n",
                            " 1    22\n",
                            " 2    22\n",
                            " 3    26\n",
                            " 4    24\n",
                            " Name: B4, dtype: int64,\n",
                            " 0    12.3\n",
                            " 1     6.1\n",
                            " 2    25.3\n",
                            " 3    10.4\n",
                            " 4    28.7\n",
                            " Name: B2, dtype: float64)"
                        ]
                    },
                    "execution_count": 164,
                    "metadata": {},
                    "output_type": "execute_result"
                }
            ],
            "source": [
                "X1, X2, Y = data(\"9.3\")\n",
                "X1.head(), X2.head(), Y.head()"
            ]
        },
        {
            "cell_type": "code",
            "execution_count": 165,
            "metadata": {},
            "outputs": [
                {
                    "name": "stdout",
                    "output_type": "stream",
                    "text": [
                        "252 252 252\n"
                    ]
                }
            ],
            "source": [
                "print(n1 := len(X1), n2 := len(X2), n3 := len(Y))\n",
                "\n",
                "if n1 == n2 == n3:\n",
                "    n = n1"
            ]
        },
        {
            "cell_type": "code",
            "execution_count": 166,
            "metadata": {},
            "outputs": [],
            "source": [
                "k = 3"
            ]
        },
        {
            "cell_type": "markdown",
            "metadata": {},
            "source": [
                "### Рассчитать точечные оценки параметров множественной линейной регрессионной модели"
            ]
        },
        {
            "cell_type": "markdown",
            "metadata": {},
            "source": [
                "В данном случае $\\varphi_0(x) = 1$, $\\varphi_1(x) = x_1$, $\\varphi_2(x) = x_2$.\n",
                "\n",
                "`design matrix` точно такая же: $\\begin{pmatrix}1 & x_{11} & x_{12} \\\\ 1 & x_{21} & x_{22} \\\\ \\vdots & \\vdots & \\vdots \\\\ 1 & x_{n1} & x_{n2}\\end{pmatrix}$."
            ]
        },
        {
            "cell_type": "code",
            "execution_count": 167,
            "metadata": {},
            "outputs": [
                {
                    "data": {
                        "text/plain": [
                            "array([[ 1.0708, 23.    ],\n",
                            "       [ 1.0853, 22.    ],\n",
                            "       [ 1.0414, 22.    ],\n",
                            "       [ 1.0751, 26.    ],\n",
                            "       [ 1.034 , 24.    ]])"
                        ]
                    },
                    "execution_count": 167,
                    "metadata": {},
                    "output_type": "execute_result"
                }
            ],
            "source": [
                "vector_X = np.column_stack([X1, X2])\n",
                "vector_X[:5]"
            ]
        },
        {
            "cell_type": "code",
            "execution_count": 168,
            "metadata": {},
            "outputs": [
                {
                    "data": {
                        "text/plain": [
                            "array([[ 1.    ,  1.0708, 23.    ],\n",
                            "       [ 1.    ,  1.0853, 22.    ],\n",
                            "       [ 1.    ,  1.0414, 22.    ],\n",
                            "       [ 1.    ,  1.0751, 26.    ],\n",
                            "       [ 1.    ,  1.034 , 24.    ]])"
                        ]
                    },
                    "execution_count": 168,
                    "metadata": {},
                    "output_type": "execute_result"
                }
            ],
            "source": [
                "design_matrix = sm.add_constant(vector_X)\n",
                "design_matrix[:5]"
            ]
        },
        {
            "cell_type": "markdown",
            "metadata": {},
            "source": [
                "Построим МНК-оценки параметров $\\beta_0, \\beta_1, \\beta_2$ по формуле $\\tilde{\\beta}_{\\downarrow} = (F^T F)^{-1} F^T y_{\\downarrow}$, где $F$ - `design matrix`, $y_{\\downarrow}$ - вектор значений результативного признака."
            ]
        },
        {
            "cell_type": "code",
            "execution_count": 169,
            "metadata": {},
            "outputs": [
                {
                    "data": {
                        "text/markdown": [
                            "$\\tilde{\\beta_0} =$ 474.69"
                        ],
                        "text/plain": [
                            "<IPython.core.display.Markdown object>"
                        ]
                    },
                    "metadata": {},
                    "output_type": "display_data"
                },
                {
                    "data": {
                        "text/markdown": [
                            "$\\tilde{\\beta_1} =$ -432.08"
                        ],
                        "text/plain": [
                            "<IPython.core.display.Markdown object>"
                        ]
                    },
                    "metadata": {},
                    "output_type": "display_data"
                },
                {
                    "data": {
                        "text/markdown": [
                            "$\\tilde{\\beta_2} =$ 0.01"
                        ],
                        "text/plain": [
                            "<IPython.core.display.Markdown object>"
                        ]
                    },
                    "metadata": {},
                    "output_type": "display_data"
                }
            ],
            "source": [
                "model = sm.OLS(Y, design_matrix).fit()\n",
                "\n",
                "mprint(\n",
                "    f\"$\\\\tilde{{\\\\beta_0}} =$ {model.params.iloc[0]:.2f}\",\n",
                "    f\"$\\\\tilde{{\\\\beta_1}} =$ {model.params.iloc[1]:.2f}\",\n",
                "    f\"$\\\\tilde{{\\\\beta_2}} =$ {model.params.iloc[2]:.2f}\",\n",
                ")"
            ]
        },
        {
            "cell_type": "markdown",
            "metadata": {},
            "source": [
                "| Параметр                                                                                                       | Формула расчета                                                                                                                                               | Значение                                                  |\n",
                "| -------------------------------------------------------------------------------------------------------------- | ------------------------------------------------------------------------------------------------------------------------------------------------------------- | --------------------------------------------------------- |\n",
                "| $\\tilde \\beta_{\\downarrow} = \\begin{pmatrix} \\tilde \\beta_0 \\\\ \\tilde \\beta_1 \\\\ \\tilde \\beta_2 \\end{pmatrix}$ | $\\tilde{\\beta}_{\\downarrow} = (F^T F)^{-1} F^T y_{\\downarrow}$, где $F$ - регрессионная матрица, $y_{\\downarrow}$ - вектор значений результативного признака. | $\\begin{pmatrix} 474.69 \\\\ -432.08 \\\\ 0.01 \\end{pmatrix}$ |\n"
            ]
        },
        {
            "cell_type": "markdown",
            "metadata": {},
            "source": [
                "### Записать точечную оценку уравнения регрессии"
            ]
        },
        {
            "cell_type": "markdown",
            "metadata": {},
            "source": [
                "$\\tilde f(x) = \\tilde \\beta_0 + \\tilde \\beta_1x_1 + \\tilde \\beta_2x_2 = 474.69 - 432.08x_1 + 0.01x_2$"
            ]
        },
        {
            "cell_type": "code",
            "execution_count": 170,
            "metadata": {},
            "outputs": [],
            "source": [
                "predictions = model.predict(design_matrix)"
            ]
        },
        {
            "cell_type": "markdown",
            "metadata": {},
            "source": [
                "### Рассчитать показатели вариации, используемые в регрессионном анализе"
            ]
        },
        {
            "cell_type": "code",
            "execution_count": 171,
            "metadata": {},
            "outputs": [
                {
                    "data": {
                        "text/markdown": [
                            "$\\tilde{D}_{Y \\mid X_1, X_2} =$ 68.09"
                        ],
                        "text/plain": [
                            "<IPython.core.display.Markdown object>"
                        ]
                    },
                    "metadata": {},
                    "output_type": "display_data"
                },
                {
                    "data": {
                        "text/markdown": [
                            "$\\tilde{D}_{Y ост} =$ 1.67"
                        ],
                        "text/plain": [
                            "<IPython.core.display.Markdown object>"
                        ]
                    },
                    "metadata": {},
                    "output_type": "display_data"
                },
                {
                    "data": {
                        "text/markdown": [
                            "$\\tilde{D}_{Y общ} =$ 69.76"
                        ],
                        "text/plain": [
                            "<IPython.core.display.Markdown object>"
                        ]
                    },
                    "metadata": {},
                    "output_type": "display_data"
                },
                {
                    "data": {
                        "text/markdown": [
                            "$\\tilde{D}_{Y \\mid X_1, X_2, несмещ} =$ 8578.86"
                        ],
                        "text/plain": [
                            "<IPython.core.display.Markdown object>"
                        ]
                    },
                    "metadata": {},
                    "output_type": "display_data"
                },
                {
                    "data": {
                        "text/markdown": [
                            "$\\tilde{D}_{Y ост, несмещ} =$ 1.69"
                        ],
                        "text/plain": [
                            "<IPython.core.display.Markdown object>"
                        ]
                    },
                    "metadata": {},
                    "output_type": "display_data"
                },
                {
                    "data": {
                        "text/markdown": [
                            "$\\tilde{D}_{Y общ, несмещ} =$ 70.04"
                        ],
                        "text/plain": [
                            "<IPython.core.display.Markdown object>"
                        ]
                    },
                    "metadata": {},
                    "output_type": "display_data"
                }
            ],
            "source": [
                "D_YX = sum((predictions - Y.mean()) ** 2) / n\n",
                "D_resY = sum((predictions - Y) ** 2) / n\n",
                "D_Y = Y.var(ddof=0)\n",
                "\n",
                "D_YX_unbiased = D_YX * n / (k - 1)\n",
                "D_resY_unbiased = D_resY * n / (n - k)\n",
                "D_Y_unbiased = D_Y * n / (n - 1)\n",
                "\n",
                "mprint(\n",
                "    f\"$\\\\tilde{{D}}_{{Y \\\\mid X_1, X_2}} =$ {D_YX:.2f}\",\n",
                "    f\"$\\\\tilde{{D}}_{{Y ост}} =$ {D_resY:.2f}\",\n",
                "    f\"$\\\\tilde{{D}}_{{Y общ}} =$ {D_Y:.2f}\",\n",
                "    f\"$\\\\tilde{{D}}_{{Y \\\\mid X_1, X_2, несмещ}} =$ {D_YX_unbiased:.2f}\",\n",
                "    f\"$\\\\tilde{{D}}_{{Y ост, несмещ}} =$ {D_resY_unbiased:.2f}\",\n",
                "    f\"$\\\\tilde{{D}}_{{Y общ, несмещ}} =$ {D_Y_unbiased:.2f}\",\n",
                ")"
            ]
        },
        {
            "cell_type": "markdown",
            "metadata": {},
            "source": [
                "| Источник вариации   | Показатель вариации                   | Число степеней свободы | Несмещённая оценка                                      |\n",
                "| ------------------- | ------------------------------------- | ---------------------- | ------------------------------------------------------- |\n",
                "| Регрессия           | $\\tilde{D}_{Y \\mid X_1, X_2} = 68.09$ | $k - 1 = 2$            | $\\dfrac{n}{k - 1}\\tilde{D}_{Y \\mid X_1, X_2} = 8578.86$ |\n",
                "| Остаточные признаки | $\\tilde{D}_{Y\\text{ ост}} = 1.67$     | $n - k = 249$          | $\\dfrac{n}{n - k}\\tilde{D}_{Y\\text{ ост}} = 1.69$       |\n",
                "| Все признаки        | $\\tilde{D}_{Y \\text{ общ}} = 69.76$   | $n - 1 = 251$          | $\\dfrac{n}{n - 1}\\tilde{D}_{Y \\text{ общ}} = 70.04$     |\n",
                "\n",
                "$k$ — число оцениваемых параметров функции регрессии."
            ]
        },
        {
            "cell_type": "markdown",
            "metadata": {},
            "source": [
                "### Проверить правило сложения дисперсий"
            ]
        },
        {
            "cell_type": "code",
            "execution_count": 172,
            "metadata": {},
            "outputs": [
                {
                    "data": {
                        "text/markdown": [
                            "$\\tilde{D}_{Y \\mid X_1, X_2} =$ 68.09"
                        ],
                        "text/plain": [
                            "<IPython.core.display.Markdown object>"
                        ]
                    },
                    "metadata": {},
                    "output_type": "display_data"
                },
                {
                    "data": {
                        "text/markdown": [
                            "$\\tilde{D}_{Y ост} =$ 1.67"
                        ],
                        "text/plain": [
                            "<IPython.core.display.Markdown object>"
                        ]
                    },
                    "metadata": {},
                    "output_type": "display_data"
                },
                {
                    "data": {
                        "text/markdown": [
                            "$\\tilde{D}_{Y общ} =$ 69.76"
                        ],
                        "text/plain": [
                            "<IPython.core.display.Markdown object>"
                        ]
                    },
                    "metadata": {},
                    "output_type": "display_data"
                },
                {
                    "data": {
                        "text/markdown": [
                            "$\\tilde{D}_{Y \\mid X_1, X_2} + \\tilde{D}_{Y ост} = 69.76$"
                        ],
                        "text/plain": [
                            "<IPython.core.display.Markdown object>"
                        ]
                    },
                    "metadata": {},
                    "output_type": "display_data"
                },
                {
                    "name": "stdout",
                    "output_type": "stream",
                    "text": [
                        "True\n"
                    ]
                }
            ],
            "source": [
                "mprint(\n",
                "    f\"$\\\\tilde{{D}}_{{Y \\\\mid X_1, X_2}} =$ {D_YX:.2f}\",\n",
                "    f\"$\\\\tilde{{D}}_{{Y ост}} =$ {D_resY:.2f}\",\n",
                "    f\"$\\\\tilde{{D}}_{{Y общ}} =$ {D_Y:.2f}\",\n",
                "    f\"$\\\\tilde{{D}}_{{Y \\\\mid X_1, X_2}} + \\\\tilde{{D}}_{{Y ост}} = {D_YX + D_resY:.2f}$\",\n",
                ")\n",
                "print(D_YX + D_resY - D_Y < 1e-10)"
            ]
        },
        {
            "cell_type": "markdown",
            "metadata": {},
            "source": [
                "| Показатель | $\\tilde{D}_{Y \\mid X_1, X_2}$ | $\\tilde{D}_{Y\\text{ ост}}$ | $\\tilde{D}_{Y \\text{ общ}}$ | $\\tilde{D}_{Y \\mid X_1, X_2} + \\tilde{D}_{Y\\text{ ост}}$ |\n",
                "| ---------- | ----------------------------- | -------------------------- | --------------------------- | -------------------------------------------------------- |\n",
                "| Значение   | 68.09                         | 1.67                       | 69.76                       | 69.76                                                    |\n"
            ]
        },
        {
            "cell_type": "markdown",
            "metadata": {},
            "source": [
                "### Рассчитать показатели тесноты связи между факторными и результативным признаками"
            ]
        },
        {
            "cell_type": "code",
            "execution_count": 173,
            "metadata": {},
            "outputs": [
                {
                    "data": {
                        "text/markdown": [
                            "$\\tilde{R^2} =$ 0.98"
                        ],
                        "text/plain": [
                            "<IPython.core.display.Markdown object>"
                        ]
                    },
                    "metadata": {},
                    "output_type": "display_data"
                },
                {
                    "data": {
                        "text/markdown": [
                            "$\\tilde{R} =$ 0.99"
                        ],
                        "text/plain": [
                            "<IPython.core.display.Markdown object>"
                        ]
                    },
                    "metadata": {},
                    "output_type": "display_data"
                }
            ],
            "source": [
                "mprint(\n",
                "    f\"$\\\\tilde{{R^2}} =$ {model.rsquared:.2f}\",\n",
                "    f\"$\\\\tilde{{R}} =$ {m.sqrt(model.rsquared):.2f}\",\n",
                ")"
            ]
        },
        {
            "cell_type": "markdown",
            "metadata": {},
            "source": [
                "| Показатель               | Формула расчета                                                                                         | Значение |\n",
                "| ------------------------ | ------------------------------------------------------------------------------------------------------- | -------- |\n",
                "| Коэффициент детерминации | $\\tilde{R^2} = \\dfrac{\\tilde{D}_{Y \\mid X_1, X_2}}{\\tilde{D}_{Y \\text{ общ}}}$                          | 0.98     |\n",
                "| Корреляционное отношение | $\\tilde R = \\sqrt{\\tilde{R^2}} = \\sqrt{\\dfrac{\\tilde{D}_{Y \\mid X_1, X_2}}{\\tilde{D}_{Y \\text{ общ}}}}$ | 0.99     |\n"
            ]
        },
        {
            "cell_type": "markdown",
            "metadata": {},
            "source": [
                "### Охарактеризовать тип связи между факторными и результативным признаками, определяемой рассчитанной линейной регрессией"
            ]
        },
        {
            "cell_type": "markdown",
            "metadata": {},
            "source": [
                "Наблюдается очень сильная (почти функциональная) корреляционная связь между факторными признаками `B1` и `B4` и результативным признаком `B2`."
            ]
        },
        {
            "cell_type": "markdown",
            "metadata": {},
            "source": [
                "<a id=\"94\"></a>"
            ]
        },
        {
            "cell_type": "markdown",
            "metadata": {},
            "source": [
                "## 9.4 Выводы"
            ]
        },
        {
            "cell_type": "markdown",
            "metadata": {},
            "source": [
                "### Сводная таблица показателей вариации для различных регрессионных моделей"
            ]
        },
        {
            "cell_type": "markdown",
            "metadata": {},
            "source": [
                "| Источник вариации   | Простейшая линейная модель          | Линейная модель с квадратичным членом | Множественная линейная модель         |\n",
                "| ------------------- | ----------------------------------- | ------------------------------------- | ------------------------------------- |\n",
                "| Регрессия           | $\\tilde{D}_{Y \\mid X} = 68.06$      | $\\tilde{D}_{Y \\mid X} = 68.30$        | $\\tilde{D}_{Y \\mid X_1, X_2} = 68.09$ |\n",
                "| Остаточные признаки | $\\tilde{D}_{Y\\text{ ост}} = 1.69$   | $\\tilde{D}_{Y\\text{ ост}} = 1.46$     | $\\tilde{D}_{Y\\text{ ост}} = 1.67$     |\n",
                "| Все признаки        | $\\tilde{D}_{Y \\text{ общ}} = 69.76$ | $\\tilde{D}_{Y \\text{ общ}} = 69.76$   | $\\tilde{D}_{Y \\text{ общ}} = 69.76$   |"
            ]
        },
        {
            "cell_type": "markdown",
            "metadata": {},
            "source": [
                "### Сводная таблица свойств различных регрессионных моделей"
            ]
        },
        {
            "cell_type": "markdown",
            "metadata": {},
            "source": [
                "| Свойство              | Простейшая линейная модель | Линейная модель с квадратичным членом | Множественная линейная модель |\n",
                "| --------------------- | -------------------------- | ------------------------------------- | ----------------------------- |\n",
                "| Точность              | Точная                     | Точная                                | Точная                        |\n",
                "| Значимость            | Значимая                   | Значимая                              | Значимая                      |\n",
                "| Адекватность          | Адекватная                 | Неадекватная                          | Неадекватная                  |\n",
                "| Степень тесноты связи | Очень тесная               | Очень тесная                          | Очень тесная                  |\n"
            ]
        },
        {
            "cell_type": "markdown",
            "metadata": {},
            "source": [
                "### Вывод (в терминах предметной области)"
            ]
        },
        {
            "cell_type": "markdown",
            "metadata": {},
            "source": [
                "В результате проведённого в п.9 статистического анализа обнаружено, что результативный признак `B2` имеет очень тесную связь с факторным признаком `B1`. При добавлении в модель факторного признака `B4` связь между результативным признаком и факторными признаками не ухудшилась. Все рассмотренные модели являются адекватными и значимыми."
            ]
        }
    ],
    "metadata": {
        "kernelspec": {
            "display_name": ".venv",
            "language": "python",
            "name": "python3"
        },
        "language_info": {
            "codemirror_mode": {
                "name": "ipython",
                "version": 3
            },
            "file_extension": ".py",
            "mimetype": "text/x-python",
            "name": "python",
            "nbconvert_exporter": "python",
            "pygments_lexer": "ipython3",
            "version": "3.13.0"
        }
    },
    "nbformat": 4,
    "nbformat_minor": 2
}
